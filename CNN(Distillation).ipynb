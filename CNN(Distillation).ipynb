{
 "cells": [
  {
   "cell_type": "code",
   "execution_count": 11,
   "id": "fcf6f82b",
   "metadata": {},
   "outputs": [],
   "source": [
    "import os\n",
    "import numpy as np\n",
    "import matplotlib.pyplot as plt\n",
    "from PIL import Image\n",
    "import torch\n",
    "import torch.nn as nn\n",
    "import torch.optim as optim\n",
    "from torch.utils.data import Dataset, DataLoader, random_split\n",
    "import torchvision.transforms as transforms\n",
    "from torchvision import models\n",
    "from sklearn.metrics import accuracy_score, precision_score, recall_score, f1_score, confusion_matrix\n",
    "import time\n",
    "from tqdm.notebook import tqdm  # Use tqdm.notebook for Jupyter\n",
    "import albumentations as A\n",
    "from albumentations.pytorch import ToTensorV2\n",
    "import cv2\n",
    "import seaborn as sns\n",
    "import torch.nn.functional as F"
   ]
  },
  {
   "cell_type": "code",
   "execution_count": 20,
   "id": "2d1bb61d",
   "metadata": {},
   "outputs": [
    {
     "name": "stdout",
     "output_type": "stream",
     "text": [
      "Using device: cuda\n"
     ]
    }
   ],
   "source": [
    "# Set random seeds for reproducibility\n",
    "def set_seed(seed=42):\n",
    "    np.random.seed(seed)\n",
    "    torch.manual_seed(seed)\n",
    "    if torch.cuda.is_available():\n",
    "        torch.cuda.manual_seed(seed)\n",
    "        torch.cuda.manual_seed_all(seed)\n",
    "    torch.backends.cudnn.deterministic = True\n",
    "    torch.backends.cudnn.benchmark = False\n",
    "\n",
    "set_seed()\n",
    "\n",
    "# Check for GPU\n",
    "device = torch.device('cuda' if torch.cuda.is_available() else 'cpu')\n",
    "print(f\"Using device: {device}\")\n",
    "\n",
    "# Dataset class for GasHisSDB with Albumentations support\n",
    "class GasHisSDBDataset(Dataset):\n",
    "    def __init__(self, root_dir, transform=None):\n",
    "        \"\"\"\n",
    "        Args:\n",
    "            root_dir (string): Directory with all the images.\n",
    "            transform: Albumentations transform pipeline\n",
    "        \"\"\"\n",
    "        self.root_dir = root_dir\n",
    "        self.transform = transform\n",
    "        self.classes = ['normal', 'abnormal']\n",
    "        self.class_to_idx = {cls: idx for idx, cls in enumerate(self.classes)}\n",
    "        \n",
    "        self.samples = []\n",
    "        \n",
    "        # Collect samples\n",
    "        for class_name in self.classes:\n",
    "            class_dir = os.path.join(root_dir, class_name)\n",
    "            if not os.path.isdir(class_dir):\n",
    "                print(f\"Warning: Directory {class_dir} does not exist or is not accessible\")\n",
    "                continue\n",
    "                \n",
    "            for img_name in os.listdir(class_dir):\n",
    "                if img_name.endswith(('.png', '.jpg', '.jpeg', '.tif', '.tiff')):\n",
    "                    self.samples.append((\n",
    "                        os.path.join(class_dir, img_name),\n",
    "                        self.class_to_idx[class_name]\n",
    "                    ))\n",
    "        \n",
    "        # Print dataset statistics\n",
    "        self.normal_count = sum(1 for _, label in self.samples if label == 0)\n",
    "        self.abnormal_count = sum(1 for _, label in self.samples if label == 1)\n",
    "        print(f\"Dataset loaded with {len(self.samples)} images:\")\n",
    "        print(f\"  - Normal: {self.normal_count}\")\n",
    "        print(f\"  - Abnormal: {self.abnormal_count}\")\n",
    "        \n",
    "        # Safely calculate ratio\n",
    "        if self.normal_count > 0:\n",
    "            print(f\"  - Ratio (Abnormal:Normal): {self.abnormal_count/self.normal_count:.2f}:1\")\n",
    "        else:\n",
    "            print(\"  - Ratio: Cannot calculate (no normal samples found)\")\n",
    "        \n",
    "    def __len__(self):\n",
    "        return len(self.samples)\n",
    "    \n",
    "    def __getitem__(self, idx):\n",
    "        img_path, label = self.samples[idx]\n",
    "        \n",
    "        # Load image with OpenCV for Albumentations compatibility\n",
    "        try:\n",
    "            # Read as BGR and convert to RGB\n",
    "            image = cv2.imread(img_path)\n",
    "            if image is None:\n",
    "                print(f\"Error loading image {img_path}\")\n",
    "                # Return a placeholder black image and the label\n",
    "                image = np.zeros((60, 60, 3), dtype=np.uint8)\n",
    "            else:\n",
    "                image = cv2.cvtColor(image, cv2.COLOR_BGR2RGB)\n",
    "        except Exception as e:\n",
    "            print(f\"Error loading image {img_path}: {e}\")\n",
    "            # Return a placeholder black image and the label\n",
    "            image = np.zeros((60, 60, 3), dtype=np.uint8)\n",
    "        \n",
    "        if self.transform:\n",
    "            augmented = self.transform(image=image)\n",
    "            image = augmented['image']\n",
    "            \n",
    "        return image, label\n",
    "\n",
    "# Student Model: A smaller CNN suitable for 60x60 images\n",
    "class StudentGastricCNN(nn.Module):\n",
    "    def __init__(self, num_classes=2):\n",
    "        super(StudentGastricCNN, self).__init__()\n",
    "        \n",
    "        # Convolutional layers - fewer filters than teacher\n",
    "        self.conv1 = nn.Conv2d(3, 16, kernel_size=3, padding=1)\n",
    "        self.bn1 = nn.BatchNorm2d(16)\n",
    "        self.relu1 = nn.ReLU(inplace=True)\n",
    "        self.pool1 = nn.MaxPool2d(kernel_size=2, stride=2)\n",
    "        \n",
    "        self.conv2 = nn.Conv2d(16, 32, kernel_size=3, padding=1)\n",
    "        self.bn2 = nn.BatchNorm2d(32)\n",
    "        self.relu2 = nn.ReLU(inplace=True)\n",
    "        self.pool2 = nn.MaxPool2d(kernel_size=2, stride=2)\n",
    "        \n",
    "        self.conv3 = nn.Conv2d(32, 64, kernel_size=3, padding=1)\n",
    "        self.bn3 = nn.BatchNorm2d(64)\n",
    "        self.relu3 = nn.ReLU(inplace=True)\n",
    "        self.pool3 = nn.MaxPool2d(kernel_size=2, stride=2)\n",
    "        \n",
    "        # After 3 pooling layers with stride 2: 60 -> 30 -> 15 -> 7\n",
    "        # Calculate flattened size\n",
    "        flattened_size = 64 * 7 * 7  # 3,136\n",
    "        \n",
    "        # Fully connected layers - fewer neurons, fewer layers\n",
    "        self.fc_layers = nn.Sequential(\n",
    "            # FC Layer 1: 3,136 -> 512\n",
    "            nn.Linear(flattened_size, 512),\n",
    "            nn.BatchNorm1d(512),\n",
    "            nn.ReLU(inplace=True),\n",
    "            nn.Dropout(0.5),\n",
    "            \n",
    "            # FC Layer 2: 512 -> 128\n",
    "            nn.Linear(512, 128),\n",
    "            nn.BatchNorm1d(128),\n",
    "            nn.ReLU(inplace=True),\n",
    "            nn.Dropout(0.3),\n",
    "            \n",
    "            # FC Layer 3: 128 -> 32\n",
    "            nn.Linear(128, 32),\n",
    "            nn.BatchNorm1d(32),\n",
    "            nn.ReLU(inplace=True),\n",
    "            nn.Dropout(0.2),\n",
    "            \n",
    "            # Output Layer: 32 -> num_classes\n",
    "            nn.Linear(32, num_classes)\n",
    "        )\n",
    "        \n",
    "    def forward(self, x):\n",
    "        # Store intermediate activations\n",
    "        self.intermediate_activations = {}\n",
    "        \n",
    "        # Convolutional layers\n",
    "        x = self.pool1(self.relu1(self.bn1(self.conv1(x))))\n",
    "        self.intermediate_activations['conv1'] = x\n",
    "        \n",
    "        x = self.pool2(self.relu2(self.bn2(self.conv2(x))))\n",
    "        self.intermediate_activations['conv2'] = x\n",
    "        \n",
    "        x = self.pool3(self.relu3(self.bn3(self.conv3(x))))\n",
    "        self.intermediate_activations['conv3'] = x\n",
    "        \n",
    "        # Flatten\n",
    "        x = x.view(x.size(0), -1)\n",
    "        \n",
    "        # Fully connected layers\n",
    "        x = self.fc_layers(x)\n",
    "        \n",
    "        return x\n",
    "\n",
    "# Create a lighter ResNet-based student model\n",
    "def create_student_resnet_model(num_classes=2):\n",
    "    # Start with a ResNet18 as the base because it's smaller\n",
    "    model = models.resnet18(pretrained=True)\n",
    "    \n",
    "    # Replace the first convolutional layer to work with smaller input size if needed\n",
    "    model.conv1 = nn.Conv2d(3, 64, kernel_size=3, stride=1, padding=1, bias=False)\n",
    "    \n",
    "    # Remove the first maxpool to keep more spatial information for smaller images\n",
    "    model.maxpool = nn.Identity()\n",
    "    \n",
    "    # Freeze early layers\n",
    "    for param in list(model.parameters())[:-20]:  # Freeze more layers than the teacher\n",
    "        param.requires_grad = False\n",
    "    \n",
    "    # Replace with smaller FC layers\n",
    "    num_ftrs = model.fc.in_features\n",
    "    model.fc = nn.Sequential(\n",
    "        # FC Layer 1: num_ftrs -> 512\n",
    "        nn.Linear(num_ftrs, 512),\n",
    "        nn.BatchNorm1d(512),\n",
    "        nn.ReLU(inplace=True),\n",
    "        nn.Dropout(0.5),\n",
    "        \n",
    "        # FC Layer 2: 512 -> 128\n",
    "        nn.Linear(512, 128),\n",
    "        nn.BatchNorm1d(128),\n",
    "        nn.ReLU(inplace=True),\n",
    "        nn.Dropout(0.3),\n",
    "        \n",
    "        # FC Layer 3: 128 -> 32\n",
    "        nn.Linear(128, 32),\n",
    "        nn.BatchNorm1d(32),\n",
    "        nn.ReLU(inplace=True),\n",
    "        nn.Dropout(0.2),\n",
    "        \n",
    "        # Output Layer: 32 -> num_classes\n",
    "        nn.Linear(32, num_classes)\n",
    "    )\n",
    "    \n",
    "    # Initialize model intermediate activations\n",
    "    model.intermediate_activations = {}\n",
    "    \n",
    "    # Add hooks to capture intermediate activations\n",
    "    def get_layer_activation(name):\n",
    "        def hook(module, input, output):\n",
    "            model.intermediate_activations[name] = output\n",
    "        return hook\n",
    "    \n",
    "    # Register hooks for feature maps\n",
    "    model.layer1.register_forward_hook(get_layer_activation('layer1'))\n",
    "    model.layer2.register_forward_hook(get_layer_activation('layer2'))\n",
    "    model.layer3.register_forward_hook(get_layer_activation('layer3'))\n",
    "    model.layer4.register_forward_hook(get_layer_activation('layer4'))\n",
    "    \n",
    "    return model\n",
    "\n",
    "# Define a teacher ResNet model without loading weights (we'll train it briefly)\n",
    "def create_teacher_resnet_model(num_classes=2):\n",
    "    model = models.resnet18(pretrained=True)\n",
    "    \n",
    "    # Get the number of features from the last layer\n",
    "    num_ftrs = model.fc.in_features\n",
    "    \n",
    "    # Replace with standard FC layers for simplicity\n",
    "    model.fc = nn.Sequential(\n",
    "        nn.Linear(num_ftrs, 512),\n",
    "        nn.BatchNorm1d(512),\n",
    "        nn.ReLU(inplace=True),\n",
    "        nn.Dropout(0.5),\n",
    "        \n",
    "        nn.Linear(512, 128),\n",
    "        nn.BatchNorm1d(128),\n",
    "        nn.ReLU(inplace=True),\n",
    "        nn.Dropout(0.3),\n",
    "        \n",
    "        nn.Linear(128, num_classes)\n",
    "    )\n",
    "    \n",
    "    return model\n",
    "\n",
    "# Define augmentations for histopathology images\n",
    "def get_albumentation_transforms():\n",
    "    # Train transforms for 60x60 images (student)\n",
    "    student_train_transform = A.Compose([\n",
    "        # Spatial augmentations\n",
    "        A.Resize(60, 60),\n",
    "        A.HorizontalFlip(p=0.5),\n",
    "        A.VerticalFlip(p=0.5),\n",
    "        A.ShiftScaleRotate(shift_limit=0.1, scale_limit=0.2, rotate_limit=30, p=0.5),\n",
    "        \n",
    "        # Color augmentations for H&E stained images\n",
    "        A.RandomBrightnessContrast(brightness_limit=0.2, contrast_limit=0.2, p=0.7),\n",
    "        \n",
    "        # Add some noise occasionally\n",
    "        A.GaussNoise(var_limit=(10, 50), p=0.3),\n",
    "        \n",
    "        # Normalize and convert to tensor\n",
    "        A.Normalize(mean=[0.485, 0.456, 0.406], std=[0.229, 0.224, 0.225]),\n",
    "        ToTensorV2(),\n",
    "    ])\n",
    "    \n",
    "    # Train transforms for 120x120 images (teacher)\n",
    "    teacher_train_transform = A.Compose([\n",
    "        # Spatial augmentations\n",
    "        A.Resize(120, 120),\n",
    "        A.HorizontalFlip(p=0.5),\n",
    "        A.VerticalFlip(p=0.5),\n",
    "        A.ShiftScaleRotate(shift_limit=0.1, scale_limit=0.2, rotate_limit=30, p=0.5),\n",
    "        \n",
    "        # Color augmentations for H&E stained images\n",
    "        A.RandomBrightnessContrast(brightness_limit=0.2, contrast_limit=0.2, p=0.7),\n",
    "        \n",
    "        # Add some noise occasionally\n",
    "        A.GaussNoise(var_limit=(10, 50), p=0.3),\n",
    "        \n",
    "        # Normalize and convert to tensor\n",
    "        A.Normalize(mean=[0.485, 0.456, 0.406], std=[0.229, 0.224, 0.225]),\n",
    "        ToTensorV2(),\n",
    "    ])\n",
    "    \n",
    "    # Simple transform for validation/test\n",
    "    student_eval_transform = A.Compose([\n",
    "        A.Resize(60, 60),\n",
    "        A.Normalize(mean=[0.485, 0.456, 0.406], std=[0.229, 0.224, 0.225]),\n",
    "        ToTensorV2(),\n",
    "    ])\n",
    "    \n",
    "    teacher_eval_transform = A.Compose([\n",
    "        A.Resize(120, 120),\n",
    "        A.Normalize(mean=[0.485, 0.456, 0.406], std=[0.229, 0.224, 0.225]),\n",
    "        ToTensorV2(),\n",
    "    ])\n",
    "    \n",
    "    return student_train_transform, student_eval_transform, teacher_train_transform, teacher_eval_transform\n",
    "\n",
    "# Class for knowledge distillation loss\n",
    "class DistillationLoss(nn.Module):\n",
    "    def __init__(self, alpha=0.5, temperature=4.0):\n",
    "        \"\"\"\n",
    "        Args:\n",
    "            alpha: weight for the distillation loss\n",
    "            temperature: temperature for the soft targets\n",
    "        \"\"\"\n",
    "        super(DistillationLoss, self).__init__()\n",
    "        self.alpha = alpha\n",
    "        self.temperature = temperature\n",
    "        self.ce_loss = nn.CrossEntropyLoss()\n",
    "        \n",
    "    def forward(self, student_outputs, teacher_outputs, targets):\n",
    "        \"\"\"\n",
    "        Args:\n",
    "            student_outputs: logits from the student model\n",
    "            teacher_outputs: logits from the teacher model\n",
    "            targets: true labels\n",
    "        \"\"\"\n",
    "        # Hard target loss - standard cross-entropy with true labels\n",
    "        hard_loss = self.ce_loss(student_outputs, targets)\n",
    "        \n",
    "        # Soft target loss - KL divergence between softened distributions\n",
    "        soft_student = F.log_softmax(student_outputs / self.temperature, dim=1)\n",
    "        soft_teacher = F.softmax(teacher_outputs / self.temperature, dim=1)\n",
    "        soft_loss = F.kl_div(soft_student, soft_teacher, reduction='batchmean') * (self.temperature ** 2)\n",
    "        \n",
    "        # Combined loss\n",
    "        return (1 - self.alpha) * hard_loss + self.alpha * soft_loss\n",
    "\n",
    "# Helper class for applying transforms to subsets\n",
    "class TransformedSubset(Dataset):\n",
    "    \"\"\"Apply transform to a subset of a dataset\"\"\"\n",
    "    def __init__(self, subset, transform=None):\n",
    "        self.subset = subset\n",
    "        self.transform = transform\n",
    "        \n",
    "    def __getitem__(self, idx):\n",
    "        x, y = self.subset[idx]\n",
    "        if self.transform:\n",
    "            augmented = self.transform(image=x)\n",
    "            x = augmented['image']\n",
    "        return x, y\n",
    "        \n",
    "    def __len__(self):\n",
    "        return len(self.subset)\n",
    "\n",
    "# Function to evaluate the model\n",
    "def evaluate_model(model, test_loader):\n",
    "    model.eval()\n",
    "    \n",
    "    all_preds = []\n",
    "    all_labels = []\n",
    "    all_probs = []\n",
    "    \n",
    "    with torch.no_grad():\n",
    "        for inputs, labels in tqdm(test_loader, desc='Testing'):\n",
    "            inputs = inputs.to(device)\n",
    "            labels = labels.to(device)\n",
    "            \n",
    "            outputs = model(inputs)\n",
    "            probs = torch.softmax(outputs, dim=1)\n",
    "            _, preds = torch.max(outputs, 1)\n",
    "            \n",
    "            all_preds.extend(preds.cpu().numpy())\n",
    "            all_labels.extend(labels.cpu().numpy())\n",
    "            all_probs.extend(probs.cpu().numpy())\n",
    "    \n",
    "    all_probs = np.array(all_probs)\n",
    "    \n",
    "    # Calculate metrics\n",
    "    acc = accuracy_score(all_labels, all_preds)\n",
    "    \n",
    "    # Handle case where a class might not be present in the predictions\n",
    "    try:\n",
    "        precision = precision_score(all_labels, all_preds, average='weighted')\n",
    "        recall = recall_score(all_labels, all_preds, average='weighted')\n",
    "        f1 = f1_score(all_labels, all_preds, average='weighted')\n",
    "        \n",
    "        # Calculate class-specific metrics if both classes are present\n",
    "        class_labels = sorted(list(set(all_labels)))\n",
    "        if len(class_labels) > 1:\n",
    "            precision_per_class = precision_score(all_labels, all_preds, average=None)\n",
    "            recall_per_class = recall_score(all_labels, all_preds, average=None)\n",
    "            f1_per_class = f1_score(all_labels, all_preds, average=None)\n",
    "            \n",
    "            precision_normal = precision_per_class[0] if 0 in class_labels else 0\n",
    "            precision_abnormal = precision_per_class[1] if 1 in class_labels else 0\n",
    "            recall_normal = recall_per_class[0] if 0 in class_labels else 0\n",
    "            recall_abnormal = recall_per_class[1] if 1 in class_labels else 0\n",
    "            f1_normal = f1_per_class[0] if 0 in class_labels else 0\n",
    "            f1_abnormal = f1_per_class[1] if 1 in class_labels else 0\n",
    "        else:\n",
    "            print(\"Warning: Only one class present in test set\")\n",
    "            precision_normal = 0\n",
    "            precision_abnormal = 0\n",
    "            recall_normal = 0\n",
    "            recall_abnormal = 0\n",
    "            f1_normal = 0\n",
    "            f1_abnormal = 0\n",
    "    except:\n",
    "        print(\"Warning: Error calculating precision/recall/f1 - check class balance\")\n",
    "        precision = 0\n",
    "        recall = 0\n",
    "        f1 = 0\n",
    "        precision_normal = 0\n",
    "        precision_abnormal = 0\n",
    "        recall_normal = 0\n",
    "        recall_abnormal = 0\n",
    "        f1_normal = 0\n",
    "        f1_abnormal = 0\n",
    "    \n",
    "    # Calculate confusion matrix\n",
    "    cm = confusion_matrix(all_labels, all_preds)\n",
    "    \n",
    "    print(f'Test Accuracy: {acc:.4f}')\n",
    "    print(f'Precision: {precision:.4f} (Normal: {precision_normal:.4f}, Abnormal: {precision_abnormal:.4f})')\n",
    "    print(f'Recall: {recall:.4f} (Normal: {recall_normal:.4f}, Abnormal: {recall_abnormal:.4f})')\n",
    "    print(f'F1 Score: {f1:.4f} (Normal: {f1_normal:.4f}, Abnormal: {f1_abnormal:.4f})')\n",
    "    print('\\nConfusion Matrix:')\n",
    "    print(cm)\n",
    "    \n",
    "    return {\n",
    "        'accuracy': acc,\n",
    "        'precision': precision,\n",
    "        'recall': recall,\n",
    "        'f1': f1,\n",
    "        'precision_normal': precision_normal,\n",
    "        'precision_abnormal': precision_abnormal,\n",
    "        'recall_normal': recall_normal,\n",
    "        'recall_abnormal': recall_abnormal,\n",
    "        'f1_normal': f1_normal,\n",
    "        'f1_abnormal': f1_abnormal,\n",
    "        'confusion_matrix': cm,\n",
    "        'predictions': all_preds,\n",
    "        'true_labels': all_labels,\n",
    "        'probabilities': all_probs\n",
    "    }\n",
    "\n",
    "# Function to plot the training history\n",
    "def plot_training_history(history):\n",
    "    plt.figure(figsize=(15, 5))\n",
    "    \n",
    "    plt.subplot(1, 3, 1)\n",
    "    plt.plot(history['train_loss'], label='Train Loss')\n",
    "    plt.plot(history['val_loss'], label='Validation Loss')\n",
    "    plt.title('Model Loss')\n",
    "    plt.ylabel('Loss')\n",
    "    plt.xlabel('Epoch')\n",
    "    plt.legend()\n",
    "    plt.grid(True, linestyle='--', alpha=0.7)\n",
    "    \n",
    "    plt.subplot(1, 3, 2)\n",
    "    plt.plot(history['train_acc'], label='Train Accuracy')\n",
    "    plt.plot(history['val_acc'], label='Validation Accuracy')\n",
    "    plt.title('Model Accuracy')\n",
    "    plt.ylabel('Accuracy')\n",
    "    plt.xlabel('Epoch')\n",
    "    plt.legend()\n",
    "    plt.grid(True, linestyle='--', alpha=0.7)\n",
    "    \n",
    "    plt.subplot(1, 3, 3)\n",
    "    plt.plot(history['train_f1'], label='Train F1')\n",
    "    plt.plot(history['val_f1'], label='Validation F1')\n",
    "    plt.title('Model F1 Score')\n",
    "    plt.ylabel('F1 Score')\n",
    "    plt.xlabel('Epoch')\n",
    "    plt.legend()\n",
    "    plt.grid(True, linestyle='--', alpha=0.7)\n",
    "    \n",
    "    plt.tight_layout()\n",
    "    plt.savefig('training_history.png')\n",
    "    plt.show()\n",
    "\n",
    "# Function to plot confusion matrix\n",
    "def plot_confusion_matrix(cm, classes=['Normal', 'Abnormal']):\n",
    "    plt.figure(figsize=(8, 6))\n",
    "    \n",
    "    # Calculate metrics from confusion matrix\n",
    "    total = np.sum(cm)\n",
    "    accuracy = (cm[0, 0] + cm[1, 1]) / total if total > 0 else 0\n",
    "    \n",
    "    # Calculate other metrics (handle division by zero)\n",
    "    precision_normal = cm[0, 0] / (cm[0, 0] + cm[1, 0]) if (cm[0, 0] + cm[1, 0]) > 0 else 0\n",
    "    precision_abnormal = cm[1, 1] / (cm[0, 1] + cm[1, 1]) if (cm[0, 1] + cm[1, 1]) > 0 else 0\n",
    "    \n",
    "    recall_normal = cm[0, 0] / (cm[0, 0] + cm[0, 1]) if (cm[0, 0] + cm[0, 1]) > 0 else 0\n",
    "    recall_abnormal = cm[1, 1] / (cm[1, 0] + cm[1, 1]) if (cm[1, 0] + cm[1, 1]) > 0 else 0\n",
    "    \n",
    "    # Plot confusion matrix with seaborn for better styling\n",
    "    sns.heatmap(cm, annot=True, fmt='d', cmap='Blues', cbar=True,\n",
    "               xticklabels=classes, yticklabels=classes)\n",
    "    \n",
    "    plt.title(f'Confusion Matrix\\nAccuracy: {accuracy:.3f}\\n' +\n",
    "              f'Normal - Precision: {precision_normal:.3f}, Recall: {recall_normal:.3f}\\n' +\n",
    "              f'Abnormal - Precision: {precision_abnormal:.3f}, Recall: {recall_abnormal:.3f}')\n",
    "    plt.ylabel('True label')\n",
    "    plt.xlabel('Predicted label')\n",
    "    plt.tight_layout()\n",
    "    plt.savefig('confusion_matrix.png')\n",
    "    plt.show()\n",
    "\n",
    "# Function to train teacher model briefly\n",
    "def train_teacher_model(teacher_model, train_loader, val_loader, num_epochs=5):\n",
    "    criterion = nn.CrossEntropyLoss()\n",
    "    optimizer = optim.Adam(teacher_model.parameters(), lr=0.001)\n",
    "    \n",
    "    # History for plotting\n",
    "    history = {\n",
    "        'train_loss': [],\n",
    "        'train_acc': [],\n",
    "        'val_loss': [],\n",
    "        'val_acc': []\n",
    "    }\n",
    "    \n",
    "    # Train the model\n",
    "    for epoch in range(num_epochs):\n",
    "        print(f'Epoch {epoch+1}/{num_epochs}')\n",
    "        \n",
    "        # Training phase\n",
    "        teacher_model.train()\n",
    "        running_loss = 0.0\n",
    "        running_corrects = 0\n",
    "        \n",
    "        for inputs, labels in tqdm(train_loader, desc='Training Teacher'):\n",
    "            inputs = inputs.to(device)\n",
    "            labels = labels.to(device)\n",
    "            \n",
    "            optimizer.zero_grad()\n",
    "            \n",
    "            with torch.set_grad_enabled(True):\n",
    "                outputs = teacher_model(inputs)\n",
    "                _, preds = torch.max(outputs, 1)\n",
    "                loss = criterion(outputs, labels)\n",
    "                \n",
    "                loss.backward()\n",
    "                optimizer.step()\n",
    "            \n",
    "            running_loss += loss.item() * inputs.size(0)\n",
    "            running_corrects += torch.sum(preds == labels.data)\n",
    "        \n",
    "        epoch_loss = running_loss / len(train_loader.dataset)\n",
    "        epoch_acc = running_corrects.double() / len(train_loader.dataset)\n",
    "        \n",
    "        print(f'Train Loss: {epoch_loss:.4f} Acc: {epoch_acc:.4f}')\n",
    "        \n",
    "        # Validation phase\n",
    "        teacher_model.eval()\n",
    "        running_loss = 0.0\n",
    "        running_corrects = 0\n",
    "        \n",
    "        for inputs, labels in tqdm(val_loader, desc='Validating Teacher'):\n",
    "            inputs = inputs.to(device)\n",
    "            labels = labels.to(device)\n",
    "            \n",
    "            with torch.no_grad():\n",
    "                outputs = teacher_model(inputs)\n",
    "                _, preds = torch.max(outputs, 1)\n",
    "                loss = criterion(outputs, labels)\n",
    "            \n",
    "            running_loss += loss.item() * inputs.size(0)\n",
    "            running_corrects += torch.sum(preds == labels.data)\n",
    "        \n",
    "        epoch_loss = running_loss / len(val_loader.dataset)\n",
    "        epoch_acc = running_corrects.double() / len(val_loader.dataset)\n",
    "        \n",
    "        print(f'Val Loss: {epoch_loss:.4f} Acc: {epoch_acc:.4f}')\n",
    "        \n",
    "        # Record history\n",
    "        history['train_loss'].append(epoch_loss)\n",
    "        history['train_acc'].append(epoch_acc.item())\n",
    "        history['val_loss'].append(epoch_loss)\n",
    "        history['val_acc'].append(epoch_acc.item())\n",
    "        \n",
    "        print()\n",
    "    \n",
    "    return teacher_model, history\n",
    "\n",
    "# Train the student model with knowledge distillation\n",
    "def train_student_with_distillation(student_model, teacher_model, train_loader, val_loader, \n",
    "                                    alpha=0.5, temperature=4.0, num_epochs=20):\n",
    "    # Knowledge distillation loss\n",
    "    distill_loss = DistillationLoss(alpha=alpha, temperature=temperature)\n",
    "    print(f\"Using distillation with alpha={alpha}, temperature={temperature}\")\n",
    "    \n",
    "    # Optimizer and scheduler\n",
    "    optimizer = optim.Adam(student_model.parameters(), lr=0.001, weight_decay=1e-5)\n",
    "    scheduler = optim.lr_scheduler.ReduceLROnPlateau(\n",
    "        optimizer, mode='min', factor=0.1, patience=5, verbose=True\n",
    "    )\n",
    "    \n",
    "    # History for plotting\n",
    "    history = {\n",
    "        'train_loss': [],\n",
    "        'train_acc': [],\n",
    "        'train_f1': [],\n",
    "        'val_loss': [],\n",
    "        'val_acc': [],\n",
    "        'val_f1': []\n",
    "    }\n",
    "    \n",
    "    # Track best model\n",
    "    best_model_wts = student_model.state_dict()\n",
    "    best_acc = 0.0\n",
    "    best_f1 = 0.0\n",
    "    \n",
    "    for epoch in range(num_epochs):\n",
    "        print(f'Epoch {epoch+1}/{num_epochs}')\n",
    "        print('-' * 10)\n",
    "        \n",
    "        # Training phase\n",
    "        student_model.train()\n",
    "        teacher_model.eval()  # Teacher model is always in eval mode\n",
    "        \n",
    "        running_loss = 0.0\n",
    "        running_corrects = 0\n",
    "        all_preds = []\n",
    "        all_labels = []\n",
    "        \n",
    "        # Iterate over data\n",
    "        for inputs, labels in tqdm(train_loader, desc='Training Student'):\n",
    "            inputs = inputs.to(device)\n",
    "            labels = labels.to(device)\n",
    "            \n",
    "            # Resize input for teacher model\n",
    "            teacher_inputs = F.interpolate(inputs, size=(120, 120), mode='bilinear', align_corners=False)\n",
    "            \n",
    "            # Zero the parameter gradients\n",
    "            optimizer.zero_grad()\n",
    "            \n",
    "            # Forward pass\n",
    "            with torch.set_grad_enabled(True):\n",
    "                # Get teacher predictions (no grad needed)\n",
    "                with torch.no_grad():\n",
    "                    teacher_outputs = teacher_model(teacher_inputs)\n",
    "                \n",
    "                # Get student predictions\n",
    "                student_outputs = student_model(inputs)\n",
    "                _, preds = torch.max(student_outputs, 1)\n",
    "                \n",
    "                # Calculate loss\n",
    "                loss = distill_loss(student_outputs, teacher_outputs, labels)\n",
    "                \n",
    "                # Backward + optimize\n",
    "                loss.backward()\n",
    "                optimizer.step()\n",
    "            \n",
    "            # Statistics\n",
    "            running_loss += loss.item() * inputs.size(0)\n",
    "            running_corrects += torch.sum(preds == labels.data)\n",
    "            \n",
    "            # Collect predictions and labels for F1 score\n",
    "            all_preds.extend(preds.cpu().numpy())\n",
    "            all_labels.extend(labels.cpu().numpy())\n",
    "        \n",
    "        epoch_loss = running_loss / len(train_loader.dataset)\n",
    "        epoch_acc = running_corrects.double() / len(train_loader.dataset)\n",
    "        \n",
    "        # Calculate F1 score\n",
    "        try:\n",
    "            epoch_f1 = f1_score(all_labels, all_preds, average='weighted')\n",
    "        except:\n",
    "            epoch_f1 = 0.0\n",
    "            print(\"Warning: F1 score calculation failed - likely missing class in predictions\")\n",
    "        \n",
    "        print(f'Train Loss: {epoch_loss:.4f} Acc: {epoch_acc:.4f} F1: {epoch_f1:.4f}')\n",
    "        \n",
    "        # Record history\n",
    "        history['train_loss'].append(epoch_loss)\n",
    "        history['train_acc'].append(epoch_acc.item())\n",
    "        history['train_f1'].append(epoch_f1)\n",
    "        \n",
    "        # Validation phase\n",
    "        student_model.eval()\n",
    "        running_loss = 0.0\n",
    "        running_corrects = 0\n",
    "        all_preds = []\n",
    "        all_labels = []\n",
    "        \n",
    "        # Iterate over validation data\n",
    "        for inputs, labels in tqdm(val_loader, desc='Validating Student'):\n",
    "            inputs = inputs.to(device)\n",
    "            labels = labels.to(device)\n",
    "            \n",
    "            # Forward pass\n",
    "            with torch.no_grad():\n",
    "                outputs = student_model(inputs)\n",
    "                _, preds = torch.max(outputs, 1)\n",
    "                loss = nn.CrossEntropyLoss()(outputs, labels)\n",
    "            \n",
    "            # Statistics\n",
    "            running_loss += loss.item() * inputs.size(0)\n",
    "            running_corrects += torch.sum(preds == labels.data)\n",
    "            \n",
    "            # Collect predictions and labels for F1 score\n",
    "            all_preds.extend(preds.cpu().numpy())\n",
    "            all_labels.extend(labels.cpu().numpy())\n",
    "        \n",
    "        epoch_loss = running_loss / len(val_loader.dataset)\n",
    "        epoch_acc = running_corrects.double() / len(val_loader.dataset)\n",
    "        \n",
    "        # Calculate F1 score\n",
    "        try:\n",
    "            epoch_f1 = f1_score(all_labels, all_preds, average='weighted')\n",
    "        except:\n",
    "            epoch_f1 = 0.0\n",
    "            print(\"Warning: F1 score calculation failed - likely missing class in predictions\")\n",
    "        \n",
    "        print(f'Val Loss: {epoch_loss:.4f} Acc: {epoch_acc:.4f} F1: {epoch_f1:.4f}')\n",
    "        \n",
    "        # Record history\n",
    "        history['val_loss'].append(epoch_loss)\n",
    "        history['val_acc'].append(epoch_acc.item())\n",
    "        history['val_f1'].append(epoch_f1)\n",
    "        \n",
    "        # Learning rate scheduling\n",
    "        scheduler.step(epoch_loss)\n",
    "        \n",
    "        # Deep copy the model if it's the best based on F1 score\n",
    "        if epoch_f1 > best_f1:\n",
    "            best_f1 = epoch_f1\n",
    "            best_acc = epoch_acc\n",
    "            best_model_wts = student_model.state_dict().copy()\n",
    "            print(f\"New best model (F1: {best_f1:.4f})\")\n",
    "        \n",
    "        print()\n",
    "    \n",
    "    # Load best model weights\n",
    "    student_model.load_state_dict(best_model_wts)\n",
    "    return student_model, history\n",
    "\n",
    "# Main execution function for knowledge distillation\n",
    "def run_knowledge_distillation_from_scratch(data_dir, batch_size=32, num_epochs=20, \n",
    "                                  model_type='resnet', alpha=0.5, temperature=4.0):\n",
    "    \"\"\"\n",
    "    Perform knowledge distillation from a teacher model to a student model,\n",
    "    training the teacher model from scratch rather than loading it from a file\n",
    "    \n",
    "    Args:\n",
    "        data_dir: Directory containing the dataset\n",
    "        batch_size: Batch size for training\n",
    "        num_epochs: Number of epochs to train student\n",
    "        model_type: 'custom' or 'resnet'\n",
    "        alpha: Weight for distillation loss (between 0 and 1)\n",
    "        temperature: Temperature for softening probability distributions\n",
    "    \"\"\"\n",
    "    # Get transforms for student (60x60) and teacher (120x120)\n",
    "    student_train_transform, student_eval_transform, teacher_train_transform, teacher_eval_transform = get_albumentation_transforms()\n",
    "    \n",
    "    # Create dataset\n",
    "    dataset = GasHisSDBDataset(root_dir=data_dir)\n",
    "    \n",
    "    # Split dataset\n",
    "    dataset_size = len(dataset)\n",
    "    train_size = int(0.7 * dataset_size)\n",
    "    val_size = int(0.15 * dataset_size)\n",
    "    test_size = dataset_size - train_size - val_size\n",
    "    \n",
    "    # Random split with fixed seed for reproducibility\n",
    "    train_subset, val_subset, test_subset = random_split(\n",
    "        dataset, [train_size, val_size, test_size], \n",
    "        generator=torch.Generator().manual_seed(42)\n",
    "    )\n",
    "    \n",
    "    # Create transformed datasets\n",
    "    train_dataset_teacher = TransformedSubset(train_subset, teacher_train_transform)\n",
    "    val_dataset_teacher = TransformedSubset(val_subset, teacher_eval_transform)\n",
    "    \n",
    "    train_dataset_student = TransformedSubset(train_subset, student_train_transform)\n",
    "    val_dataset_student = TransformedSubset(val_subset, student_eval_transform)\n",
    "    test_dataset_student = TransformedSubset(test_subset, student_eval_transform)\n",
    "    \n",
    "    # Create data loaders\n",
    "    train_loader_teacher = DataLoader(train_dataset_teacher, batch_size=batch_size, shuffle=True, num_workers=4)\n",
    "    val_loader_teacher = DataLoader(val_dataset_teacher, batch_size=batch_size, shuffle=False, num_workers=4)\n",
    "    \n",
    "    train_loader_student = DataLoader(train_dataset_student, batch_size=batch_size, shuffle=True, num_workers=4)\n",
    "    val_loader_student = DataLoader(val_dataset_student, batch_size=batch_size, shuffle=False, num_workers=4)\n",
    "    test_loader_student = DataLoader(test_dataset_student, batch_size=batch_size, shuffle=False, num_workers=4)\n",
    "    \n",
    "    print(f\"Dataset split: {train_size} training, {val_size} validation, {test_size} test samples\")\n",
    "    \n",
    "    # Create teacher model\n",
    "    if model_type == 'custom':\n",
    "        print(\"Not implemented for custom model yet. Using ResNet...\")\n",
    "        teacher_model = create_teacher_resnet_model(num_classes=2)\n",
    "    else:  # 'resnet'\n",
    "        teacher_model = create_teacher_resnet_model(num_classes=2)\n",
    "        print(\"Using ResNet-18 teacher model\")\n",
    "    \n",
    "    # Create student model\n",
    "    if model_type == 'custom':\n",
    "        student_model = StudentGastricCNN(num_classes=2)\n",
    "        print(\"Using custom CNN student model\")\n",
    "    else:  # 'resnet'\n",
    "        student_model = create_student_resnet_model(num_classes=2)\n",
    "        print(\"Using ResNet-18 student model\")\n",
    "    \n",
    "    # Count parameters for both models\n",
    "    student_params = sum(p.numel() for p in student_model.parameters())\n",
    "    teacher_params = sum(p.numel() for p in teacher_model.parameters())\n",
    "    student_trainable = sum(p.numel() for p in student_model.parameters() if p.requires_grad)\n",
    "    teacher_trainable = sum(p.numel() for p in teacher_model.parameters() if p.requires_grad)\n",
    "    \n",
    "    print(f\"Student model parameters: {student_params:,} (trainable: {student_trainable:,})\")\n",
    "    print(f\"Teacher model parameters: {teacher_params:,} (trainable: {teacher_trainable:,})\")\n",
    "    print(f\"Size reduction: {(1 - student_params/teacher_params)*100:.1f}%\")\n",
    "    \n",
    "    # Move models to device\n",
    "    student_model = student_model.to(device)\n",
    "    teacher_model = teacher_model.to(device)\n",
    "    \n",
    "    # Train the teacher model\n",
    "    print(\"\\nTraining teacher model for a few epochs...\")\n",
    "    teacher_model, teacher_history = train_teacher_model(\n",
    "        teacher_model, train_loader_teacher, val_loader_teacher, num_epochs=5\n",
    "    )\n",
    "    \n",
    "    # Train the student model with knowledge distillation\n",
    "    print(\"\\nTraining student model with knowledge distillation...\")\n",
    "    student_model, student_history = train_student_with_distillation(\n",
    "        student_model, teacher_model, train_loader_student, val_loader_student,\n",
    "        alpha=alpha, temperature=temperature, num_epochs=num_epochs\n",
    "    )\n",
    "    \n",
    "    # Plot training history\n",
    "    plot_training_history(student_history)\n",
    "    \n",
    "    # Evaluate the student model\n",
    "    print(\"\\nEvaluating student model on test set:\")\n",
    "    student_metrics = evaluate_model(student_model, test_loader_student)\n",
    "    \n",
    "    # Plot confusion matrix\n",
    "    plot_confusion_matrix(student_metrics['confusion_matrix'])\n",
    "    \n",
    "    # Evaluate the teacher model\n",
    "    print(\"\\nEvaluating teacher model on test set (resized to 120x120):\")\n",
    "    test_dataset_teacher = TransformedSubset(test_subset, teacher_eval_transform)\n",
    "    test_loader_teacher = DataLoader(test_dataset_teacher, batch_size=batch_size, shuffle=False, num_workers=4)\n",
    "    teacher_metrics = evaluate_model(teacher_model, test_loader_teacher)\n",
    "    \n",
    "    # Save the student model\n",
    "    os.makedirs('models', exist_ok=True)\n",
    "    torch.save({\n",
    "        'model_state_dict': student_model.state_dict(),\n",
    "        'metrics': {k: v for k, v in student_metrics.items() if not isinstance(v, np.ndarray)},\n",
    "        'training_history': student_history,\n",
    "        'distillation_params': {'alpha': alpha, 'temperature': temperature}\n",
    "    }, f'models/student_distilled_{model_type}_60x60.pth')\n",
    "    \n",
    "    print(f\"Student model saved as models/student_distilled_{model_type}_60x60.pth\")\n",
    "    \n",
    "    # Compare models and parameter counts\n",
    "    print(\"\\nModel Comparison:\")\n",
    "    print(f\"Teacher model ({model_type}): {teacher_params:,} parameters (trainable: {teacher_trainable:,})\")\n",
    "    print(f\"Student model ({model_type}): {student_params:,} parameters (trainable: {student_trainable:,})\")\n",
    "    print(f\"Parameter reduction: {teacher_params - student_params:,} ({(1 - student_params/teacher_params)*100:.1f}%)\")\n",
    "    \n",
    "    print(\"\\nPerformance Comparison:\")\n",
    "    print(f\"Teacher model - Test Accuracy: {teacher_metrics['accuracy']:.4f}, F1: {teacher_metrics['f1']:.4f}\")\n",
    "    print(f\"Student model - Test Accuracy: {student_metrics['accuracy']:.4f}, F1: {student_metrics['f1']:.4f}\")\n",
    "    \n",
    "    # Compare inference speed\n",
    "    print(\"\\nInference Speed Comparison:\")\n",
    "    # Prepare sample batches\n",
    "    sample_batch_student = next(iter(test_loader_student))[0][:5].to(device)\n",
    "    sample_batch_teacher = next(iter(test_loader_teacher))[0][:5].to(device)\n",
    "    \n",
    "    # Measure teacher model inference time\n",
    "    teacher_model.eval()\n",
    "    teacher_times = []\n",
    "    with torch.no_grad():\n",
    "        for _ in range(10):  # Run multiple times for better estimate\n",
    "            start_time = time.time()\n",
    "            _ = teacher_model(sample_batch_teacher)\n",
    "            teacher_times.append(time.time() - start_time)\n",
    "    \n",
    "    # Measure student model inference time\n",
    "    student_model.eval()\n",
    "    student_times = []\n",
    "    with torch.no_grad():\n",
    "        for _ in range(10):  # Run multiple times for better estimate\n",
    "            start_time = time.time()\n",
    "            _ = student_model(sample_batch_student)\n",
    "            student_times.append(time.time() - start_time)\n",
    "    \n",
    "    avg_teacher_time = sum(teacher_times) / len(teacher_times)\n",
    "    avg_student_time = sum(student_times) / len(student_times)\n",
    "    speedup = avg_teacher_time / avg_student_time\n",
    "    \n",
    "    print(f\"Teacher model average inference time: {avg_teacher_time*1000:.2f} ms\")\n",
    "    print(f\"Student model average inference time: {avg_student_time*1000:.2f} ms\")\n",
    "    print(f\"Speedup: {speedup:.2f}x\")\n",
    "    \n",
    "    return student_model, teacher_model, student_history, {\n",
    "        'teacher_metrics': teacher_metrics,\n",
    "        'student_metrics': student_metrics,\n",
    "        'teacher_params': teacher_params,\n",
    "        'student_params': student_params,\n",
    "        'teacher_trainable': teacher_trainable,\n",
    "        'student_trainable': student_trainable,\n",
    "        'reduction_percentage': (1 - student_params/teacher_params)*100,\n",
    "        'teacher_inference_time': avg_teacher_time,\n",
    "        'student_inference_time': avg_student_time,\n",
    "        'speedup': speedup\n",
    "    }\n",
    "\n",
    "# Example usage:\n",
    "# student_model, teacher_model, history, comparison = run_knowledge_distillation_from_scratch(\n",
    "#     data_dir='/path/to/dataset',\n",
    "#     model_type='resnet',  # or 'custom'\n",
    "#     num_epochs=20,\n",
    "#     alpha=0.5,  # Distillation weight\n",
    "#     temperature=4.0  # Temperature for softening\n",
    "# )"
   ]
  },
  {
   "cell_type": "code",
   "execution_count": 21,
   "id": "3276a5c1",
   "metadata": {},
   "outputs": [
    {
     "name": "stderr",
     "output_type": "stream",
     "text": [
      "/tmp/ipykernel_2157895/111383902.py:252: UserWarning: Argument(s) 'var_limit' are not valid for transform GaussNoise\n",
      "  A.GaussNoise(var_limit=(10, 50), p=0.3),\n",
      "/tmp/ipykernel_2157895/111383902.py:271: UserWarning: Argument(s) 'var_limit' are not valid for transform GaussNoise\n",
      "  A.GaussNoise(var_limit=(10, 50), p=0.3),\n"
     ]
    },
    {
     "name": "stdout",
     "output_type": "stream",
     "text": [
      "Dataset loaded with 146937 images:\n",
      "  - Normal: 21961\n",
      "  - Abnormal: 124976\n",
      "  - Ratio (Abnormal:Normal): 5.69:1\n",
      "Dataset split: 102855 training, 22040 validation, 22042 test samples\n",
      "Using ResNet-18 teacher model\n",
      "Using ResNet-18 student model\n",
      "Student model parameters: 11,502,690 (trainable: 9,317,922)\n",
      "Teacher model parameters: 11,506,370 (trainable: 11,506,370)\n",
      "Size reduction: 0.0%\n",
      "\n",
      "Training teacher model for a few epochs...\n",
      "Epoch 1/5\n"
     ]
    },
    {
     "data": {
      "application/vnd.jupyter.widget-view+json": {
       "model_id": "b357833fbb7348caaf1eab2504dd8f1a",
       "version_major": 2,
       "version_minor": 0
      },
      "text/plain": [
       "Training Teacher:   0%|          | 0/3215 [00:00<?, ?it/s]"
      ]
     },
     "metadata": {},
     "output_type": "display_data"
    },
    {
     "name": "stdout",
     "output_type": "stream",
     "text": [
      "Train Loss: 0.3757 Acc: 0.8520\n"
     ]
    },
    {
     "data": {
      "application/vnd.jupyter.widget-view+json": {
       "model_id": "a1e2a2d2eba34c9a90cda24e409ff927",
       "version_major": 2,
       "version_minor": 0
      },
      "text/plain": [
       "Validating Teacher:   0%|          | 0/689 [00:00<?, ?it/s]"
      ]
     },
     "metadata": {},
     "output_type": "display_data"
    },
    {
     "name": "stdout",
     "output_type": "stream",
     "text": [
      "Val Loss: 0.3439 Acc: 0.8685\n",
      "\n",
      "Epoch 2/5\n"
     ]
    },
    {
     "data": {
      "application/vnd.jupyter.widget-view+json": {
       "model_id": "a22062f9c60e41e489498110de92225f",
       "version_major": 2,
       "version_minor": 0
      },
      "text/plain": [
       "Training Teacher:   0%|          | 0/3215 [00:00<?, ?it/s]"
      ]
     },
     "metadata": {},
     "output_type": "display_data"
    },
    {
     "name": "stdout",
     "output_type": "stream",
     "text": [
      "Train Loss: 0.3430 Acc: 0.8614\n"
     ]
    },
    {
     "data": {
      "application/vnd.jupyter.widget-view+json": {
       "model_id": "79d671f8b1114fdfa843968877a1244a",
       "version_major": 2,
       "version_minor": 0
      },
      "text/plain": [
       "Validating Teacher:   0%|          | 0/689 [00:00<?, ?it/s]"
      ]
     },
     "metadata": {},
     "output_type": "display_data"
    },
    {
     "name": "stdout",
     "output_type": "stream",
     "text": [
      "Val Loss: 0.2900 Acc: 0.8807\n",
      "\n",
      "Epoch 3/5\n"
     ]
    },
    {
     "data": {
      "application/vnd.jupyter.widget-view+json": {
       "model_id": "ab4f1e5dacd9483d95a2b139dcee8281",
       "version_major": 2,
       "version_minor": 0
      },
      "text/plain": [
       "Training Teacher:   0%|          | 0/3215 [00:00<?, ?it/s]"
      ]
     },
     "metadata": {},
     "output_type": "display_data"
    },
    {
     "name": "stdout",
     "output_type": "stream",
     "text": [
      "Train Loss: 0.3170 Acc: 0.8731\n"
     ]
    },
    {
     "data": {
      "application/vnd.jupyter.widget-view+json": {
       "model_id": "c1d6647429d74ca491a9a8e1fbf0d655",
       "version_major": 2,
       "version_minor": 0
      },
      "text/plain": [
       "Validating Teacher:   0%|          | 0/689 [00:00<?, ?it/s]"
      ]
     },
     "metadata": {},
     "output_type": "display_data"
    },
    {
     "name": "stdout",
     "output_type": "stream",
     "text": [
      "Val Loss: 0.2555 Acc: 0.9015\n",
      "\n",
      "Epoch 4/5\n"
     ]
    },
    {
     "data": {
      "application/vnd.jupyter.widget-view+json": {
       "model_id": "19f285b2e3174a81a0044ffc636d3965",
       "version_major": 2,
       "version_minor": 0
      },
      "text/plain": [
       "Training Teacher:   0%|          | 0/3215 [00:00<?, ?it/s]"
      ]
     },
     "metadata": {},
     "output_type": "display_data"
    },
    {
     "name": "stdout",
     "output_type": "stream",
     "text": [
      "Train Loss: 0.2938 Acc: 0.8839\n"
     ]
    },
    {
     "data": {
      "application/vnd.jupyter.widget-view+json": {
       "model_id": "c3cabaf5da1040ff9a5a2811bdeb1f91",
       "version_major": 2,
       "version_minor": 0
      },
      "text/plain": [
       "Validating Teacher:   0%|          | 0/689 [00:00<?, ?it/s]"
      ]
     },
     "metadata": {},
     "output_type": "display_data"
    },
    {
     "name": "stdout",
     "output_type": "stream",
     "text": [
      "Val Loss: 0.3263 Acc: 0.8642\n",
      "\n",
      "Epoch 5/5\n"
     ]
    },
    {
     "data": {
      "application/vnd.jupyter.widget-view+json": {
       "model_id": "c853567dfd8e4b7e96e7e5057a12728b",
       "version_major": 2,
       "version_minor": 0
      },
      "text/plain": [
       "Training Teacher:   0%|          | 0/3215 [00:00<?, ?it/s]"
      ]
     },
     "metadata": {},
     "output_type": "display_data"
    },
    {
     "name": "stdout",
     "output_type": "stream",
     "text": [
      "Train Loss: 0.2721 Acc: 0.8947\n"
     ]
    },
    {
     "data": {
      "application/vnd.jupyter.widget-view+json": {
       "model_id": "d260a309aa3e41e6ae63e9946368e9f1",
       "version_major": 2,
       "version_minor": 0
      },
      "text/plain": [
       "Validating Teacher:   0%|          | 0/689 [00:00<?, ?it/s]"
      ]
     },
     "metadata": {},
     "output_type": "display_data"
    },
    {
     "name": "stdout",
     "output_type": "stream",
     "text": [
      "Val Loss: 0.2000 Acc: 0.9248\n",
      "\n",
      "\n",
      "Training student model with knowledge distillation...\n",
      "Using distillation with alpha=0.5, temperature=4.0\n",
      "Epoch 1/20\n",
      "----------\n"
     ]
    },
    {
     "name": "stderr",
     "output_type": "stream",
     "text": [
      "/gpfs/home/hz3106/.local/lib/python3.11/site-packages/torch/optim/lr_scheduler.py:62: UserWarning: The verbose parameter is deprecated. Please use get_last_lr() to access the learning rate.\n",
      "  warnings.warn(\n"
     ]
    },
    {
     "data": {
      "application/vnd.jupyter.widget-view+json": {
       "model_id": "7aa4df031c2a40919b9234b8f3b18207",
       "version_major": 2,
       "version_minor": 0
      },
      "text/plain": [
       "Training Student:   0%|          | 0/3215 [00:00<?, ?it/s]"
      ]
     },
     "metadata": {},
     "output_type": "display_data"
    },
    {
     "name": "stdout",
     "output_type": "stream",
     "text": [
      "Train Loss: 0.2431 Acc: 0.8564 F1: 0.8028\n"
     ]
    },
    {
     "data": {
      "application/vnd.jupyter.widget-view+json": {
       "model_id": "25b6083114374739873d1166b989bd65",
       "version_major": 2,
       "version_minor": 0
      },
      "text/plain": [
       "Validating Student:   0%|          | 0/689 [00:00<?, ?it/s]"
      ]
     },
     "metadata": {},
     "output_type": "display_data"
    },
    {
     "name": "stderr",
     "output_type": "stream",
     "text": [
      "/gpfs/home/hz3106/.local/lib/python3.11/site-packages/torch/utils/data/dataloader.py:624: UserWarning: This DataLoader will create 4 worker processes in total. Our suggested max number of worker in current system is 1, which is smaller than what this DataLoader is going to create. Please be aware that excessive worker creation might get DataLoader running slow or even freeze, lower the worker number to avoid potential slowness/freeze if necessary.\n",
      "  warnings.warn(\n"
     ]
    },
    {
     "name": "stdout",
     "output_type": "stream",
     "text": [
      "Val Loss: 0.2405 Acc: 0.9029 F1: 0.8885\n",
      "New best model (F1: 0.8885)\n",
      "\n",
      "Epoch 2/20\n",
      "----------\n"
     ]
    },
    {
     "data": {
      "application/vnd.jupyter.widget-view+json": {
       "model_id": "7f8544c1628c450a84a105d8c14e2d40",
       "version_major": 2,
       "version_minor": 0
      },
      "text/plain": [
       "Training Student:   0%|          | 0/3215 [00:00<?, ?it/s]"
      ]
     },
     "metadata": {},
     "output_type": "display_data"
    },
    {
     "name": "stderr",
     "output_type": "stream",
     "text": [
      "/gpfs/home/hz3106/.local/lib/python3.11/site-packages/torch/utils/data/dataloader.py:624: UserWarning: This DataLoader will create 4 worker processes in total. Our suggested max number of worker in current system is 1, which is smaller than what this DataLoader is going to create. Please be aware that excessive worker creation might get DataLoader running slow or even freeze, lower the worker number to avoid potential slowness/freeze if necessary.\n",
      "  warnings.warn(\n"
     ]
    },
    {
     "name": "stdout",
     "output_type": "stream",
     "text": [
      "Train Loss: 0.2158 Acc: 0.8656 F1: 0.8240\n"
     ]
    },
    {
     "data": {
      "application/vnd.jupyter.widget-view+json": {
       "model_id": "95e0788862364814adb4dfa6641b2762",
       "version_major": 2,
       "version_minor": 0
      },
      "text/plain": [
       "Validating Student:   0%|          | 0/689 [00:00<?, ?it/s]"
      ]
     },
     "metadata": {},
     "output_type": "display_data"
    },
    {
     "name": "stderr",
     "output_type": "stream",
     "text": [
      "/gpfs/home/hz3106/.local/lib/python3.11/site-packages/torch/utils/data/dataloader.py:624: UserWarning: This DataLoader will create 4 worker processes in total. Our suggested max number of worker in current system is 1, which is smaller than what this DataLoader is going to create. Please be aware that excessive worker creation might get DataLoader running slow or even freeze, lower the worker number to avoid potential slowness/freeze if necessary.\n",
      "  warnings.warn(\n"
     ]
    },
    {
     "name": "stdout",
     "output_type": "stream",
     "text": [
      "Val Loss: 0.2330 Acc: 0.9087 F1: 0.8949\n",
      "New best model (F1: 0.8949)\n",
      "\n",
      "Epoch 3/20\n",
      "----------\n"
     ]
    },
    {
     "data": {
      "application/vnd.jupyter.widget-view+json": {
       "model_id": "fa6b9649a2404ab481c237858753f293",
       "version_major": 2,
       "version_minor": 0
      },
      "text/plain": [
       "Training Student:   0%|          | 0/3215 [00:00<?, ?it/s]"
      ]
     },
     "metadata": {},
     "output_type": "display_data"
    },
    {
     "name": "stderr",
     "output_type": "stream",
     "text": [
      "/gpfs/home/hz3106/.local/lib/python3.11/site-packages/torch/utils/data/dataloader.py:624: UserWarning: This DataLoader will create 4 worker processes in total. Our suggested max number of worker in current system is 1, which is smaller than what this DataLoader is going to create. Please be aware that excessive worker creation might get DataLoader running slow or even freeze, lower the worker number to avoid potential slowness/freeze if necessary.\n",
      "  warnings.warn(\n"
     ]
    },
    {
     "name": "stdout",
     "output_type": "stream",
     "text": [
      "Train Loss: 0.2070 Acc: 0.8682 F1: 0.8284\n"
     ]
    },
    {
     "data": {
      "application/vnd.jupyter.widget-view+json": {
       "model_id": "c9cdc82807de4d6fa49e39c464423053",
       "version_major": 2,
       "version_minor": 0
      },
      "text/plain": [
       "Validating Student:   0%|          | 0/689 [00:00<?, ?it/s]"
      ]
     },
     "metadata": {},
     "output_type": "display_data"
    },
    {
     "name": "stderr",
     "output_type": "stream",
     "text": [
      "/gpfs/home/hz3106/.local/lib/python3.11/site-packages/torch/utils/data/dataloader.py:624: UserWarning: This DataLoader will create 4 worker processes in total. Our suggested max number of worker in current system is 1, which is smaller than what this DataLoader is going to create. Please be aware that excessive worker creation might get DataLoader running slow or even freeze, lower the worker number to avoid potential slowness/freeze if necessary.\n",
      "  warnings.warn(\n"
     ]
    },
    {
     "name": "stdout",
     "output_type": "stream",
     "text": [
      "Val Loss: 0.2305 Acc: 0.9036 F1: 0.8857\n",
      "\n",
      "Epoch 4/20\n",
      "----------\n"
     ]
    },
    {
     "data": {
      "application/vnd.jupyter.widget-view+json": {
       "model_id": "de9238cc462345e8a41469fd98f58c0a",
       "version_major": 2,
       "version_minor": 0
      },
      "text/plain": [
       "Training Student:   0%|          | 0/3215 [00:00<?, ?it/s]"
      ]
     },
     "metadata": {},
     "output_type": "display_data"
    },
    {
     "name": "stderr",
     "output_type": "stream",
     "text": [
      "/gpfs/home/hz3106/.local/lib/python3.11/site-packages/torch/utils/data/dataloader.py:624: UserWarning: This DataLoader will create 4 worker processes in total. Our suggested max number of worker in current system is 1, which is smaller than what this DataLoader is going to create. Please be aware that excessive worker creation might get DataLoader running slow or even freeze, lower the worker number to avoid potential slowness/freeze if necessary.\n",
      "  warnings.warn(\n"
     ]
    },
    {
     "name": "stdout",
     "output_type": "stream",
     "text": [
      "Train Loss: 0.2023 Acc: 0.8709 F1: 0.8326\n"
     ]
    },
    {
     "data": {
      "application/vnd.jupyter.widget-view+json": {
       "model_id": "068def3cb3ba48bf9660d77e675af692",
       "version_major": 2,
       "version_minor": 0
      },
      "text/plain": [
       "Validating Student:   0%|          | 0/689 [00:00<?, ?it/s]"
      ]
     },
     "metadata": {},
     "output_type": "display_data"
    },
    {
     "name": "stderr",
     "output_type": "stream",
     "text": [
      "/gpfs/home/hz3106/.local/lib/python3.11/site-packages/torch/utils/data/dataloader.py:624: UserWarning: This DataLoader will create 4 worker processes in total. Our suggested max number of worker in current system is 1, which is smaller than what this DataLoader is going to create. Please be aware that excessive worker creation might get DataLoader running slow or even freeze, lower the worker number to avoid potential slowness/freeze if necessary.\n",
      "  warnings.warn(\n"
     ]
    },
    {
     "name": "stdout",
     "output_type": "stream",
     "text": [
      "Val Loss: 0.2428 Acc: 0.8937 F1: 0.8681\n",
      "\n",
      "Epoch 5/20\n",
      "----------\n"
     ]
    },
    {
     "data": {
      "application/vnd.jupyter.widget-view+json": {
       "model_id": "648816d5a8e744758fdd0047b01e016b",
       "version_major": 2,
       "version_minor": 0
      },
      "text/plain": [
       "Training Student:   0%|          | 0/3215 [00:00<?, ?it/s]"
      ]
     },
     "metadata": {},
     "output_type": "display_data"
    },
    {
     "name": "stderr",
     "output_type": "stream",
     "text": [
      "/gpfs/home/hz3106/.local/lib/python3.11/site-packages/torch/utils/data/dataloader.py:624: UserWarning: This DataLoader will create 4 worker processes in total. Our suggested max number of worker in current system is 1, which is smaller than what this DataLoader is going to create. Please be aware that excessive worker creation might get DataLoader running slow or even freeze, lower the worker number to avoid potential slowness/freeze if necessary.\n",
      "  warnings.warn(\n"
     ]
    },
    {
     "name": "stdout",
     "output_type": "stream",
     "text": [
      "Train Loss: 0.1979 Acc: 0.8732 F1: 0.8366\n"
     ]
    },
    {
     "data": {
      "application/vnd.jupyter.widget-view+json": {
       "model_id": "0fd782f009dc4495a298458765b10ea1",
       "version_major": 2,
       "version_minor": 0
      },
      "text/plain": [
       "Validating Student:   0%|          | 0/689 [00:00<?, ?it/s]"
      ]
     },
     "metadata": {},
     "output_type": "display_data"
    },
    {
     "name": "stderr",
     "output_type": "stream",
     "text": [
      "/gpfs/home/hz3106/.local/lib/python3.11/site-packages/torch/utils/data/dataloader.py:624: UserWarning: This DataLoader will create 4 worker processes in total. Our suggested max number of worker in current system is 1, which is smaller than what this DataLoader is going to create. Please be aware that excessive worker creation might get DataLoader running slow or even freeze, lower the worker number to avoid potential slowness/freeze if necessary.\n",
      "  warnings.warn(\n"
     ]
    },
    {
     "name": "stdout",
     "output_type": "stream",
     "text": [
      "Val Loss: 0.2251 Acc: 0.9053 F1: 0.8877\n",
      "\n",
      "Epoch 6/20\n",
      "----------\n"
     ]
    },
    {
     "data": {
      "application/vnd.jupyter.widget-view+json": {
       "model_id": "061a101ecc4046f0b9fdcef57cbc7986",
       "version_major": 2,
       "version_minor": 0
      },
      "text/plain": [
       "Training Student:   0%|          | 0/3215 [00:00<?, ?it/s]"
      ]
     },
     "metadata": {},
     "output_type": "display_data"
    },
    {
     "name": "stderr",
     "output_type": "stream",
     "text": [
      "/gpfs/home/hz3106/.local/lib/python3.11/site-packages/torch/utils/data/dataloader.py:624: UserWarning: This DataLoader will create 4 worker processes in total. Our suggested max number of worker in current system is 1, which is smaller than what this DataLoader is going to create. Please be aware that excessive worker creation might get DataLoader running slow or even freeze, lower the worker number to avoid potential slowness/freeze if necessary.\n",
      "  warnings.warn(\n"
     ]
    },
    {
     "name": "stdout",
     "output_type": "stream",
     "text": [
      "Train Loss: 0.1955 Acc: 0.8736 F1: 0.8375\n"
     ]
    },
    {
     "data": {
      "application/vnd.jupyter.widget-view+json": {
       "model_id": "1084d190b63743dc878a802d3b23b054",
       "version_major": 2,
       "version_minor": 0
      },
      "text/plain": [
       "Validating Student:   0%|          | 0/689 [00:00<?, ?it/s]"
      ]
     },
     "metadata": {},
     "output_type": "display_data"
    },
    {
     "name": "stderr",
     "output_type": "stream",
     "text": [
      "/gpfs/home/hz3106/.local/lib/python3.11/site-packages/torch/utils/data/dataloader.py:624: UserWarning: This DataLoader will create 4 worker processes in total. Our suggested max number of worker in current system is 1, which is smaller than what this DataLoader is going to create. Please be aware that excessive worker creation might get DataLoader running slow or even freeze, lower the worker number to avoid potential slowness/freeze if necessary.\n",
      "  warnings.warn(\n"
     ]
    },
    {
     "name": "stdout",
     "output_type": "stream",
     "text": [
      "Val Loss: 0.2055 Acc: 0.9188 F1: 0.9094\n",
      "New best model (F1: 0.9094)\n",
      "\n",
      "Epoch 7/20\n",
      "----------\n"
     ]
    },
    {
     "data": {
      "application/vnd.jupyter.widget-view+json": {
       "model_id": "cd52ce4030d94a93a55d8c55d2372d8d",
       "version_major": 2,
       "version_minor": 0
      },
      "text/plain": [
       "Training Student:   0%|          | 0/3215 [00:00<?, ?it/s]"
      ]
     },
     "metadata": {},
     "output_type": "display_data"
    },
    {
     "name": "stderr",
     "output_type": "stream",
     "text": [
      "/gpfs/home/hz3106/.local/lib/python3.11/site-packages/torch/utils/data/dataloader.py:624: UserWarning: This DataLoader will create 4 worker processes in total. Our suggested max number of worker in current system is 1, which is smaller than what this DataLoader is going to create. Please be aware that excessive worker creation might get DataLoader running slow or even freeze, lower the worker number to avoid potential slowness/freeze if necessary.\n",
      "  warnings.warn(\n"
     ]
    },
    {
     "name": "stdout",
     "output_type": "stream",
     "text": [
      "Train Loss: 0.1941 Acc: 0.8748 F1: 0.8390\n"
     ]
    },
    {
     "data": {
      "application/vnd.jupyter.widget-view+json": {
       "model_id": "91097430b7134760a9567321bcee76cc",
       "version_major": 2,
       "version_minor": 0
      },
      "text/plain": [
       "Validating Student:   0%|          | 0/689 [00:00<?, ?it/s]"
      ]
     },
     "metadata": {},
     "output_type": "display_data"
    },
    {
     "name": "stderr",
     "output_type": "stream",
     "text": [
      "/gpfs/home/hz3106/.local/lib/python3.11/site-packages/torch/utils/data/dataloader.py:624: UserWarning: This DataLoader will create 4 worker processes in total. Our suggested max number of worker in current system is 1, which is smaller than what this DataLoader is going to create. Please be aware that excessive worker creation might get DataLoader running slow or even freeze, lower the worker number to avoid potential slowness/freeze if necessary.\n",
      "  warnings.warn(\n"
     ]
    },
    {
     "name": "stdout",
     "output_type": "stream",
     "text": [
      "Val Loss: 0.2102 Acc: 0.9137 F1: 0.8998\n",
      "\n",
      "Epoch 8/20\n",
      "----------\n"
     ]
    },
    {
     "data": {
      "application/vnd.jupyter.widget-view+json": {
       "model_id": "8de40208dd044f2ba3e0efac841658fb",
       "version_major": 2,
       "version_minor": 0
      },
      "text/plain": [
       "Training Student:   0%|          | 0/3215 [00:00<?, ?it/s]"
      ]
     },
     "metadata": {},
     "output_type": "display_data"
    },
    {
     "name": "stderr",
     "output_type": "stream",
     "text": [
      "/gpfs/home/hz3106/.local/lib/python3.11/site-packages/torch/utils/data/dataloader.py:624: UserWarning: This DataLoader will create 4 worker processes in total. Our suggested max number of worker in current system is 1, which is smaller than what this DataLoader is going to create. Please be aware that excessive worker creation might get DataLoader running slow or even freeze, lower the worker number to avoid potential slowness/freeze if necessary.\n",
      "  warnings.warn(\n"
     ]
    },
    {
     "name": "stdout",
     "output_type": "stream",
     "text": [
      "Train Loss: 0.1924 Acc: 0.8756 F1: 0.8405\n"
     ]
    },
    {
     "data": {
      "application/vnd.jupyter.widget-view+json": {
       "model_id": "5e7b2ea664ad4ecd9737b4d63a792797",
       "version_major": 2,
       "version_minor": 0
      },
      "text/plain": [
       "Validating Student:   0%|          | 0/689 [00:00<?, ?it/s]"
      ]
     },
     "metadata": {},
     "output_type": "display_data"
    },
    {
     "name": "stderr",
     "output_type": "stream",
     "text": [
      "/gpfs/home/hz3106/.local/lib/python3.11/site-packages/torch/utils/data/dataloader.py:624: UserWarning: This DataLoader will create 4 worker processes in total. Our suggested max number of worker in current system is 1, which is smaller than what this DataLoader is going to create. Please be aware that excessive worker creation might get DataLoader running slow or even freeze, lower the worker number to avoid potential slowness/freeze if necessary.\n",
      "  warnings.warn(\n"
     ]
    },
    {
     "name": "stdout",
     "output_type": "stream",
     "text": [
      "Val Loss: 0.2220 Acc: 0.9064 F1: 0.8891\n",
      "\n",
      "Epoch 9/20\n",
      "----------\n"
     ]
    },
    {
     "data": {
      "application/vnd.jupyter.widget-view+json": {
       "model_id": "8d12e572b320491fa8699f27ec07c719",
       "version_major": 2,
       "version_minor": 0
      },
      "text/plain": [
       "Training Student:   0%|          | 0/3215 [00:00<?, ?it/s]"
      ]
     },
     "metadata": {},
     "output_type": "display_data"
    },
    {
     "name": "stderr",
     "output_type": "stream",
     "text": [
      "/gpfs/home/hz3106/.local/lib/python3.11/site-packages/torch/utils/data/dataloader.py:624: UserWarning: This DataLoader will create 4 worker processes in total. Our suggested max number of worker in current system is 1, which is smaller than what this DataLoader is going to create. Please be aware that excessive worker creation might get DataLoader running slow or even freeze, lower the worker number to avoid potential slowness/freeze if necessary.\n",
      "  warnings.warn(\n"
     ]
    },
    {
     "name": "stdout",
     "output_type": "stream",
     "text": [
      "Train Loss: 0.1909 Acc: 0.8771 F1: 0.8435\n"
     ]
    },
    {
     "data": {
      "application/vnd.jupyter.widget-view+json": {
       "model_id": "46050da8efe643b5ac5e267417d67d7b",
       "version_major": 2,
       "version_minor": 0
      },
      "text/plain": [
       "Validating Student:   0%|          | 0/689 [00:00<?, ?it/s]"
      ]
     },
     "metadata": {},
     "output_type": "display_data"
    },
    {
     "name": "stderr",
     "output_type": "stream",
     "text": [
      "/gpfs/home/hz3106/.local/lib/python3.11/site-packages/torch/utils/data/dataloader.py:624: UserWarning: This DataLoader will create 4 worker processes in total. Our suggested max number of worker in current system is 1, which is smaller than what this DataLoader is going to create. Please be aware that excessive worker creation might get DataLoader running slow or even freeze, lower the worker number to avoid potential slowness/freeze if necessary.\n",
      "  warnings.warn(\n"
     ]
    },
    {
     "name": "stdout",
     "output_type": "stream",
     "text": [
      "Val Loss: 0.2308 Acc: 0.8998 F1: 0.8780\n",
      "\n",
      "Epoch 10/20\n",
      "----------\n"
     ]
    },
    {
     "data": {
      "application/vnd.jupyter.widget-view+json": {
       "model_id": "b7618264d219439a8aef31b896b2049c",
       "version_major": 2,
       "version_minor": 0
      },
      "text/plain": [
       "Training Student:   0%|          | 0/3215 [00:00<?, ?it/s]"
      ]
     },
     "metadata": {},
     "output_type": "display_data"
    },
    {
     "name": "stderr",
     "output_type": "stream",
     "text": [
      "/gpfs/home/hz3106/.local/lib/python3.11/site-packages/torch/utils/data/dataloader.py:624: UserWarning: This DataLoader will create 4 worker processes in total. Our suggested max number of worker in current system is 1, which is smaller than what this DataLoader is going to create. Please be aware that excessive worker creation might get DataLoader running slow or even freeze, lower the worker number to avoid potential slowness/freeze if necessary.\n",
      "  warnings.warn(\n"
     ]
    },
    {
     "name": "stdout",
     "output_type": "stream",
     "text": [
      "Train Loss: 0.1910 Acc: 0.8779 F1: 0.8445\n"
     ]
    },
    {
     "data": {
      "application/vnd.jupyter.widget-view+json": {
       "model_id": "629bb1f1a9f541028ef8524011110bfb",
       "version_major": 2,
       "version_minor": 0
      },
      "text/plain": [
       "Validating Student:   0%|          | 0/689 [00:00<?, ?it/s]"
      ]
     },
     "metadata": {},
     "output_type": "display_data"
    },
    {
     "name": "stderr",
     "output_type": "stream",
     "text": [
      "/gpfs/home/hz3106/.local/lib/python3.11/site-packages/torch/utils/data/dataloader.py:624: UserWarning: This DataLoader will create 4 worker processes in total. Our suggested max number of worker in current system is 1, which is smaller than what this DataLoader is going to create. Please be aware that excessive worker creation might get DataLoader running slow or even freeze, lower the worker number to avoid potential slowness/freeze if necessary.\n",
      "  warnings.warn(\n"
     ]
    },
    {
     "name": "stdout",
     "output_type": "stream",
     "text": [
      "Val Loss: 0.2143 Acc: 0.9158 F1: 0.9036\n",
      "\n",
      "Epoch 11/20\n",
      "----------\n"
     ]
    },
    {
     "data": {
      "application/vnd.jupyter.widget-view+json": {
       "model_id": "7996301e13f04378bfd2bfaacc33b00d",
       "version_major": 2,
       "version_minor": 0
      },
      "text/plain": [
       "Training Student:   0%|          | 0/3215 [00:00<?, ?it/s]"
      ]
     },
     "metadata": {},
     "output_type": "display_data"
    },
    {
     "name": "stderr",
     "output_type": "stream",
     "text": [
      "/gpfs/home/hz3106/.local/lib/python3.11/site-packages/torch/utils/data/dataloader.py:624: UserWarning: This DataLoader will create 4 worker processes in total. Our suggested max number of worker in current system is 1, which is smaller than what this DataLoader is going to create. Please be aware that excessive worker creation might get DataLoader running slow or even freeze, lower the worker number to avoid potential slowness/freeze if necessary.\n",
      "  warnings.warn(\n"
     ]
    },
    {
     "name": "stdout",
     "output_type": "stream",
     "text": [
      "Train Loss: 0.1897 Acc: 0.8772 F1: 0.8436\n"
     ]
    },
    {
     "data": {
      "application/vnd.jupyter.widget-view+json": {
       "model_id": "bd192cf75ee949ee8c3a855c4dd7c8e6",
       "version_major": 2,
       "version_minor": 0
      },
      "text/plain": [
       "Validating Student:   0%|          | 0/689 [00:00<?, ?it/s]"
      ]
     },
     "metadata": {},
     "output_type": "display_data"
    },
    {
     "name": "stderr",
     "output_type": "stream",
     "text": [
      "/gpfs/home/hz3106/.local/lib/python3.11/site-packages/torch/utils/data/dataloader.py:624: UserWarning: This DataLoader will create 4 worker processes in total. Our suggested max number of worker in current system is 1, which is smaller than what this DataLoader is going to create. Please be aware that excessive worker creation might get DataLoader running slow or even freeze, lower the worker number to avoid potential slowness/freeze if necessary.\n",
      "  warnings.warn(\n"
     ]
    },
    {
     "name": "stdout",
     "output_type": "stream",
     "text": [
      "Val Loss: 0.2275 Acc: 0.9016 F1: 0.8808\n",
      "\n",
      "Epoch 12/20\n",
      "----------\n"
     ]
    },
    {
     "data": {
      "application/vnd.jupyter.widget-view+json": {
       "model_id": "cd2e7f9b07fc48218cc086080b9959ff",
       "version_major": 2,
       "version_minor": 0
      },
      "text/plain": [
       "Training Student:   0%|          | 0/3215 [00:00<?, ?it/s]"
      ]
     },
     "metadata": {},
     "output_type": "display_data"
    },
    {
     "name": "stderr",
     "output_type": "stream",
     "text": [
      "/gpfs/home/hz3106/.local/lib/python3.11/site-packages/torch/utils/data/dataloader.py:624: UserWarning: This DataLoader will create 4 worker processes in total. Our suggested max number of worker in current system is 1, which is smaller than what this DataLoader is going to create. Please be aware that excessive worker creation might get DataLoader running slow or even freeze, lower the worker number to avoid potential slowness/freeze if necessary.\n",
      "  warnings.warn(\n"
     ]
    },
    {
     "name": "stdout",
     "output_type": "stream",
     "text": [
      "Train Loss: 0.1894 Acc: 0.8776 F1: 0.8441\n"
     ]
    },
    {
     "data": {
      "application/vnd.jupyter.widget-view+json": {
       "model_id": "3b71b16951c948dfaa67ece381c91c96",
       "version_major": 2,
       "version_minor": 0
      },
      "text/plain": [
       "Validating Student:   0%|          | 0/689 [00:00<?, ?it/s]"
      ]
     },
     "metadata": {},
     "output_type": "display_data"
    },
    {
     "name": "stderr",
     "output_type": "stream",
     "text": [
      "/gpfs/home/hz3106/.local/lib/python3.11/site-packages/torch/utils/data/dataloader.py:624: UserWarning: This DataLoader will create 4 worker processes in total. Our suggested max number of worker in current system is 1, which is smaller than what this DataLoader is going to create. Please be aware that excessive worker creation might get DataLoader running slow or even freeze, lower the worker number to avoid potential slowness/freeze if necessary.\n",
      "  warnings.warn(\n"
     ]
    },
    {
     "name": "stdout",
     "output_type": "stream",
     "text": [
      "Val Loss: 0.2238 Acc: 0.9004 F1: 0.8786\n",
      "\n",
      "Epoch 13/20\n",
      "----------\n"
     ]
    },
    {
     "data": {
      "application/vnd.jupyter.widget-view+json": {
       "model_id": "75e9515ad11c40e889ab8c4d3cf576d8",
       "version_major": 2,
       "version_minor": 0
      },
      "text/plain": [
       "Training Student:   0%|          | 0/3215 [00:00<?, ?it/s]"
      ]
     },
     "metadata": {},
     "output_type": "display_data"
    },
    {
     "name": "stderr",
     "output_type": "stream",
     "text": [
      "/gpfs/home/hz3106/.local/lib/python3.11/site-packages/torch/utils/data/dataloader.py:624: UserWarning: This DataLoader will create 4 worker processes in total. Our suggested max number of worker in current system is 1, which is smaller than what this DataLoader is going to create. Please be aware that excessive worker creation might get DataLoader running slow or even freeze, lower the worker number to avoid potential slowness/freeze if necessary.\n",
      "  warnings.warn(\n"
     ]
    },
    {
     "name": "stdout",
     "output_type": "stream",
     "text": [
      "Train Loss: 0.1822 Acc: 0.8819 F1: 0.8510\n"
     ]
    },
    {
     "data": {
      "application/vnd.jupyter.widget-view+json": {
       "model_id": "a722140af94740e28795f3e3e3791ace",
       "version_major": 2,
       "version_minor": 0
      },
      "text/plain": [
       "Validating Student:   0%|          | 0/689 [00:00<?, ?it/s]"
      ]
     },
     "metadata": {},
     "output_type": "display_data"
    },
    {
     "name": "stderr",
     "output_type": "stream",
     "text": [
      "/gpfs/home/hz3106/.local/lib/python3.11/site-packages/torch/utils/data/dataloader.py:624: UserWarning: This DataLoader will create 4 worker processes in total. Our suggested max number of worker in current system is 1, which is smaller than what this DataLoader is going to create. Please be aware that excessive worker creation might get DataLoader running slow or even freeze, lower the worker number to avoid potential slowness/freeze if necessary.\n",
      "  warnings.warn(\n"
     ]
    },
    {
     "name": "stdout",
     "output_type": "stream",
     "text": [
      "Val Loss: 0.2052 Acc: 0.9148 F1: 0.9011\n",
      "\n",
      "Epoch 14/20\n",
      "----------\n"
     ]
    },
    {
     "data": {
      "application/vnd.jupyter.widget-view+json": {
       "model_id": "6f046a9be2d64a1b97854382be884c48",
       "version_major": 2,
       "version_minor": 0
      },
      "text/plain": [
       "Training Student:   0%|          | 0/3215 [00:00<?, ?it/s]"
      ]
     },
     "metadata": {},
     "output_type": "display_data"
    },
    {
     "name": "stderr",
     "output_type": "stream",
     "text": [
      "/gpfs/home/hz3106/.local/lib/python3.11/site-packages/torch/utils/data/dataloader.py:624: UserWarning: This DataLoader will create 4 worker processes in total. Our suggested max number of worker in current system is 1, which is smaller than what this DataLoader is going to create. Please be aware that excessive worker creation might get DataLoader running slow or even freeze, lower the worker number to avoid potential slowness/freeze if necessary.\n",
      "  warnings.warn(\n"
     ]
    },
    {
     "name": "stdout",
     "output_type": "stream",
     "text": [
      "Train Loss: 0.1806 Acc: 0.8819 F1: 0.8514\n"
     ]
    },
    {
     "data": {
      "application/vnd.jupyter.widget-view+json": {
       "model_id": "b8e8ed3fb2e8491da1925899a7dc56ba",
       "version_major": 2,
       "version_minor": 0
      },
      "text/plain": [
       "Validating Student:   0%|          | 0/689 [00:00<?, ?it/s]"
      ]
     },
     "metadata": {},
     "output_type": "display_data"
    },
    {
     "name": "stderr",
     "output_type": "stream",
     "text": [
      "/gpfs/home/hz3106/.local/lib/python3.11/site-packages/torch/utils/data/dataloader.py:624: UserWarning: This DataLoader will create 4 worker processes in total. Our suggested max number of worker in current system is 1, which is smaller than what this DataLoader is going to create. Please be aware that excessive worker creation might get DataLoader running slow or even freeze, lower the worker number to avoid potential slowness/freeze if necessary.\n",
      "  warnings.warn(\n"
     ]
    },
    {
     "name": "stdout",
     "output_type": "stream",
     "text": [
      "Val Loss: 0.2042 Acc: 0.9137 F1: 0.8993\n",
      "\n",
      "Epoch 15/20\n",
      "----------\n"
     ]
    },
    {
     "data": {
      "application/vnd.jupyter.widget-view+json": {
       "model_id": "3b13af8b2a9f4cc49a364d8883f977de",
       "version_major": 2,
       "version_minor": 0
      },
      "text/plain": [
       "Training Student:   0%|          | 0/3215 [00:00<?, ?it/s]"
      ]
     },
     "metadata": {},
     "output_type": "display_data"
    },
    {
     "name": "stderr",
     "output_type": "stream",
     "text": [
      "/gpfs/home/hz3106/.local/lib/python3.11/site-packages/torch/utils/data/dataloader.py:624: UserWarning: This DataLoader will create 4 worker processes in total. Our suggested max number of worker in current system is 1, which is smaller than what this DataLoader is going to create. Please be aware that excessive worker creation might get DataLoader running slow or even freeze, lower the worker number to avoid potential slowness/freeze if necessary.\n",
      "  warnings.warn(\n"
     ]
    },
    {
     "name": "stdout",
     "output_type": "stream",
     "text": [
      "Train Loss: 0.1796 Acc: 0.8827 F1: 0.8526\n"
     ]
    },
    {
     "data": {
      "application/vnd.jupyter.widget-view+json": {
       "model_id": "b49c61200b16457aa015d4b8399d690d",
       "version_major": 2,
       "version_minor": 0
      },
      "text/plain": [
       "Validating Student:   0%|          | 0/689 [00:00<?, ?it/s]"
      ]
     },
     "metadata": {},
     "output_type": "display_data"
    },
    {
     "name": "stderr",
     "output_type": "stream",
     "text": [
      "/gpfs/home/hz3106/.local/lib/python3.11/site-packages/torch/utils/data/dataloader.py:624: UserWarning: This DataLoader will create 4 worker processes in total. Our suggested max number of worker in current system is 1, which is smaller than what this DataLoader is going to create. Please be aware that excessive worker creation might get DataLoader running slow or even freeze, lower the worker number to avoid potential slowness/freeze if necessary.\n",
      "  warnings.warn(\n"
     ]
    },
    {
     "name": "stdout",
     "output_type": "stream",
     "text": [
      "Val Loss: 0.2180 Acc: 0.9009 F1: 0.8795\n",
      "\n",
      "Epoch 16/20\n",
      "----------\n"
     ]
    },
    {
     "data": {
      "application/vnd.jupyter.widget-view+json": {
       "model_id": "989c1ce048a74ffd97876b24476ec173",
       "version_major": 2,
       "version_minor": 0
      },
      "text/plain": [
       "Training Student:   0%|          | 0/3215 [00:00<?, ?it/s]"
      ]
     },
     "metadata": {},
     "output_type": "display_data"
    },
    {
     "name": "stderr",
     "output_type": "stream",
     "text": [
      "/gpfs/home/hz3106/.local/lib/python3.11/site-packages/torch/utils/data/dataloader.py:624: UserWarning: This DataLoader will create 4 worker processes in total. Our suggested max number of worker in current system is 1, which is smaller than what this DataLoader is going to create. Please be aware that excessive worker creation might get DataLoader running slow or even freeze, lower the worker number to avoid potential slowness/freeze if necessary.\n",
      "  warnings.warn(\n"
     ]
    },
    {
     "name": "stdout",
     "output_type": "stream",
     "text": [
      "Train Loss: 0.1779 Acc: 0.8834 F1: 0.8538\n"
     ]
    },
    {
     "data": {
      "application/vnd.jupyter.widget-view+json": {
       "model_id": "fbbbe3c0f1bd4a9ebb57153cf65fef5d",
       "version_major": 2,
       "version_minor": 0
      },
      "text/plain": [
       "Validating Student:   0%|          | 0/689 [00:00<?, ?it/s]"
      ]
     },
     "metadata": {},
     "output_type": "display_data"
    },
    {
     "name": "stderr",
     "output_type": "stream",
     "text": [
      "/gpfs/home/hz3106/.local/lib/python3.11/site-packages/torch/utils/data/dataloader.py:624: UserWarning: This DataLoader will create 4 worker processes in total. Our suggested max number of worker in current system is 1, which is smaller than what this DataLoader is going to create. Please be aware that excessive worker creation might get DataLoader running slow or even freeze, lower the worker number to avoid potential slowness/freeze if necessary.\n",
      "  warnings.warn(\n"
     ]
    },
    {
     "name": "stdout",
     "output_type": "stream",
     "text": [
      "Val Loss: 0.1943 Acc: 0.9216 F1: 0.9109\n",
      "New best model (F1: 0.9109)\n",
      "\n",
      "Epoch 17/20\n",
      "----------\n"
     ]
    },
    {
     "data": {
      "application/vnd.jupyter.widget-view+json": {
       "model_id": "477b6c588b3244fca94bb4739c57fe18",
       "version_major": 2,
       "version_minor": 0
      },
      "text/plain": [
       "Training Student:   0%|          | 0/3215 [00:00<?, ?it/s]"
      ]
     },
     "metadata": {},
     "output_type": "display_data"
    },
    {
     "name": "stderr",
     "output_type": "stream",
     "text": [
      "/gpfs/home/hz3106/.local/lib/python3.11/site-packages/torch/utils/data/dataloader.py:624: UserWarning: This DataLoader will create 4 worker processes in total. Our suggested max number of worker in current system is 1, which is smaller than what this DataLoader is going to create. Please be aware that excessive worker creation might get DataLoader running slow or even freeze, lower the worker number to avoid potential slowness/freeze if necessary.\n",
      "  warnings.warn(\n"
     ]
    },
    {
     "name": "stdout",
     "output_type": "stream",
     "text": [
      "Train Loss: 0.1773 Acc: 0.8844 F1: 0.8554\n"
     ]
    },
    {
     "data": {
      "application/vnd.jupyter.widget-view+json": {
       "model_id": "8df7689a277c468eb9cfd22d1055cacb",
       "version_major": 2,
       "version_minor": 0
      },
      "text/plain": [
       "Validating Student:   0%|          | 0/689 [00:00<?, ?it/s]"
      ]
     },
     "metadata": {},
     "output_type": "display_data"
    },
    {
     "name": "stderr",
     "output_type": "stream",
     "text": [
      "/gpfs/home/hz3106/.local/lib/python3.11/site-packages/torch/utils/data/dataloader.py:624: UserWarning: This DataLoader will create 4 worker processes in total. Our suggested max number of worker in current system is 1, which is smaller than what this DataLoader is going to create. Please be aware that excessive worker creation might get DataLoader running slow or even freeze, lower the worker number to avoid potential slowness/freeze if necessary.\n",
      "  warnings.warn(\n"
     ]
    },
    {
     "name": "stdout",
     "output_type": "stream",
     "text": [
      "Val Loss: 0.2057 Acc: 0.9108 F1: 0.8950\n",
      "\n",
      "Epoch 18/20\n",
      "----------\n"
     ]
    },
    {
     "data": {
      "application/vnd.jupyter.widget-view+json": {
       "model_id": "320bb9ad324e4c15b991905725bf1b0a",
       "version_major": 2,
       "version_minor": 0
      },
      "text/plain": [
       "Training Student:   0%|          | 0/3215 [00:00<?, ?it/s]"
      ]
     },
     "metadata": {},
     "output_type": "display_data"
    },
    {
     "name": "stderr",
     "output_type": "stream",
     "text": [
      "/gpfs/home/hz3106/.local/lib/python3.11/site-packages/torch/utils/data/dataloader.py:624: UserWarning: This DataLoader will create 4 worker processes in total. Our suggested max number of worker in current system is 1, which is smaller than what this DataLoader is going to create. Please be aware that excessive worker creation might get DataLoader running slow or even freeze, lower the worker number to avoid potential slowness/freeze if necessary.\n",
      "  warnings.warn(\n"
     ]
    },
    {
     "name": "stdout",
     "output_type": "stream",
     "text": [
      "Train Loss: 0.1771 Acc: 0.8840 F1: 0.8548\n"
     ]
    },
    {
     "data": {
      "application/vnd.jupyter.widget-view+json": {
       "model_id": "8933a32d88c34c8cbeaade774a7b9873",
       "version_major": 2,
       "version_minor": 0
      },
      "text/plain": [
       "Validating Student:   0%|          | 0/689 [00:00<?, ?it/s]"
      ]
     },
     "metadata": {},
     "output_type": "display_data"
    },
    {
     "name": "stderr",
     "output_type": "stream",
     "text": [
      "/gpfs/home/hz3106/.local/lib/python3.11/site-packages/torch/utils/data/dataloader.py:624: UserWarning: This DataLoader will create 4 worker processes in total. Our suggested max number of worker in current system is 1, which is smaller than what this DataLoader is going to create. Please be aware that excessive worker creation might get DataLoader running slow or even freeze, lower the worker number to avoid potential slowness/freeze if necessary.\n",
      "  warnings.warn(\n"
     ]
    },
    {
     "name": "stdout",
     "output_type": "stream",
     "text": [
      "Val Loss: 0.2177 Acc: 0.9043 F1: 0.8845\n",
      "\n",
      "Epoch 19/20\n",
      "----------\n"
     ]
    },
    {
     "data": {
      "application/vnd.jupyter.widget-view+json": {
       "model_id": "ee0ffb87c3ce462ebb7179dbc278d52d",
       "version_major": 2,
       "version_minor": 0
      },
      "text/plain": [
       "Training Student:   0%|          | 0/3215 [00:00<?, ?it/s]"
      ]
     },
     "metadata": {},
     "output_type": "display_data"
    },
    {
     "name": "stderr",
     "output_type": "stream",
     "text": [
      "/gpfs/home/hz3106/.local/lib/python3.11/site-packages/torch/utils/data/dataloader.py:624: UserWarning: This DataLoader will create 4 worker processes in total. Our suggested max number of worker in current system is 1, which is smaller than what this DataLoader is going to create. Please be aware that excessive worker creation might get DataLoader running slow or even freeze, lower the worker number to avoid potential slowness/freeze if necessary.\n",
      "  warnings.warn(\n"
     ]
    },
    {
     "name": "stdout",
     "output_type": "stream",
     "text": [
      "Train Loss: 0.1759 Acc: 0.8849 F1: 0.8562\n"
     ]
    },
    {
     "data": {
      "application/vnd.jupyter.widget-view+json": {
       "model_id": "7272b34b7570444598bbcc824cd40f1b",
       "version_major": 2,
       "version_minor": 0
      },
      "text/plain": [
       "Validating Student:   0%|          | 0/689 [00:00<?, ?it/s]"
      ]
     },
     "metadata": {},
     "output_type": "display_data"
    },
    {
     "name": "stderr",
     "output_type": "stream",
     "text": [
      "/gpfs/home/hz3106/.local/lib/python3.11/site-packages/torch/utils/data/dataloader.py:624: UserWarning: This DataLoader will create 4 worker processes in total. Our suggested max number of worker in current system is 1, which is smaller than what this DataLoader is going to create. Please be aware that excessive worker creation might get DataLoader running slow or even freeze, lower the worker number to avoid potential slowness/freeze if necessary.\n",
      "  warnings.warn(\n"
     ]
    },
    {
     "name": "stdout",
     "output_type": "stream",
     "text": [
      "Val Loss: 0.2045 Acc: 0.9094 F1: 0.8926\n",
      "\n",
      "Epoch 20/20\n",
      "----------\n"
     ]
    },
    {
     "data": {
      "application/vnd.jupyter.widget-view+json": {
       "model_id": "4cc63d5d0ff148a7af45b960be260434",
       "version_major": 2,
       "version_minor": 0
      },
      "text/plain": [
       "Training Student:   0%|          | 0/3215 [00:00<?, ?it/s]"
      ]
     },
     "metadata": {},
     "output_type": "display_data"
    },
    {
     "name": "stderr",
     "output_type": "stream",
     "text": [
      "/gpfs/home/hz3106/.local/lib/python3.11/site-packages/torch/utils/data/dataloader.py:624: UserWarning: This DataLoader will create 4 worker processes in total. Our suggested max number of worker in current system is 1, which is smaller than what this DataLoader is going to create. Please be aware that excessive worker creation might get DataLoader running slow or even freeze, lower the worker number to avoid potential slowness/freeze if necessary.\n",
      "  warnings.warn(\n"
     ]
    },
    {
     "name": "stdout",
     "output_type": "stream",
     "text": [
      "Train Loss: 0.1763 Acc: 0.8847 F1: 0.8559\n"
     ]
    },
    {
     "data": {
      "application/vnd.jupyter.widget-view+json": {
       "model_id": "5681d85e56844e7a815c48c0348ab0d5",
       "version_major": 2,
       "version_minor": 0
      },
      "text/plain": [
       "Validating Student:   0%|          | 0/689 [00:00<?, ?it/s]"
      ]
     },
     "metadata": {},
     "output_type": "display_data"
    },
    {
     "name": "stderr",
     "output_type": "stream",
     "text": [
      "/gpfs/home/hz3106/.local/lib/python3.11/site-packages/torch/utils/data/dataloader.py:624: UserWarning: This DataLoader will create 4 worker processes in total. Our suggested max number of worker in current system is 1, which is smaller than what this DataLoader is going to create. Please be aware that excessive worker creation might get DataLoader running slow or even freeze, lower the worker number to avoid potential slowness/freeze if necessary.\n",
      "  warnings.warn(\n"
     ]
    },
    {
     "name": "stdout",
     "output_type": "stream",
     "text": [
      "Val Loss: 0.2024 Acc: 0.9136 F1: 0.8989\n",
      "\n"
     ]
    },
    {
     "data": {
      "image/png": "[encoded data removed]",
      "text/plain": [
       "<Figure size 1500x500 with 3 Axes>"
      ]
     },
     "metadata": {},
     "output_type": "display_data"
    },
    {
     "name": "stdout",
     "output_type": "stream",
     "text": [
      "\n",
      "Evaluating student model on test set:\n"
     ]
    },
    {
     "data": {
      "application/vnd.jupyter.widget-view+json": {
       "model_id": "c2781e9b46ee416c8cf0dc72ac43bdc8",
       "version_major": 2,
       "version_minor": 0
      },
      "text/plain": [
       "Testing:   0%|          | 0/689 [00:00<?, ?it/s]"
      ]
     },
     "metadata": {},
     "output_type": "display_data"
    },
    {
     "name": "stderr",
     "output_type": "stream",
     "text": [
      "/gpfs/home/hz3106/.local/lib/python3.11/site-packages/torch/utils/data/dataloader.py:624: UserWarning: This DataLoader will create 4 worker processes in total. Our suggested max number of worker in current system is 1, which is smaller than what this DataLoader is going to create. Please be aware that excessive worker creation might get DataLoader running slow or even freeze, lower the worker number to avoid potential slowness/freeze if necessary.\n",
      "  warnings.warn(\n"
     ]
    },
    {
     "name": "stdout",
     "output_type": "stream",
     "text": [
      "Test Accuracy: 0.9127\n",
      "Precision: 0.9185 (Normal: 0.9775, Abnormal: 0.9080)\n",
      "Recall: 0.9127 (Normal: 0.4311, Abnormal: 0.9982)\n",
      "F1 Score: 0.8978 (Normal: 0.5984, Abnormal: 0.9510)\n",
      "\n",
      "Confusion Matrix:\n",
      "[[ 1434  1892]\n",
      " [   33 18683]]\n"
     ]
    },
    {
     "data": {
      "image/png": "[encoded data removed]",
      "text/plain": [
       "<Figure size 800x600 with 2 Axes>"
      ]
     },
     "metadata": {},
     "output_type": "display_data"
    },
    {
     "name": "stdout",
     "output_type": "stream",
     "text": [
      "\n",
      "Evaluating teacher model on test set (resized to 120x120):\n"
     ]
    },
    {
     "name": "stderr",
     "output_type": "stream",
     "text": [
      "/gpfs/home/hz3106/.local/lib/python3.11/site-packages/torch/utils/data/dataloader.py:624: UserWarning: This DataLoader will create 4 worker processes in total. Our suggested max number of worker in current system is 1, which is smaller than what this DataLoader is going to create. Please be aware that excessive worker creation might get DataLoader running slow or even freeze, lower the worker number to avoid potential slowness/freeze if necessary.\n",
      "  warnings.warn(\n"
     ]
    },
    {
     "data": {
      "application/vnd.jupyter.widget-view+json": {
       "model_id": "ce4702e6a763454f884676856f484ea2",
       "version_major": 2,
       "version_minor": 0
      },
      "text/plain": [
       "Testing:   0%|          | 0/689 [00:00<?, ?it/s]"
      ]
     },
     "metadata": {},
     "output_type": "display_data"
    },
    {
     "name": "stdout",
     "output_type": "stream",
     "text": [
      "Test Accuracy: 0.9236\n",
      "Precision: 0.9221 (Normal: 0.9001, Abnormal: 0.9260)\n",
      "Recall: 0.9236 (Normal: 0.5553, Abnormal: 0.9890)\n",
      "F1 Score: 0.9158 (Normal: 0.6869, Abnormal: 0.9565)\n",
      "\n",
      "Confusion Matrix:\n",
      "[[ 1847  1479]\n",
      " [  205 18511]]\n",
      "Student model saved as models/student_distilled_resnet_60x60.pth\n",
      "\n",
      "Model Comparison:\n",
      "Teacher model (resnet): 11,506,370 parameters (trainable: 11,506,370)\n",
      "Student model (resnet): 11,502,690 parameters (trainable: 9,317,922)\n",
      "Parameter reduction: 3,680 (0.0%)\n",
      "\n",
      "Performance Comparison:\n",
      "Teacher model - Test Accuracy: 0.9236, F1: 0.9158\n",
      "Student model - Test Accuracy: 0.9127, F1: 0.8978\n",
      "\n",
      "Inference Speed Comparison:\n"
     ]
    },
    {
     "name": "stderr",
     "output_type": "stream",
     "text": [
      "/gpfs/home/hz3106/.local/lib/python3.11/site-packages/torch/utils/data/dataloader.py:624: UserWarning: This DataLoader will create 4 worker processes in total. Our suggested max number of worker in current system is 1, which is smaller than what this DataLoader is going to create. Please be aware that excessive worker creation might get DataLoader running slow or even freeze, lower the worker number to avoid potential slowness/freeze if necessary.\n",
      "  warnings.warn(\n"
     ]
    },
    {
     "name": "stdout",
     "output_type": "stream",
     "text": [
      "Teacher model average inference time: 2.65 ms\n",
      "Student model average inference time: 5.58 ms\n",
      "Speedup: 0.47x\n"
     ]
    }
   ],
   "source": [
    " student_model, teacher_model, history, comparison = run_knowledge_distillation_from_scratch(\n",
    "     data_dir='/gpfs/scratch/hz3106/Gashisdb/Gashisdb_processed/120x120',\n",
    "     model_type='resnet',  # or 'custom'\n",
    "     num_epochs=20,\n",
    "     alpha=0.5,  # Distillation weight\n",
    "     temperature=4.0  # Temperature for softening\n",
    " )"
   ]
  }
 ],
 "metadata": {
  "kernelspec": {
   "display_name": "Python 3",
   "language": "python",
   "name": "python3"
  },
  "language_info": {
   "codemirror_mode": {
    "name": "ipython",
    "version": 3
   },
   "file_extension": ".py",
   "mimetype": "text/x-python",
   "name": "python",
   "nbconvert_exporter": "python",
   "pygments_lexer": "ipython3",
   "version": "3.11.5"
  }
 },
 "nbformat": 4,
 "nbformat_minor": 5
}
