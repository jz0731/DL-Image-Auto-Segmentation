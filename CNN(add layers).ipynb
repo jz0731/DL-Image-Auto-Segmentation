{
 "cells": [
  {
   "cell_type": "code",
   "execution_count": 2,
   "id": "7725ea37",
   "metadata": {},
   "outputs": [
    {
     "name": "stdout",
     "output_type": "stream",
     "text": [
      "Defaulting to user installation because normal site-packages is not writeable\n",
      "Collecting albumentations\n",
      "  Obtaining dependency information for albumentations from https://files.pythonhosted.org/packages/97/d3/cf3aab593209d1be5e4bca54aeea297225708bd25f06426d6b8ec3630a76/albumentations-2.0.5-py3-none-any.whl.metadata\n",
      "  Downloading albumentations-2.0.5-py3-none-any.whl.metadata (41 kB)\n",
      "\u001b[2K     \u001b[38;2;114;156;31m━━━━━━━━━━━━━━━━━━━━━━━━━━━━━━━━━━━━━━━━\u001b[0m \u001b[32m41.7/41.7 kB\u001b[0m \u001b[31m1.5 MB/s\u001b[0m eta \u001b[36m0:00:00\u001b[0m\n",
      "\u001b[?25hRequirement already satisfied: numpy>=1.24.4 in /gpfs/share/apps/anaconda3/gpu/2023.09/lib/python3.11/site-packages (from albumentations) (1.26.3)\n",
      "Requirement already satisfied: scipy>=1.10.0 in /gpfs/share/apps/anaconda3/gpu/2023.09/lib/python3.11/site-packages (from albumentations) (1.11.4)\n",
      "Requirement already satisfied: PyYAML in /gpfs/share/apps/anaconda3/gpu/2023.09/lib/python3.11/site-packages (from albumentations) (6.0.1)\n",
      "Collecting pydantic>=2.9.2 (from albumentations)\n",
      "  Obtaining dependency information for pydantic>=2.9.2 from https://files.pythonhosted.org/packages/b0/1d/407b29780a289868ed696d1616f4aad49d6388e5a77f567dcd2629dcd7b8/pydantic-2.11.3-py3-none-any.whl.metadata\n",
      "  Downloading pydantic-2.11.3-py3-none-any.whl.metadata (65 kB)\n",
      "\u001b[2K     \u001b[38;2;114;156;31m━━━━━━━━━━━━━━━━━━━━━━━━━━━━━━━━━━━━━━━━\u001b[0m \u001b[32m65.2/65.2 kB\u001b[0m \u001b[31m5.1 MB/s\u001b[0m eta \u001b[36m0:00:00\u001b[0m\n",
      "\u001b[?25hCollecting albucore==0.0.23 (from albumentations)\n",
      "  Obtaining dependency information for albucore==0.0.23 from https://files.pythonhosted.org/packages/3d/de/4d9298befa6ae0f21230378f55100dca364816e3734028ca2766f2eca263/albucore-0.0.23-py3-none-any.whl.metadata\n",
      "  Downloading albucore-0.0.23-py3-none-any.whl.metadata (5.3 kB)\n",
      "Collecting opencv-python-headless>=4.9.0.80 (from albumentations)\n",
      "  Obtaining dependency information for opencv-python-headless>=4.9.0.80 from https://files.pythonhosted.org/packages/dd/5c/c139a7876099916879609372bfa513b7f1257f7f1a908b0bdc1c2328241b/opencv_python_headless-4.11.0.86-cp37-abi3-manylinux_2_17_x86_64.manylinux2014_x86_64.whl.metadata\n",
      "  Downloading opencv_python_headless-4.11.0.86-cp37-abi3-manylinux_2_17_x86_64.manylinux2014_x86_64.whl.metadata (20 kB)\n",
      "Collecting stringzilla>=3.10.4 (from albucore==0.0.23->albumentations)\n",
      "  Obtaining dependency information for stringzilla>=3.10.4 from https://files.pythonhosted.org/packages/bd/a8/dbb08d6576d0f4302897a23ef6f5626ec0015a0515b85336f845101118f9/stringzilla-3.12.5-cp311-cp311-manylinux_2_5_x86_64.manylinux1_x86_64.manylinux_2_28_x86_64.whl.metadata\n",
      "  Downloading stringzilla-3.12.5-cp311-cp311-manylinux_2_5_x86_64.manylinux1_x86_64.manylinux_2_28_x86_64.whl.metadata (80 kB)\n",
      "\u001b[2K     \u001b[38;2;114;156;31m━━━━━━━━━━━━━━━━━━━━━━━━━━━━━━━━━━━━━━━━\u001b[0m \u001b[32m80.3/80.3 kB\u001b[0m \u001b[31m14.7 MB/s\u001b[0m eta \u001b[36m0:00:00\u001b[0m\n",
      "\u001b[?25hCollecting simsimd>=5.9.2 (from albucore==0.0.23->albumentations)\n",
      "  Obtaining dependency information for simsimd>=5.9.2 from https://files.pythonhosted.org/packages/a7/eb/a823b0227b5dc43de8125f502237dd8e844b1e803a74e46aa7c3d0f24f83/simsimd-6.2.1-cp311-cp311-manylinux_2_28_x86_64.whl.metadata\n",
      "  Downloading simsimd-6.2.1-cp311-cp311-manylinux_2_28_x86_64.whl.metadata (66 kB)\n",
      "\u001b[2K     \u001b[38;2;114;156;31m━━━━━━━━━━━━━━━━━━━━━━━━━━━━━━━━━━━━━━━━\u001b[0m \u001b[32m66.0/66.0 kB\u001b[0m \u001b[31m16.3 MB/s\u001b[0m eta \u001b[36m0:00:00\u001b[0m\n",
      "\u001b[?25hCollecting annotated-types>=0.6.0 (from pydantic>=2.9.2->albumentations)\n",
      "  Obtaining dependency information for annotated-types>=0.6.0 from https://files.pythonhosted.org/packages/78/b6/6307fbef88d9b5ee7421e68d78a9f162e0da4900bc5f5793f6d3d0e34fb8/annotated_types-0.7.0-py3-none-any.whl.metadata\n",
      "  Downloading annotated_types-0.7.0-py3-none-any.whl.metadata (15 kB)\n",
      "Collecting pydantic-core==2.33.1 (from pydantic>=2.9.2->albumentations)\n",
      "  Obtaining dependency information for pydantic-core==2.33.1 from https://files.pythonhosted.org/packages/0b/60/516484135173aa9e5861d7a0663dce82e4746d2e7f803627d8c25dfa5578/pydantic_core-2.33.1-cp311-cp311-manylinux_2_17_x86_64.manylinux2014_x86_64.whl.metadata\n",
      "  Downloading pydantic_core-2.33.1-cp311-cp311-manylinux_2_17_x86_64.manylinux2014_x86_64.whl.metadata (6.8 kB)\n",
      "Requirement already satisfied: typing-extensions>=4.12.2 in /gpfs/home/hz3106/.local/lib/python3.11/site-packages (from pydantic>=2.9.2->albumentations) (4.13.2)\n",
      "Collecting typing-inspection>=0.4.0 (from pydantic>=2.9.2->albumentations)\n",
      "  Obtaining dependency information for typing-inspection>=0.4.0 from https://files.pythonhosted.org/packages/31/08/aa4fdfb71f7de5176385bd9e90852eaf6b5d622735020ad600f2bab54385/typing_inspection-0.4.0-py3-none-any.whl.metadata\n",
      "  Downloading typing_inspection-0.4.0-py3-none-any.whl.metadata (2.6 kB)\n",
      "Downloading albumentations-2.0.5-py3-none-any.whl (290 kB)\n",
      "\u001b[2K   \u001b[38;2;114;156;31m━━━━━━━━━━━━━━━━━━━━━━━━━━━━━━━━━━━━━━━━\u001b[0m \u001b[32m290.6/290.6 kB\u001b[0m \u001b[31m9.1 MB/s\u001b[0m eta \u001b[36m0:00:00\u001b[0m\n",
      "\u001b[?25hDownloading albucore-0.0.23-py3-none-any.whl (14 kB)\n",
      "Downloading opencv_python_headless-4.11.0.86-cp37-abi3-manylinux_2_17_x86_64.manylinux2014_x86_64.whl (50.0 MB)\n",
      "\u001b[2K   \u001b[38;2;114;156;31m━━━━━━━━━━━━━━━━━━━━━━━━━━━━━━━━━━━━━━━━\u001b[0m \u001b[32m50.0/50.0 MB\u001b[0m \u001b[31m42.9 MB/s\u001b[0m eta \u001b[36m0:00:00\u001b[0mm eta \u001b[36m0:00:01\u001b[0m[36m0:00:01\u001b[0m\n",
      "\u001b[?25hDownloading pydantic-2.11.3-py3-none-any.whl (443 kB)\n",
      "\u001b[2K   \u001b[38;2;114;156;31m━━━━━━━━━━━━━━━━━━━━━━━━━━━━━━━━━━━━━━━━\u001b[0m \u001b[32m443.6/443.6 kB\u001b[0m \u001b[31m12.4 MB/s\u001b[0m eta \u001b[36m0:00:00\u001b[0mm eta \u001b[36m0:00:01\u001b[0m\n",
      "\u001b[?25hDownloading pydantic_core-2.33.1-cp311-cp311-manylinux_2_17_x86_64.manylinux2014_x86_64.whl (2.0 MB)\n",
      "\u001b[2K   \u001b[38;2;114;156;31m━━━━━━━━━━━━━━━━━━━━━━━━━━━━━━━━━━━━━━━━\u001b[0m \u001b[32m2.0/2.0 MB\u001b[0m \u001b[31m35.7 MB/s\u001b[0m eta \u001b[36m0:00:00\u001b[0mm eta \u001b[36m0:00:01\u001b[0m\n",
      "\u001b[?25hDownloading annotated_types-0.7.0-py3-none-any.whl (13 kB)\n",
      "Downloading simsimd-6.2.1-cp311-cp311-manylinux_2_28_x86_64.whl (632 kB)\n",
      "\u001b[2K   \u001b[38;2;114;156;31m━━━━━━━━━━━━━━━━━━━━━━━━━━━━━━━━━━━━━━━━\u001b[0m \u001b[32m632.7/632.7 kB\u001b[0m \u001b[31m19.3 MB/s\u001b[0m eta \u001b[36m0:00:00\u001b[0m\n",
      "\u001b[?25hDownloading stringzilla-3.12.5-cp311-cp311-manylinux_2_5_x86_64.manylinux1_x86_64.manylinux_2_28_x86_64.whl (307 kB)\n",
      "\u001b[2K   \u001b[38;2;114;156;31m━━━━━━━━━━━━━━━━━━━━━━━━━━━━━━━━━━━━━━━━\u001b[0m \u001b[32m307.8/307.8 kB\u001b[0m \u001b[31m9.7 MB/s\u001b[0m eta \u001b[36m0:00:00\u001b[0m\n",
      "\u001b[?25hDownloading typing_inspection-0.4.0-py3-none-any.whl (14 kB)\n",
      "Installing collected packages: stringzilla, simsimd, typing-inspection, pydantic-core, opencv-python-headless, annotated-types, pydantic, albucore, albumentations\n",
      "\u001b[31mERROR: pip's dependency resolver does not currently take into account all the packages that are installed. This behaviour is the source of the following dependency conflicts.\n",
      "roi-converter-ngff 0.7.0 requires geopandas, which is not installed.\n",
      "roi-converter-ngff 0.7.0 requires omero-py, which is not installed.\n",
      "roi-converter-ngff 0.7.0 requires omero2pandas>=0.3.0, which is not installed.\n",
      "roi-converter-ngff 0.7.0 requires rasterio, which is not installed.\n",
      "roi-converter-ngff 0.7.0 requires shapely>=2, which is not installed.\n",
      "roi-converter-ngff 0.7.0 requires zarr<3, which is not installed.\n",
      "anaconda-cloud-auth 0.1.4 requires pydantic<2.0, but you have pydantic 2.11.3 which is incompatible.\u001b[0m\u001b[31m\n",
      "\u001b[0mSuccessfully installed albucore-0.0.23 albumentations-2.0.5 annotated-types-0.7.0 opencv-python-headless-4.11.0.86 pydantic-2.11.3 pydantic-core-2.33.1 simsimd-6.2.1 stringzilla-3.12.5 typing-inspection-0.4.0\n",
      "Note: you may need to restart the kernel to use updated packages.\n"
     ]
    }
   ],
   "source": [
    "pip install -U albumentations"
   ]
  },
  {
   "cell_type": "code",
   "execution_count": 1,
   "id": "a476e2f5",
   "metadata": {},
   "outputs": [
    {
     "name": "stderr",
     "output_type": "stream",
     "text": [
      "/gpfs/home/hz3106/.local/lib/python3.11/site-packages/albumentations/__init__.py:28: UserWarning: A new version of Albumentations is available: '2.0.6' (you have '2.0.5'). Upgrade using: pip install -U albumentations. To disable automatic update checks, set the environment variable NO_ALBUMENTATIONS_UPDATE to 1.\n",
      "  check_for_updates()\n"
     ]
    },
    {
     "name": "stdout",
     "output_type": "stream",
     "text": [
      "Using device: cuda\n"
     ]
    }
   ],
   "source": [
    "import os\n",
    "import numpy as np\n",
    "import matplotlib.pyplot as plt\n",
    "from PIL import Image\n",
    "import torch\n",
    "import torch.nn as nn\n",
    "import torch.optim as optim\n",
    "from torch.utils.data import Dataset, DataLoader, random_split\n",
    "import torchvision.transforms as transforms\n",
    "from torchvision import models\n",
    "from sklearn.metrics import accuracy_score, precision_score, recall_score, f1_score, confusion_matrix\n",
    "import time\n",
    "from tqdm.notebook import tqdm  # Use tqdm.notebook for Jupyter\n",
    "import albumentations as A\n",
    "from albumentations.pytorch import ToTensorV2\n",
    "import cv2\n",
    "import seaborn as sns\n",
    "\n",
    "# Set random seeds for reproducibility\n",
    "def set_seed(seed=42):\n",
    "    np.random.seed(seed)\n",
    "    torch.manual_seed(seed)\n",
    "    if torch.cuda.is_available():\n",
    "        torch.cuda.manual_seed(seed)\n",
    "        torch.cuda.manual_seed_all(seed)\n",
    "    torch.backends.cudnn.deterministic = True\n",
    "    torch.backends.cudnn.benchmark = False\n",
    "\n",
    "set_seed()\n",
    "\n",
    "# Check for GPU\n",
    "device = torch.device('cuda' if torch.cuda.is_available() else 'cpu')\n",
    "print(f\"Using device: {device}\")\n",
    "\n",
    "# Dataset class for GasHisSDB with Albumentations support\n",
    "class GasHisSDBDataset(Dataset):\n",
    "    def __init__(self, root_dir, transform=None):\n",
    "        \"\"\"\n",
    "        Args:\n",
    "            root_dir (string): Directory with all the images.\n",
    "            transform: Albumentations transform pipeline\n",
    "        \"\"\"\n",
    "        self.root_dir = root_dir\n",
    "        self.transform = transform\n",
    "        self.classes = ['normal', 'abnormal']\n",
    "        self.class_to_idx = {cls: idx for idx, cls in enumerate(self.classes)}\n",
    "        \n",
    "        self.samples = []\n",
    "        \n",
    "        # Collect samples\n",
    "        for class_name in self.classes:\n",
    "            class_dir = os.path.join(root_dir, class_name)\n",
    "            if not os.path.isdir(class_dir):\n",
    "                print(f\"Warning: Directory {class_dir} does not exist or is not accessible\")\n",
    "                continue\n",
    "                \n",
    "            for img_name in os.listdir(class_dir):\n",
    "                if img_name.endswith(('.png', '.jpg', '.jpeg', '.tif', '.tiff')):\n",
    "                    self.samples.append((\n",
    "                        os.path.join(class_dir, img_name),\n",
    "                        self.class_to_idx[class_name]\n",
    "                    ))\n",
    "        \n",
    "        # Print dataset statistics\n",
    "        self.normal_count = sum(1 for _, label in self.samples if label == 0)\n",
    "        self.abnormal_count = sum(1 for _, label in self.samples if label == 1)\n",
    "        print(f\"Dataset loaded with {len(self.samples)} images:\")\n",
    "        print(f\"  - Normal: {self.normal_count}\")\n",
    "        print(f\"  - Abnormal: {self.abnormal_count}\")\n",
    "        \n",
    "        # Safely calculate ratio\n",
    "        if self.normal_count > 0:\n",
    "            print(f\"  - Ratio (Abnormal:Normal): {self.abnormal_count/self.normal_count:.2f}:1\")\n",
    "        else:\n",
    "            print(\"  - Ratio: Cannot calculate (no normal samples found)\")\n",
    "        \n",
    "    def __len__(self):\n",
    "        return len(self.samples)\n",
    "    \n",
    "    def __getitem__(self, idx):\n",
    "        img_path, label = self.samples[idx]\n",
    "        \n",
    "        # Load image with OpenCV for Albumentations compatibility\n",
    "        try:\n",
    "            # Read as BGR and convert to RGB\n",
    "            image = cv2.imread(img_path)\n",
    "            if image is None:\n",
    "                print(f\"Error loading image {img_path}\")\n",
    "                # Return a placeholder black image and the label\n",
    "                image = np.zeros((120, 120, 3), dtype=np.uint8)\n",
    "            else:\n",
    "                image = cv2.cvtColor(image, cv2.COLOR_BGR2RGB)\n",
    "        except Exception as e:\n",
    "            print(f\"Error loading image {img_path}: {e}\")\n",
    "            # Return a placeholder black image and the label\n",
    "            image = np.zeros((120, 120, 3), dtype=np.uint8)\n",
    "        \n",
    "        if self.transform:\n",
    "            augmented = self.transform(image=image)\n",
    "            image = augmented['image']\n",
    "            \n",
    "        return image, label\n",
    "\n",
    "# Define an enhanced CNN model with more gradual fully connected layer reduction\n",
    "class GradualFCGastricCNN(nn.Module):\n",
    "    def __init__(self, num_classes=2):\n",
    "        super(GradualFCGastricCNN, self).__init__()\n",
    "        \n",
    "        # Convolutional layers\n",
    "        self.conv1 = nn.Conv2d(3, 32, kernel_size=3, padding=1)\n",
    "        self.bn1 = nn.BatchNorm2d(32)\n",
    "        self.relu1 = nn.ReLU(inplace=True)\n",
    "        self.pool1 = nn.MaxPool2d(kernel_size=2, stride=2)\n",
    "        \n",
    "        self.conv2 = nn.Conv2d(32, 64, kernel_size=3, padding=1)\n",
    "        self.bn2 = nn.BatchNorm2d(64)\n",
    "        self.relu2 = nn.ReLU(inplace=True)\n",
    "        self.pool2 = nn.MaxPool2d(kernel_size=2, stride=2)\n",
    "        \n",
    "        self.conv3 = nn.Conv2d(64, 128, kernel_size=3, padding=1)\n",
    "        self.bn3 = nn.BatchNorm2d(128)\n",
    "        self.relu3 = nn.ReLU(inplace=True)\n",
    "        self.pool3 = nn.MaxPool2d(kernel_size=2, stride=2)\n",
    "        \n",
    "        self.conv4 = nn.Conv2d(128, 256, kernel_size=3, padding=1)\n",
    "        self.bn4 = nn.BatchNorm2d(256)\n",
    "        self.relu4 = nn.ReLU(inplace=True)\n",
    "        self.pool4 = nn.MaxPool2d(kernel_size=2, stride=2)\n",
    "        \n",
    "        # Calculate flattened size after convolutions (for 120x120 input)\n",
    "        # After 4 pooling layers with stride 2: 120 -> 60 -> 30 -> 15 -> 7\n",
    "        flattened_size = 256 * 7 * 7  # 12,544\n",
    "        \n",
    "        # More gradual fully connected layer reduction\n",
    "        # 12,544 -> 4096 -> 2048 -> 1024 -> 512 -> 256 -> 128 -> 64 -> 32 -> 2\n",
    "        self.fc_layers = nn.Sequential(\n",
    "            # FC Layer 1: 12,544 -> 4096\n",
    "            nn.Linear(flattened_size, 4096),\n",
    "            nn.BatchNorm1d(4096),\n",
    "            nn.ReLU(inplace=True),\n",
    "            nn.Dropout(0.5),\n",
    "            \n",
    "            # FC Layer 2: 4096 -> 2048\n",
    "            nn.Linear(4096, 2048),\n",
    "            nn.BatchNorm1d(2048),\n",
    "            nn.ReLU(inplace=True),\n",
    "            nn.Dropout(0.5),\n",
    "            \n",
    "            # FC Layer 3: 2048 -> 1024\n",
    "            nn.Linear(2048, 1024),\n",
    "            nn.BatchNorm1d(1024),\n",
    "            nn.ReLU(inplace=True),\n",
    "            nn.Dropout(0.5),\n",
    "            \n",
    "            # FC Layer 4: 1024 -> 512\n",
    "            nn.Linear(1024, 512),\n",
    "            nn.BatchNorm1d(512),\n",
    "            nn.ReLU(inplace=True),\n",
    "            nn.Dropout(0.4),\n",
    "            \n",
    "            # FC Layer 5: 512 -> 256\n",
    "            nn.Linear(512, 256),\n",
    "            nn.BatchNorm1d(256),\n",
    "            nn.ReLU(inplace=True),\n",
    "            nn.Dropout(0.4),\n",
    "            \n",
    "            # FC Layer 6: 256 -> 128\n",
    "            nn.Linear(256, 128),\n",
    "            nn.BatchNorm1d(128),\n",
    "            nn.ReLU(inplace=True),\n",
    "            nn.Dropout(0.3),\n",
    "            \n",
    "            # FC Layer 7: 128 -> 64\n",
    "            nn.Linear(128, 64),\n",
    "            nn.BatchNorm1d(64),\n",
    "            nn.ReLU(inplace=True),\n",
    "            nn.Dropout(0.3),\n",
    "            \n",
    "            # FC Layer 8: 64 -> 32\n",
    "            nn.Linear(64, 32),\n",
    "            nn.BatchNorm1d(32),\n",
    "            nn.ReLU(inplace=True),\n",
    "            nn.Dropout(0.2),\n",
    "            \n",
    "            # Output Layer: 32 -> num_classes\n",
    "            nn.Linear(32, num_classes)\n",
    "        )\n",
    "        \n",
    "    def forward(self, x):\n",
    "        # Store intermediate activations\n",
    "        self.intermediate_activations = {}\n",
    "        \n",
    "        # Convolutional layers\n",
    "        x = self.pool1(self.relu1(self.bn1(self.conv1(x))))\n",
    "        self.intermediate_activations['conv1'] = x\n",
    "        \n",
    "        x = self.pool2(self.relu2(self.bn2(self.conv2(x))))\n",
    "        self.intermediate_activations['conv2'] = x\n",
    "        \n",
    "        x = self.pool3(self.relu3(self.bn3(self.conv3(x))))\n",
    "        self.intermediate_activations['conv3'] = x\n",
    "        \n",
    "        x = self.pool4(self.relu4(self.bn4(self.conv4(x))))\n",
    "        self.intermediate_activations['conv4'] = x\n",
    "        \n",
    "        # Flatten\n",
    "        x = x.view(x.size(0), -1)\n",
    "        \n",
    "        # Fully connected layers with gradual reduction\n",
    "        x = self.fc_layers(x)\n",
    "        \n",
    "        return x\n",
    "\n",
    "# Create a ResNet-based model with gradual FC layers\n",
    "def create_gradual_fc_resnet_model(num_classes=2):\n",
    "    model = models.resnet18(pretrained=True)\n",
    "    \n",
    "    # Freeze early layers\n",
    "    for param in list(model.parameters())[:-30]:  # Freeze all except last few layers\n",
    "        param.requires_grad = False\n",
    "    \n",
    "    # Get the number of features from the last layer\n",
    "    num_ftrs = model.fc.in_features\n",
    "    \n",
    "    # Replace with gradual FC layers\n",
    "    model.fc = nn.Sequential(\n",
    "        # FC Layer 1: num_ftrs -> 2048\n",
    "        nn.Linear(num_ftrs, 2048),\n",
    "        nn.BatchNorm1d(2048),\n",
    "        nn.ReLU(inplace=True),\n",
    "        nn.Dropout(0.5),\n",
    "        \n",
    "        # FC Layer 2: 2048 -> 1024\n",
    "        nn.Linear(2048, 1024),\n",
    "        nn.BatchNorm1d(1024),\n",
    "        nn.ReLU(inplace=True),\n",
    "        nn.Dropout(0.5),\n",
    "        \n",
    "        # FC Layer 3: 1024 -> 512\n",
    "        nn.Linear(1024, 512),\n",
    "        nn.BatchNorm1d(512),\n",
    "        nn.ReLU(inplace=True),\n",
    "        nn.Dropout(0.4),\n",
    "        \n",
    "        # FC Layer 4: 512 -> 256\n",
    "        nn.Linear(512, 256),\n",
    "        nn.BatchNorm1d(256),\n",
    "        nn.ReLU(inplace=True),\n",
    "        nn.Dropout(0.4),\n",
    "        \n",
    "        # FC Layer 5: 256 -> 128\n",
    "        nn.Linear(256, 128),\n",
    "        nn.BatchNorm1d(128),\n",
    "        nn.ReLU(inplace=True),\n",
    "        nn.Dropout(0.3),\n",
    "        \n",
    "        # FC Layer 6: 128 -> 64\n",
    "        nn.Linear(128, 64),\n",
    "        nn.BatchNorm1d(64),\n",
    "        nn.ReLU(inplace=True),\n",
    "        nn.Dropout(0.3),\n",
    "        \n",
    "        # FC Layer 7: 64 -> 32\n",
    "        nn.Linear(64, 32),\n",
    "        nn.BatchNorm1d(32),\n",
    "        nn.ReLU(inplace=True),\n",
    "        nn.Dropout(0.2),\n",
    "        \n",
    "        # Output Layer: 32 -> num_classes\n",
    "        nn.Linear(32, num_classes)\n",
    "    )\n",
    "    \n",
    "    # Initialize model intermediate activations\n",
    "    model.intermediate_activations = {}\n",
    "    \n",
    "    # Add hooks to capture intermediate activations\n",
    "    def get_layer_activation(name):\n",
    "        def hook(module, input, output):\n",
    "            model.intermediate_activations[name] = output\n",
    "        return hook\n",
    "    \n",
    "    # Register hooks for feature maps\n",
    "    model.layer1.register_forward_hook(get_layer_activation('layer1'))\n",
    "    model.layer2.register_forward_hook(get_layer_activation('layer2'))\n",
    "    model.layer3.register_forward_hook(get_layer_activation('layer3'))\n",
    "    model.layer4.register_forward_hook(get_layer_activation('layer4'))\n",
    "    \n",
    "    return model\n",
    "\n",
    "# Function to train the model\n",
    "def train_model(model, train_loader, val_loader, criterion, optimizer, scheduler, num_epochs=20):\n",
    "    # Track best model\n",
    "    best_model_wts = model.state_dict()\n",
    "    best_acc = 0.0\n",
    "    best_f1 = 0.0  # Also track F1-score for imbalanced data\n",
    "    \n",
    "    # History for plotting\n",
    "    history = {\n",
    "        'train_loss': [],\n",
    "        'train_acc': [],\n",
    "        'train_f1': [],\n",
    "        'val_loss': [],\n",
    "        'val_acc': [],\n",
    "        'val_f1': []\n",
    "    }\n",
    "    \n",
    "    for epoch in range(num_epochs):\n",
    "        print(f'Epoch {epoch+1}/{num_epochs}')\n",
    "        print('-' * 10)\n",
    "        \n",
    "        # Each epoch has a training and validation phase\n",
    "        for phase in ['train', 'val']:\n",
    "            if phase == 'train':\n",
    "                model.train()  # Set model to training mode\n",
    "                dataloader = train_loader\n",
    "            else:\n",
    "                model.eval()   # Set model to evaluate mode\n",
    "                dataloader = val_loader\n",
    "            \n",
    "            running_loss = 0.0\n",
    "            running_corrects = 0\n",
    "            all_preds = []\n",
    "            all_labels = []\n",
    "            \n",
    "            # Iterate over data\n",
    "            for inputs, labels in tqdm(dataloader, desc=phase):\n",
    "                inputs = inputs.to(device)\n",
    "                labels = labels.to(device)\n",
    "                \n",
    "                # Zero the parameter gradients\n",
    "                optimizer.zero_grad()\n",
    "                \n",
    "                # Forward pass\n",
    "                with torch.set_grad_enabled(phase == 'train'):\n",
    "                    outputs = model(inputs)\n",
    "                    _, preds = torch.max(outputs, 1)\n",
    "                    loss = criterion(outputs, labels)\n",
    "                    \n",
    "                    # Backward + optimize only if in training phase\n",
    "                    if phase == 'train':\n",
    "                        loss.backward()\n",
    "                        optimizer.step()\n",
    "                \n",
    "                # Statistics\n",
    "                running_loss += loss.item() * inputs.size(0)\n",
    "                running_corrects += torch.sum(preds == labels.data)\n",
    "                \n",
    "                # Collect predictions and labels for F1 score\n",
    "                all_preds.extend(preds.cpu().numpy())\n",
    "                all_labels.extend(labels.cpu().numpy())\n",
    "            \n",
    "            epoch_loss = running_loss / len(dataloader.dataset)\n",
    "            epoch_acc = running_corrects.double() / len(dataloader.dataset)\n",
    "            \n",
    "            # Calculate F1 score - handle case when there are no samples of a particular class\n",
    "            try:\n",
    "                epoch_f1 = f1_score(all_labels, all_preds, average='weighted')\n",
    "            except:\n",
    "                epoch_f1 = 0.0\n",
    "                print(\"Warning: F1 score calculation failed - likely missing class in predictions\")\n",
    "            \n",
    "            print(f'{phase} Loss: {epoch_loss:.4f} Acc: {epoch_acc:.4f} F1: {epoch_f1:.4f}')\n",
    "            \n",
    "            # Record history for plotting\n",
    "            if phase == 'train':\n",
    "                history['train_loss'].append(epoch_loss)\n",
    "                history['train_acc'].append(epoch_acc.item())\n",
    "                history['train_f1'].append(epoch_f1)\n",
    "            else:\n",
    "                history['val_loss'].append(epoch_loss)\n",
    "                history['val_acc'].append(epoch_acc.item())\n",
    "                history['val_f1'].append(epoch_f1)\n",
    "                \n",
    "                # Learning rate scheduling\n",
    "                scheduler.step(epoch_loss)\n",
    "                \n",
    "                # Deep copy the model if it's the best based on F1 score (better for imbalanced data)\n",
    "                if epoch_f1 > best_f1:\n",
    "                    best_f1 = epoch_f1\n",
    "                    best_acc = epoch_acc\n",
    "                    best_model_wts = model.state_dict().copy()\n",
    "                    print(f\"New best model (F1: {best_f1:.4f})\")\n",
    "        \n",
    "        print()\n",
    "    \n",
    "    # Load best model weights\n",
    "    model.load_state_dict(best_model_wts)\n",
    "    return model, history\n",
    "\n",
    "# Function to evaluate the model\n",
    "def evaluate_model(model, test_loader):\n",
    "    model.eval()\n",
    "    \n",
    "    all_preds = []\n",
    "    all_labels = []\n",
    "    all_probs = []\n",
    "    \n",
    "    with torch.no_grad():\n",
    "        for inputs, labels in tqdm(test_loader, desc='Testing'):\n",
    "            inputs = inputs.to(device)\n",
    "            labels = labels.to(device)\n",
    "            \n",
    "            outputs = model(inputs)\n",
    "            probs = torch.softmax(outputs, dim=1)\n",
    "            _, preds = torch.max(outputs, 1)\n",
    "            \n",
    "            all_preds.extend(preds.cpu().numpy())\n",
    "            all_labels.extend(labels.cpu().numpy())\n",
    "            all_probs.extend(probs.cpu().numpy())\n",
    "    \n",
    "    all_probs = np.array(all_probs)\n",
    "    \n",
    "    # Calculate metrics\n",
    "    acc = accuracy_score(all_labels, all_preds)\n",
    "    \n",
    "    # Handle case where a class might not be present in the predictions\n",
    "    try:\n",
    "        precision = precision_score(all_labels, all_preds, average='weighted')\n",
    "        recall = recall_score(all_labels, all_preds, average='weighted')\n",
    "        f1 = f1_score(all_labels, all_preds, average='weighted')\n",
    "        \n",
    "        # Calculate class-specific metrics if both classes are present\n",
    "        class_labels = sorted(list(set(all_labels)))\n",
    "        if len(class_labels) > 1:\n",
    "            precision_per_class = precision_score(all_labels, all_preds, average=None)\n",
    "            recall_per_class = recall_score(all_labels, all_preds, average=None)\n",
    "            f1_per_class = f1_score(all_labels, all_preds, average=None)\n",
    "            \n",
    "            precision_normal = precision_per_class[0] if 0 in class_labels else 0\n",
    "            precision_abnormal = precision_per_class[1] if 1 in class_labels else 0\n",
    "            recall_normal = recall_per_class[0] if 0 in class_labels else 0\n",
    "            recall_abnormal = recall_per_class[1] if 1 in class_labels else 0\n",
    "            f1_normal = f1_per_class[0] if 0 in class_labels else 0\n",
    "            f1_abnormal = f1_per_class[1] if 1 in class_labels else 0\n",
    "        else:\n",
    "            print(\"Warning: Only one class present in test set\")\n",
    "            precision_normal = 0\n",
    "            precision_abnormal = 0\n",
    "            recall_normal = 0\n",
    "            recall_abnormal = 0\n",
    "            f1_normal = 0\n",
    "            f1_abnormal = 0\n",
    "    except:\n",
    "        print(\"Warning: Error calculating precision/recall/f1 - check class balance\")\n",
    "        precision = 0\n",
    "        recall = 0\n",
    "        f1 = 0\n",
    "        precision_normal = 0\n",
    "        precision_abnormal = 0\n",
    "        recall_normal = 0\n",
    "        recall_abnormal = 0\n",
    "        f1_normal = 0\n",
    "        f1_abnormal = 0\n",
    "    \n",
    "    # Calculate confusion matrix\n",
    "    cm = confusion_matrix(all_labels, all_preds)\n",
    "    \n",
    "    print(f'Test Accuracy: {acc:.4f}')\n",
    "    print(f'Precision: {precision:.4f} (Normal: {precision_normal:.4f}, Abnormal: {precision_abnormal:.4f})')\n",
    "    print(f'Recall: {recall:.4f} (Normal: {recall_normal:.4f}, Abnormal: {recall_abnormal:.4f})')\n",
    "    print(f'F1 Score: {f1:.4f} (Normal: {f1_normal:.4f}, Abnormal: {f1_abnormal:.4f})')\n",
    "    print('\\nConfusion Matrix:')\n",
    "    print(cm)\n",
    "    \n",
    "    # Calculate and plot precision-recall curve if both classes present\n",
    "    if len(set(all_labels)) > 1 and 1 in all_labels:\n",
    "        try:\n",
    "            from sklearn.metrics import precision_recall_curve, average_precision_score\n",
    "            \n",
    "            binary_labels = [1 if label == 1 else 0 for label in all_labels]\n",
    "            precision_curve, recall_curve, _ = precision_recall_curve(binary_labels, all_probs[:, 1])\n",
    "            avg_precision = average_precision_score(binary_labels, all_probs[:, 1])\n",
    "            \n",
    "            plt.figure(figsize=(8, 6))\n",
    "            plt.plot(recall_curve, precision_curve, label=f'Abnormal (AP={avg_precision:.3f})')\n",
    "            plt.xlabel('Recall')\n",
    "            plt.ylabel('Precision')\n",
    "            plt.title('Precision-Recall Curve for Abnormal Class')\n",
    "            plt.legend()\n",
    "            plt.grid(True, linestyle='--', alpha=0.7)\n",
    "            plt.savefig('precision_recall_curve.png')\n",
    "            plt.show()\n",
    "        except Exception as e:\n",
    "            print(f\"Error plotting precision-recall curve: {e}\")\n",
    "    \n",
    "    return {\n",
    "        'accuracy': acc,\n",
    "        'precision': precision,\n",
    "        'recall': recall,\n",
    "        'f1': f1,\n",
    "        'precision_normal': precision_normal,\n",
    "        'precision_abnormal': precision_abnormal,\n",
    "        'recall_normal': recall_normal,\n",
    "        'recall_abnormal': recall_abnormal,\n",
    "        'f1_normal': f1_normal,\n",
    "        'f1_abnormal': f1_abnormal,\n",
    "        'confusion_matrix': cm,\n",
    "        'predictions': all_preds,\n",
    "        'true_labels': all_labels,\n",
    "        'probabilities': all_probs\n",
    "    }\n",
    "\n",
    "# Function to plot the training history\n",
    "def plot_training_history(history):\n",
    "    plt.figure(figsize=(15, 5))\n",
    "    \n",
    "    plt.subplot(1, 3, 1)\n",
    "    plt.plot(history['train_loss'], label='Train Loss')\n",
    "    plt.plot(history['val_loss'], label='Validation Loss')\n",
    "    plt.title('Model Loss')\n",
    "    plt.ylabel('Loss')\n",
    "    plt.xlabel('Epoch')\n",
    "    plt.legend()\n",
    "    plt.grid(True, linestyle='--', alpha=0.7)\n",
    "    \n",
    "    plt.subplot(1, 3, 2)\n",
    "    plt.plot(history['train_acc'], label='Train Accuracy')\n",
    "    plt.plot(history['val_acc'], label='Validation Accuracy')\n",
    "    plt.title('Model Accuracy')\n",
    "    plt.ylabel('Accuracy')\n",
    "    plt.xlabel('Epoch')\n",
    "    plt.legend()\n",
    "    plt.grid(True, linestyle='--', alpha=0.7)\n",
    "    \n",
    "    plt.subplot(1, 3, 3)\n",
    "    plt.plot(history['train_f1'], label='Train F1')\n",
    "    plt.plot(history['val_f1'], label='Validation F1')\n",
    "    plt.title('Model F1 Score')\n",
    "    plt.ylabel('F1 Score')\n",
    "    plt.xlabel('Epoch')\n",
    "    plt.legend()\n",
    "    plt.grid(True, linestyle='--', alpha=0.7)\n",
    "    \n",
    "    plt.tight_layout()\n",
    "    plt.savefig('training_history.png')\n",
    "    plt.show()\n",
    "\n",
    "# Function to plot confusion matrix\n",
    "def plot_confusion_matrix(cm, classes=['Normal', 'Abnormal']):\n",
    "    plt.figure(figsize=(8, 6))\n",
    "    \n",
    "    # Calculate metrics from confusion matrix\n",
    "    total = np.sum(cm)\n",
    "    accuracy = (cm[0, 0] + cm[1, 1]) / total if total > 0 else 0\n",
    "    \n",
    "    # Calculate other metrics (handle division by zero)\n",
    "    precision_normal = cm[0, 0] / (cm[0, 0] + cm[1, 0]) if (cm[0, 0] + cm[1, 0]) > 0 else 0\n",
    "    precision_abnormal = cm[1, 1] / (cm[0, 1] + cm[1, 1]) if (cm[0, 1] + cm[1, 1]) > 0 else 0\n",
    "    \n",
    "    recall_normal = cm[0, 0] / (cm[0, 0] + cm[0, 1]) if (cm[0, 0] + cm[0, 1]) > 0 else 0\n",
    "    recall_abnormal = cm[1, 1] / (cm[1, 0] + cm[1, 1]) if (cm[1, 0] + cm[1, 1]) > 0 else 0\n",
    "    \n",
    "    # Plot confusion matrix with seaborn for better styling\n",
    "    sns.heatmap(cm, annot=True, fmt='d', cmap='Blues', cbar=True,\n",
    "               xticklabels=classes, yticklabels=classes)\n",
    "    \n",
    "    plt.title(f'Confusion Matrix\\nAccuracy: {accuracy:.3f}\\n' +\n",
    "              f'Normal - Precision: {precision_normal:.3f}, Recall: {recall_normal:.3f}\\n' +\n",
    "              f'Abnormal - Precision: {precision_abnormal:.3f}, Recall: {recall_abnormal:.3f}')\n",
    "    plt.ylabel('True label')\n",
    "    plt.xlabel('Predicted label')\n",
    "    plt.tight_layout()\n",
    "    plt.savefig('confusion_matrix.png')\n",
    "    plt.show()\n",
    "\n",
    "# Helper class for applying transforms to subsets\n",
    "class TransformedSubset(Dataset):\n",
    "    \"\"\"Apply transform to a subset of a dataset\"\"\"\n",
    "    def __init__(self, subset, transform=None):\n",
    "        self.subset = subset\n",
    "        self.transform = transform\n",
    "        \n",
    "    def __getitem__(self, idx):\n",
    "        x, y = self.subset[idx]\n",
    "        if self.transform:\n",
    "            augmented = self.transform(image=x)\n",
    "            x = augmented['image']\n",
    "        return x, y\n",
    "        \n",
    "    def __len__(self):\n",
    "        return len(self.subset)\n",
    "\n",
    "# Define augmentations for histopathology images\n",
    "def get_albumentation_transforms():\n",
    "    # Advanced augmentations specifically tailored for H&E stained histopathology images\n",
    "    train_transform = A.Compose([\n",
    "        # Spatial augmentations\n",
    "        A.Resize(120, 120),\n",
    "        A.HorizontalFlip(p=0.5),\n",
    "        A.VerticalFlip(p=0.5),\n",
    "        A.ShiftScaleRotate(shift_limit=0.1, scale_limit=0.2, rotate_limit=30, p=0.5),\n",
    "        \n",
    "        # Color augmentations for H&E stained images\n",
    "        A.RandomBrightnessContrast(brightness_limit=0.2, contrast_limit=0.2, p=0.7),\n",
    "        \n",
    "        # Add some noise occasionally\n",
    "        A.GaussNoise(var_limit=(10, 50), p=0.3),\n",
    "        \n",
    "        # Basic blur\n",
    "        A.GaussianBlur(blur_limit=3, p=0.3),\n",
    "        \n",
    "        # Normalize and convert to tensor\n",
    "        A.Normalize(mean=[0.485, 0.456, 0.406], std=[0.229, 0.224, 0.225]),\n",
    "        ToTensorV2(),\n",
    "    ])\n",
    "    \n",
    "    # Simple transform for validation/test\n",
    "    eval_transform = A.Compose([\n",
    "        A.Resize(120, 120),\n",
    "        A.Normalize(mean=[0.485, 0.456, 0.406], std=[0.229, 0.224, 0.225]),\n",
    "        ToTensorV2(),\n",
    "    ])\n",
    "    \n",
    "    return train_transform, eval_transform\n",
    "\n",
    "# Main execution function with class weighting for imbalanced data\n",
    "def run_weighted_gradual_fc_training(data_dir, batch_size=32, num_epochs=20, learning_rate=0.001, model_type='custom'):\n",
    "    # Get transforms\n",
    "    train_transform, eval_transform = get_albumentation_transforms()\n",
    "    \n",
    "    # Create dataset\n",
    "    dataset = GasHisSDBDataset(root_dir=data_dir)\n",
    "    \n",
    "    # Get class counts for weighting\n",
    "    normal_count = dataset.normal_count\n",
    "    abnormal_count = dataset.abnormal_count\n",
    "    total_count = len(dataset)\n",
    "    \n",
    "    # Calculate class weights for loss function (if normal_count is 0, handle it)\n",
    "    if normal_count == 0:\n",
    "        print(\"Warning: No normal samples found. Using default weights.\")\n",
    "        weights = torch.tensor([1.0, 1.0])\n",
    "    else:\n",
    "        # Method 1: Inverse class frequency\n",
    "        weights_inverse = torch.tensor([total_count/normal_count, total_count/abnormal_count])\n",
    "        \n",
    "        # Method 2: Inverse square root of class frequency (less aggressive balancing)\n",
    "        weights_sqrt = torch.tensor([\n",
    "            np.sqrt(total_count/normal_count), \n",
    "            np.sqrt(total_count/abnormal_count)\n",
    "        ])\n",
    "        \n",
    "        # Method 3: Balanced weighting (sum to 1)\n",
    "        weights_balanced = torch.tensor([abnormal_count/total_count, normal_count/total_count])\n",
    "        \n",
    "        # Choose the weighting method (method 1 is most common)\n",
    "        weights = weights_inverse\n",
    "    \n",
    "    print(f\"Class weights for loss function: {weights}\")\n",
    "    \n",
    "    # Split dataset\n",
    "    dataset_size = len(dataset)\n",
    "    train_size = int(0.7 * dataset_size)\n",
    "    val_size = int(0.15 * dataset_size)\n",
    "    test_size = dataset_size - train_size - val_size\n",
    "    \n",
    "    # Random split with fixed seed for reproducibility\n",
    "    train_subset, val_subset, test_subset = random_split(\n",
    "        dataset, [train_size, val_size, test_size], \n",
    "        generator=torch.Generator().manual_seed(42)\n",
    "    )\n",
    "    \n",
    "    # Create transformed datasets\n",
    "    train_dataset = TransformedSubset(train_subset, train_transform)\n",
    "    val_dataset = TransformedSubset(val_subset, eval_transform)\n",
    "    test_dataset = TransformedSubset(test_subset, eval_transform)\n",
    "    \n",
    "    # Create data loaders\n",
    "    train_loader = DataLoader(train_dataset, batch_size=batch_size, shuffle=True, num_workers=4)\n",
    "    val_loader = DataLoader(val_dataset, batch_size=batch_size, shuffle=False, num_workers=4)\n",
    "    test_loader = DataLoader(test_dataset, batch_size=batch_size, shuffle=False, num_workers=4)\n",
    "    \n",
    "    print(f\"Dataset split: {train_size} training, {val_size} validation, {test_size} test samples\")\n",
    "    \n",
    "    # Create model\n",
    "    if model_type == 'custom':\n",
    "        model = GradualFCGastricCNN(num_classes=2)\n",
    "        print(\"Using custom CNN with gradual fully connected layer reduction\")\n",
    "        print(\"Architecture: 12,544 -> 4096 -> 2048 -> 1024 -> 512 -> 256 -> 128 -> 64 -> 32 -> 2\")\n",
    "    else:  # 'resnet' or other\n",
    "        model = create_gradual_fc_resnet_model(num_classes=2)\n",
    "        print(\"Using ResNet-18 with gradual fully connected layer reduction\")\n",
    "        print(f\"Architecture: {model.fc[0].in_features} -> 2048 -> 1024 -> 512 -> 256 -> 128 -> 64 -> 32 -> 2\")\n",
    "    \n",
    "    # Count parameters\n",
    "    total_params = sum(p.numel() for p in model.parameters())\n",
    "    trainable_params = sum(p.numel() for p in model.parameters() if p.requires_grad)\n",
    "    print(f\"Total parameters: {total_params:,}\")\n",
    "    print(f\"Trainable parameters: {trainable_params:,}\")\n",
    "    \n",
    "    model = model.to(device)\n",
    "    \n",
    "    # Loss function with class weights\n",
    "    weights = weights.to(device)\n",
    "    criterion = nn.CrossEntropyLoss(weight=weights)\n",
    "    print(f\"Using weighted CrossEntropyLoss with weights: {weights}\")\n",
    "    \n",
    "    # Loss function and optimizer\n",
    "    optimizer = optim.Adam(model.parameters(), lr=learning_rate, weight_decay=1e-5)\n",
    "    \n",
    "    # Learning rate scheduler\n",
    "    scheduler = optim.lr_scheduler.ReduceLROnPlateau(\n",
    "        optimizer, mode='min', factor=0.1, patience=5, verbose=True\n",
    "    )\n",
    "    \n",
    "    # Train the model\n",
    "    print(f\"Training {model_type} model for {num_epochs} epochs with class weighting...\")\n",
    "    model, history = train_model(\n",
    "        model, train_loader, val_loader, criterion, optimizer, scheduler, num_epochs\n",
    "    )\n",
    "    \n",
    "    # Plot training history\n",
    "    plot_training_history(history)\n",
    "    \n",
    "    # Evaluate the model\n",
    "    print(\"\\nEvaluating model on test set:\")\n",
    "    metrics = evaluate_model(model, test_loader)\n",
    "    \n",
    "    # Plot confusion matrix\n",
    "    plot_confusion_matrix(metrics['confusion_matrix'])\n",
    "    \n",
    "    # Save the model with all important information\n",
    "    os.makedirs('models', exist_ok=True)\n",
    "    torch.save({\n",
    "        'model_state_dict': model.state_dict(),\n",
    "        'class_weights': weights.cpu(),\n",
    "        'metrics': {k: v for k, v in metrics.items() if not isinstance(v, np.ndarray)},\n",
    "        'optimizer_state_dict': optimizer.state_dict(),\n",
    "        'training_history': history\n",
    "    }, f'models/weighted_gradual_fc_gastric_cnn_{model_type}.pth')\n",
    "    \n",
    "    print(f\"Model saved as models/weighted_gradual_fc_gastric_cnn_{model_type}.pth\")\n",
    "    \n",
    "    # Test with different threshold for abnormal class\n",
    "    print(\"\\nEvaluating with different classification thresholds for abnormal class:\")\n",
    "    thresholds = [0.3, 0.4, 0.5, 0.6, 0.7, 0.8]\n",
    "    \n",
    "    for threshold in thresholds:\n",
    "        try:\n",
    "            # Convert probabilities to predictions using custom threshold\n",
    "            custom_preds = [1 if prob[1] >= threshold else 0 for prob in metrics['probabilities']]\n",
    "            \n",
    "            # Calculate metrics with custom threshold\n",
    "            custom_cm = confusion_matrix(metrics['true_labels'], custom_preds)\n",
    "            custom_precision = precision_score(metrics['true_labels'], custom_preds, average='weighted')\n",
    "            custom_recall = recall_score(metrics['true_labels'], custom_preds, average='weighted')\n",
    "            custom_f1 = f1_score(metrics['true_labels'], custom_preds, average='weighted')\n",
    "            \n",
    "            # Class-specific metrics\n",
    "            precision_normal = precision_score(metrics['true_labels'], custom_preds, average=None)[0]\n",
    "            precision_abnormal = precision_score(metrics['true_labels'], custom_preds, average=None)[1]\n",
    "            recall_normal = recall_score(metrics['true_labels'], custom_preds, average=None)[0]\n",
    "            recall_abnormal = recall_score(metrics['true_labels'], custom_preds, average=None)[1]\n",
    "            \n",
    "            print(f\"\\nThreshold {threshold}:\")\n",
    "            print(f\"  Precision: {custom_precision:.4f} (Normal: {precision_normal:.4f}, Abnormal: {precision_abnormal:.4f})\")\n",
    "            print(f\"  Recall: {custom_recall:.4f} (Normal: {recall_normal:.4f}, Abnormal: {recall_abnormal:.4f})\")\n",
    "            print(f\"  F1 Score: {custom_f1:.4f}\")\n",
    "            print(f\"  Confusion Matrix:\\n{custom_cm}\")\n",
    "        except Exception as e:\n",
    "            print(f\"Error evaluating threshold {threshold}: {e}\")\n",
    "    \n",
    "    return model, history, metrics\n",
    "\n",
    "# You can run this in Jupyter notebook with:\n",
    "# model, history, metrics = run_weighted_gradual_fc_training(\n",
    "#     data_dir='/gpfs/scratch/hz3106/Gashisdb_processed/120x120', \n",
    "#     model_type='resnet',  # or 'custom'\n",
    "#     num_epochs=20\n",
    "# )\n",
    "\n",
    "# Function to analyze class distribution in metrics\n",
    "def analyze_class_distribution(metrics):\n",
    "    \"\"\"Analyze the class distribution in predictions and true labels\"\"\"\n",
    "    predictions = metrics['predictions']\n",
    "    true_labels = metrics['true_labels']\n",
    "    \n",
    "    # Count occurrences\n",
    "    true_normal = sum(1 for label in true_labels if label == 0)\n",
    "    true_abnormal = sum(1 for label in true_labels if label == 1)\n",
    "    \n",
    "    pred_normal = sum(1 for pred in predictions if pred == 0)\n",
    "    pred_abnormal = sum(1 for pred in predictions if pred == 1)\n",
    "    \n",
    "    # Calculate percentages\n",
    "    total = len(true_labels)\n",
    "    true_normal_pct = (true_normal / total) * 100\n",
    "    true_abnormal_pct = (true_abnormal / total) * 100\n",
    "    \n",
    "    pred_normal_pct = (pred_normal / total) * 100\n",
    "    pred_abnormal_pct = (pred_abnormal / total) * 100\n",
    "    \n",
    "    # Print summary\n",
    "    print(\"\\nClass Distribution Analysis:\")\n",
    "    print(\"True Labels:\")\n",
    "    print(f\"  - Normal: {true_normal} ({true_normal_pct:.1f}%)\")\n",
    "    print(f\"  - Abnormal: {true_abnormal} ({true_abnormal_pct:.1f}%)\")\n",
    "    print(\"\\nPredicted Labels:\")\n",
    "    print(f\"  - Normal: {pred_normal} ({pred_normal_pct:.1f}%)\")\n",
    "    print(f\"  - Abnormal: {pred_abnormal} ({pred_abnormal_pct:.1f}%)\")\n",
    "    \n",
    "    # Calculate error rates by class\n",
    "    cm = metrics['confusion_matrix']\n",
    "    if cm.shape == (2, 2):  # Binary classification\n",
    "        false_normal_rate = cm[1, 0] / (cm[1, 0] + cm[1, 1]) if (cm[1, 0] + cm[1, 1]) > 0 else 0\n",
    "        false_abnormal_rate = cm[0, 1] / (cm[0, 0] + cm[0, 1]) if (cm[0, 0] + cm[0, 1]) > 0 else 0\n",
    "        \n",
    "        print(\"\\nError Rates:\")\n",
    "        print(f\"  - False Normal Rate (abnormal classified as normal): {false_normal_rate:.2%}\")\n",
    "        print(f\"  - False Abnormal Rate (normal classified as abnormal): {false_abnormal_rate:.2%}\")\n",
    "    \n",
    "    # Visualize with bar chart\n",
    "    plt.figure(figsize=(10, 6))\n",
    "    \n",
    "    # Plot true vs predicted counts\n",
    "    categories = ['Normal', 'Abnormal']\n",
    "    true_counts = [true_normal, true_abnormal]\n",
    "    pred_counts = [pred_normal, pred_abnormal]\n",
    "    \n",
    "    x = np.arange(len(categories))\n",
    "    width = 0.35\n",
    "    \n",
    "    plt.bar(x - width/2, true_counts, width, label='True Labels')\n",
    "    plt.bar(x + width/2, pred_counts, width, label='Predicted Labels')\n",
    "    \n",
    "    plt.xlabel('Class')\n",
    "    plt.ylabel('Count')\n",
    "    plt.title('True vs Predicted Class Distribution')\n",
    "    plt.xticks(x, categories)\n",
    "    plt.legend()\n",
    "    plt.grid(axis='y', linestyle='--', alpha=0.7)\n",
    "    \n",
    "    for i, v in enumerate(true_counts):\n",
    "        plt.text(i - width/2, v + 5, str(v), ha='center')\n",
    "    \n",
    "    for i, v in enumerate(pred_counts):\n",
    "        plt.text(i + width/2, v + 5, str(v), ha='center')\n",
    "    \n",
    "    plt.tight_layout()\n",
    "    plt.savefig('class_distribution.png')\n",
    "    plt.show()\n",
    "    \n",
    "    return {\n",
    "        'true_normal': true_normal,\n",
    "        'true_abnormal': true_abnormal,\n",
    "        'pred_normal': pred_normal,\n",
    "        'pred_abnormal': pred_abnormal,\n",
    "        'false_normal_rate': false_normal_rate if cm.shape == (2, 2) else None,\n",
    "        'false_abnormal_rate': false_abnormal_rate if cm.shape == (2, 2) else None\n",
    "    }\n",
    "\n",
    "# Function to visualize prediction probabilities by class\n",
    "def visualize_probabilities(metrics):\n",
    "    \"\"\"Visualize the distribution of prediction probabilities by true class\"\"\"\n",
    "    probabilities = metrics['probabilities']\n",
    "    true_labels = metrics['true_labels']\n",
    "    \n",
    "    # Separate probabilities by true class\n",
    "    normal_probs = [prob[1] for prob, label in zip(probabilities, true_labels) if label == 0]\n",
    "    abnormal_probs = [prob[1] for prob, label in zip(probabilities, true_labels) if label == 1]\n",
    "    \n",
    "    plt.figure(figsize=(12, 6))\n",
    "    \n",
    "    # Plot histograms of probabilities\n",
    "    plt.subplot(1, 2, 1)\n",
    "    if normal_probs:\n",
    "        plt.hist(normal_probs, bins=20, alpha=0.7, label='Normal Samples')\n",
    "        plt.axvline(x=0.5, color='red', linestyle='--', label='Decision Threshold')\n",
    "        plt.xlabel('Probability of Abnormal Class')\n",
    "        plt.ylabel('Count')\n",
    "        plt.title('Distribution of Probabilities for Normal Samples')\n",
    "        plt.legend()\n",
    "        plt.grid(True, linestyle='--', alpha=0.7)\n",
    "    else:\n",
    "        plt.text(0.5, 0.5, 'No normal samples in dataset', \n",
    "                 horizontalalignment='center', verticalalignment='center')\n",
    "    \n",
    "    plt.subplot(1, 2, 2)\n",
    "    if abnormal_probs:\n",
    "        plt.hist(abnormal_probs, bins=20, alpha=0.7, label='Abnormal Samples')\n",
    "        plt.axvline(x=0.5, color='red', linestyle='--', label='Decision Threshold')\n",
    "        plt.xlabel('Probability of Abnormal Class')\n",
    "        plt.ylabel('Count')\n",
    "        plt.title('Distribution of Probabilities for Abnormal Samples')\n",
    "        plt.legend()\n",
    "        plt.grid(True, linestyle='--', alpha=0.7)\n",
    "    else:\n",
    "        plt.text(0.5, 0.5, 'No abnormal samples in dataset', \n",
    "                 horizontalalignment='center', verticalalignment='center')\n",
    "    \n",
    "    plt.tight_layout()\n",
    "    plt.savefig('probability_distributions.png')\n",
    "    plt.show()\n",
    "    \n",
    "    # Calculate statistics\n",
    "    if normal_probs:\n",
    "        normal_avg = np.mean(normal_probs)\n",
    "        normal_std = np.std(normal_probs)\n",
    "        normal_below_threshold = sum(1 for p in normal_probs if p < 0.5) / len(normal_probs)\n",
    "    else:\n",
    "        normal_avg = None\n",
    "        normal_std = None\n",
    "        normal_below_threshold = None\n",
    "        \n",
    "    if abnormal_probs:\n",
    "        abnormal_avg = np.mean(abnormal_probs)\n",
    "        abnormal_std = np.std(abnormal_probs)\n",
    "        abnormal_above_threshold = sum(1 for p in abnormal_probs if p >= 0.5) / len(abnormal_probs)\n",
    "    else:\n",
    "        abnormal_avg = None\n",
    "        abnormal_std = None\n",
    "        abnormal_above_threshold = None\n",
    "    \n",
    "    print(\"\\nProbability Distribution Analysis:\")\n",
    "    if normal_avg is not None:\n",
    "        print(f\"Normal samples (true negative):\")\n",
    "        print(f\"  - Average probability of being abnormal: {normal_avg:.4f}\")\n",
    "        print(f\"  - Standard deviation: {normal_std:.4f}\")\n",
    "        print(f\"  - Correctly classified as normal: {normal_below_threshold:.2%}\")\n",
    "    else:\n",
    "        print(\"No normal samples in dataset\")\n",
    "        \n",
    "    if abnormal_avg is not None:\n",
    "        print(f\"\\nAbnormal samples (true positive):\")\n",
    "        print(f\"  - Average probability of being abnormal: {abnormal_avg:.4f}\")\n",
    "        print(f\"  - Standard deviation: {abnormal_std:.4f}\")\n",
    "        print(f\"  - Correctly classified as abnormal: {abnormal_above_threshold:.2%}\")\n",
    "    else:\n",
    "        print(\"No abnormal samples in dataset\")\n",
    "    \n",
    "    return {\n",
    "        'normal_avg': normal_avg,\n",
    "        'normal_std': normal_std,\n",
    "        'normal_below_threshold': normal_below_threshold,\n",
    "        'abnormal_avg': abnormal_avg,\n",
    "        'abnormal_std': abnormal_std,\n",
    "        'abnormal_above_threshold': abnormal_above_threshold\n",
    "    }"
   ]
  },
  {
   "cell_type": "code",
   "execution_count": 3,
   "id": "1e08fdfd",
   "metadata": {},
   "outputs": [
    {
     "name": "stderr",
     "output_type": "stream",
     "text": [
      "/gpfs/home/hz3106/.local/lib/python3.11/site-packages/albumentations/core/validation.py:87: UserWarning: ShiftScaleRotate is a special case of Affine transform. Please use Affine transform instead.\n",
      "  original_init(self, **validated_kwargs)\n",
      "/tmp/ipykernel_998122/508164666.py:597: UserWarning: Argument(s) 'var_limit' are not valid for transform GaussNoise\n",
      "  A.GaussNoise(var_limit=(10, 50), p=0.3),\n"
     ]
    },
    {
     "name": "stdout",
     "output_type": "stream",
     "text": [
      "Dataset loaded with 146937 images:\n",
      "  - Normal: 21961\n",
      "  - Abnormal: 124976\n",
      "  - Ratio (Abnormal:Normal): 5.69:1\n",
      "Class weights for loss function: tensor([6.6908, 1.1757])\n",
      "Dataset split: 102855 training, 22040 validation, 22042 test samples\n"
     ]
    },
    {
     "name": "stderr",
     "output_type": "stream",
     "text": [
      "/gpfs/home/hz3106/.local/lib/python3.11/site-packages/torch/utils/data/dataloader.py:624: UserWarning: This DataLoader will create 4 worker processes in total. Our suggested max number of worker in current system is 1, which is smaller than what this DataLoader is going to create. Please be aware that excessive worker creation might get DataLoader running slow or even freeze, lower the worker number to avoid potential slowness/freeze if necessary.\n",
      "  warnings.warn(\n",
      "/gpfs/home/hz3106/.local/lib/python3.11/site-packages/torchvision/models/_utils.py:208: UserWarning: The parameter 'pretrained' is deprecated since 0.13 and may be removed in the future, please use 'weights' instead.\n",
      "  warnings.warn(\n",
      "/gpfs/home/hz3106/.local/lib/python3.11/site-packages/torchvision/models/_utils.py:223: UserWarning: Arguments other than a weight enum or `None` for 'weights' are deprecated since 0.13 and may be removed in the future. The current behavior is equivalent to passing `weights=ResNet18_Weights.IMAGENET1K_V1`. You can also use `weights=ResNet18_Weights.DEFAULT` to get the most up-to-date weights.\n",
      "  warnings.warn(msg)\n"
     ]
    },
    {
     "name": "stdout",
     "output_type": "stream",
     "text": [
      "Using ResNet-18 with gradual fully connected layer reduction\n",
      "Architecture: 512 -> 2048 -> 1024 -> 512 -> 256 -> 128 -> 64 -> 32 -> 2\n",
      "Total parameters: 15,032,866\n",
      "Trainable parameters: 14,054,626\n",
      "Using weighted CrossEntropyLoss with weights: tensor([6.6908, 1.1757], device='cuda:0')\n",
      "Training resnet model for 20 epochs with class weighting...\n",
      "Epoch 1/20\n",
      "----------\n"
     ]
    },
    {
     "name": "stderr",
     "output_type": "stream",
     "text": [
      "/gpfs/home/hz3106/.local/lib/python3.11/site-packages/torch/optim/lr_scheduler.py:62: UserWarning: The verbose parameter is deprecated. Please use get_last_lr() to access the learning rate.\n",
      "  warnings.warn(\n"
     ]
    },
    {
     "data": {
      "application/vnd.jupyter.widget-view+json": {
       "model_id": "f9b3666b59e14c719e610700c0d33103",
       "version_major": 2,
       "version_minor": 0
      },
      "text/plain": [
       "train:   0%|          | 0/3215 [00:00<?, ?it/s]"
      ]
     },
     "metadata": {},
     "output_type": "display_data"
    },
    {
     "name": "stdout",
     "output_type": "stream",
     "text": [
      "train Loss: 0.5344 Acc: 0.7526 F1: 0.7820\n"
     ]
    },
    {
     "data": {
      "application/vnd.jupyter.widget-view+json": {
       "model_id": "a1d2161c9cf8474e941007b14330c249",
       "version_major": 2,
       "version_minor": 0
      },
      "text/plain": [
       "val:   0%|          | 0/689 [00:00<?, ?it/s]"
      ]
     },
     "metadata": {},
     "output_type": "display_data"
    },
    {
     "name": "stderr",
     "output_type": "stream",
     "text": [
      "/gpfs/home/hz3106/.local/lib/python3.11/site-packages/torch/utils/data/dataloader.py:624: UserWarning: This DataLoader will create 4 worker processes in total. Our suggested max number of worker in current system is 1, which is smaller than what this DataLoader is going to create. Please be aware that excessive worker creation might get DataLoader running slow or even freeze, lower the worker number to avoid potential slowness/freeze if necessary.\n",
      "  warnings.warn(\n"
     ]
    },
    {
     "name": "stdout",
     "output_type": "stream",
     "text": [
      "val Loss: 0.3372 Acc: 0.8233 F1: 0.8443\n",
      "New best model (F1: 0.8443)\n",
      "\n",
      "Epoch 2/20\n",
      "----------\n"
     ]
    },
    {
     "data": {
      "application/vnd.jupyter.widget-view+json": {
       "model_id": "b40b28c2c62b4af48792491418bdb7de",
       "version_major": 2,
       "version_minor": 0
      },
      "text/plain": [
       "train:   0%|          | 0/3215 [00:00<?, ?it/s]"
      ]
     },
     "metadata": {},
     "output_type": "display_data"
    },
    {
     "name": "stderr",
     "output_type": "stream",
     "text": [
      "/gpfs/home/hz3106/.local/lib/python3.11/site-packages/torch/utils/data/dataloader.py:624: UserWarning: This DataLoader will create 4 worker processes in total. Our suggested max number of worker in current system is 1, which is smaller than what this DataLoader is going to create. Please be aware that excessive worker creation might get DataLoader running slow or even freeze, lower the worker number to avoid potential slowness/freeze if necessary.\n",
      "  warnings.warn(\n"
     ]
    },
    {
     "name": "stdout",
     "output_type": "stream",
     "text": [
      "train Loss: 0.4510 Acc: 0.8126 F1: 0.8314\n"
     ]
    },
    {
     "data": {
      "application/vnd.jupyter.widget-view+json": {
       "model_id": "3960fcfb9a2a476386a89bf566fa5a23",
       "version_major": 2,
       "version_minor": 0
      },
      "text/plain": [
       "val:   0%|          | 0/689 [00:00<?, ?it/s]"
      ]
     },
     "metadata": {},
     "output_type": "display_data"
    },
    {
     "name": "stderr",
     "output_type": "stream",
     "text": [
      "/gpfs/home/hz3106/.local/lib/python3.11/site-packages/torch/utils/data/dataloader.py:624: UserWarning: This DataLoader will create 4 worker processes in total. Our suggested max number of worker in current system is 1, which is smaller than what this DataLoader is going to create. Please be aware that excessive worker creation might get DataLoader running slow or even freeze, lower the worker number to avoid potential slowness/freeze if necessary.\n",
      "  warnings.warn(\n"
     ]
    },
    {
     "name": "stdout",
     "output_type": "stream",
     "text": [
      "val Loss: 0.2863 Acc: 0.8566 F1: 0.8717\n",
      "New best model (F1: 0.8717)\n",
      "\n",
      "Epoch 3/20\n",
      "----------\n"
     ]
    },
    {
     "data": {
      "application/vnd.jupyter.widget-view+json": {
       "model_id": "c896f66d61ad48268679610c112bd920",
       "version_major": 2,
       "version_minor": 0
      },
      "text/plain": [
       "train:   0%|          | 0/3215 [00:00<?, ?it/s]"
      ]
     },
     "metadata": {},
     "output_type": "display_data"
    },
    {
     "name": "stderr",
     "output_type": "stream",
     "text": [
      "/gpfs/home/hz3106/.local/lib/python3.11/site-packages/torch/utils/data/dataloader.py:624: UserWarning: This DataLoader will create 4 worker processes in total. Our suggested max number of worker in current system is 1, which is smaller than what this DataLoader is going to create. Please be aware that excessive worker creation might get DataLoader running slow or even freeze, lower the worker number to avoid potential slowness/freeze if necessary.\n",
      "  warnings.warn(\n"
     ]
    },
    {
     "name": "stdout",
     "output_type": "stream",
     "text": [
      "train Loss: 0.4217 Acc: 0.8244 F1: 0.8416\n"
     ]
    },
    {
     "data": {
      "application/vnd.jupyter.widget-view+json": {
       "model_id": "3c582c2344314b6d8a7e1c67d2e78aab",
       "version_major": 2,
       "version_minor": 0
      },
      "text/plain": [
       "val:   0%|          | 0/689 [00:00<?, ?it/s]"
      ]
     },
     "metadata": {},
     "output_type": "display_data"
    },
    {
     "name": "stderr",
     "output_type": "stream",
     "text": [
      "/gpfs/home/hz3106/.local/lib/python3.11/site-packages/torch/utils/data/dataloader.py:624: UserWarning: This DataLoader will create 4 worker processes in total. Our suggested max number of worker in current system is 1, which is smaller than what this DataLoader is going to create. Please be aware that excessive worker creation might get DataLoader running slow or even freeze, lower the worker number to avoid potential slowness/freeze if necessary.\n",
      "  warnings.warn(\n"
     ]
    },
    {
     "name": "stdout",
     "output_type": "stream",
     "text": [
      "val Loss: 0.2766 Acc: 0.8553 F1: 0.8710\n",
      "\n",
      "Epoch 4/20\n",
      "----------\n"
     ]
    },
    {
     "data": {
      "application/vnd.jupyter.widget-view+json": {
       "model_id": "d8ea3b955ad84406913ec91f120b26ac",
       "version_major": 2,
       "version_minor": 0
      },
      "text/plain": [
       "train:   0%|          | 0/3215 [00:00<?, ?it/s]"
      ]
     },
     "metadata": {},
     "output_type": "display_data"
    },
    {
     "name": "stderr",
     "output_type": "stream",
     "text": [
      "/gpfs/home/hz3106/.local/lib/python3.11/site-packages/torch/utils/data/dataloader.py:624: UserWarning: This DataLoader will create 4 worker processes in total. Our suggested max number of worker in current system is 1, which is smaller than what this DataLoader is going to create. Please be aware that excessive worker creation might get DataLoader running slow or even freeze, lower the worker number to avoid potential slowness/freeze if necessary.\n",
      "  warnings.warn(\n"
     ]
    },
    {
     "name": "stdout",
     "output_type": "stream",
     "text": [
      "train Loss: 0.4038 Acc: 0.8313 F1: 0.8475\n"
     ]
    },
    {
     "data": {
      "application/vnd.jupyter.widget-view+json": {
       "model_id": "f79694cb13ba4f0a825d4fbd4789a92a",
       "version_major": 2,
       "version_minor": 0
      },
      "text/plain": [
       "val:   0%|          | 0/689 [00:00<?, ?it/s]"
      ]
     },
     "metadata": {},
     "output_type": "display_data"
    },
    {
     "name": "stderr",
     "output_type": "stream",
     "text": [
      "/gpfs/home/hz3106/.local/lib/python3.11/site-packages/torch/utils/data/dataloader.py:624: UserWarning: This DataLoader will create 4 worker processes in total. Our suggested max number of worker in current system is 1, which is smaller than what this DataLoader is going to create. Please be aware that excessive worker creation might get DataLoader running slow or even freeze, lower the worker number to avoid potential slowness/freeze if necessary.\n",
      "  warnings.warn(\n"
     ]
    },
    {
     "name": "stdout",
     "output_type": "stream",
     "text": [
      "val Loss: 0.2367 Acc: 0.8968 F1: 0.9050\n",
      "New best model (F1: 0.9050)\n",
      "\n",
      "Epoch 5/20\n",
      "----------\n"
     ]
    },
    {
     "data": {
      "application/vnd.jupyter.widget-view+json": {
       "model_id": "f6c2b3efe3c743f9b3a890c0c627daef",
       "version_major": 2,
       "version_minor": 0
      },
      "text/plain": [
       "train:   0%|          | 0/3215 [00:00<?, ?it/s]"
      ]
     },
     "metadata": {},
     "output_type": "display_data"
    },
    {
     "name": "stderr",
     "output_type": "stream",
     "text": [
      "/gpfs/home/hz3106/.local/lib/python3.11/site-packages/torch/utils/data/dataloader.py:624: UserWarning: This DataLoader will create 4 worker processes in total. Our suggested max number of worker in current system is 1, which is smaller than what this DataLoader is going to create. Please be aware that excessive worker creation might get DataLoader running slow or even freeze, lower the worker number to avoid potential slowness/freeze if necessary.\n",
      "  warnings.warn(\n"
     ]
    },
    {
     "name": "stdout",
     "output_type": "stream",
     "text": [
      "train Loss: 0.3903 Acc: 0.8471 F1: 0.8603\n"
     ]
    },
    {
     "data": {
      "application/vnd.jupyter.widget-view+json": {
       "model_id": "e606162d9c2d4c53af2e4ae6823f434a",
       "version_major": 2,
       "version_minor": 0
      },
      "text/plain": [
       "val:   0%|          | 0/689 [00:00<?, ?it/s]"
      ]
     },
     "metadata": {},
     "output_type": "display_data"
    },
    {
     "name": "stderr",
     "output_type": "stream",
     "text": [
      "/gpfs/home/hz3106/.local/lib/python3.11/site-packages/torch/utils/data/dataloader.py:624: UserWarning: This DataLoader will create 4 worker processes in total. Our suggested max number of worker in current system is 1, which is smaller than what this DataLoader is going to create. Please be aware that excessive worker creation might get DataLoader running slow or even freeze, lower the worker number to avoid potential slowness/freeze if necessary.\n",
      "  warnings.warn(\n"
     ]
    },
    {
     "name": "stdout",
     "output_type": "stream",
     "text": [
      "val Loss: 0.2501 Acc: 0.9341 F1: 0.9360\n",
      "New best model (F1: 0.9360)\n",
      "\n",
      "Epoch 6/20\n",
      "----------\n"
     ]
    },
    {
     "data": {
      "application/vnd.jupyter.widget-view+json": {
       "model_id": "9c9872557e9e403fb01903dc0da6691e",
       "version_major": 2,
       "version_minor": 0
      },
      "text/plain": [
       "train:   0%|          | 0/3215 [00:00<?, ?it/s]"
      ]
     },
     "metadata": {},
     "output_type": "display_data"
    },
    {
     "name": "stderr",
     "output_type": "stream",
     "text": [
      "/gpfs/home/hz3106/.local/lib/python3.11/site-packages/torch/utils/data/dataloader.py:624: UserWarning: This DataLoader will create 4 worker processes in total. Our suggested max number of worker in current system is 1, which is smaller than what this DataLoader is going to create. Please be aware that excessive worker creation might get DataLoader running slow or even freeze, lower the worker number to avoid potential slowness/freeze if necessary.\n",
      "  warnings.warn(\n"
     ]
    },
    {
     "name": "stdout",
     "output_type": "stream",
     "text": [
      "train Loss: 0.3812 Acc: 0.8442 F1: 0.8585\n"
     ]
    },
    {
     "data": {
      "application/vnd.jupyter.widget-view+json": {
       "model_id": "08e77f663d3340b0801be46a4d24a5c6",
       "version_major": 2,
       "version_minor": 0
      },
      "text/plain": [
       "val:   0%|          | 0/689 [00:00<?, ?it/s]"
      ]
     },
     "metadata": {},
     "output_type": "display_data"
    },
    {
     "name": "stderr",
     "output_type": "stream",
     "text": [
      "/gpfs/home/hz3106/.local/lib/python3.11/site-packages/torch/utils/data/dataloader.py:624: UserWarning: This DataLoader will create 4 worker processes in total. Our suggested max number of worker in current system is 1, which is smaller than what this DataLoader is going to create. Please be aware that excessive worker creation might get DataLoader running slow or even freeze, lower the worker number to avoid potential slowness/freeze if necessary.\n",
      "  warnings.warn(\n"
     ]
    },
    {
     "name": "stdout",
     "output_type": "stream",
     "text": [
      "val Loss: 0.2296 Acc: 0.8797 F1: 0.8911\n",
      "\n",
      "Epoch 7/20\n",
      "----------\n"
     ]
    },
    {
     "data": {
      "application/vnd.jupyter.widget-view+json": {
       "model_id": "bf406b53fc9744d8827645007c07a07f",
       "version_major": 2,
       "version_minor": 0
      },
      "text/plain": [
       "train:   0%|          | 0/3215 [00:00<?, ?it/s]"
      ]
     },
     "metadata": {},
     "output_type": "display_data"
    },
    {
     "name": "stderr",
     "output_type": "stream",
     "text": [
      "/gpfs/home/hz3106/.local/lib/python3.11/site-packages/torch/utils/data/dataloader.py:624: UserWarning: This DataLoader will create 4 worker processes in total. Our suggested max number of worker in current system is 1, which is smaller than what this DataLoader is going to create. Please be aware that excessive worker creation might get DataLoader running slow or even freeze, lower the worker number to avoid potential slowness/freeze if necessary.\n",
      "  warnings.warn(\n"
     ]
    },
    {
     "name": "stdout",
     "output_type": "stream",
     "text": [
      "train Loss: 0.3820 Acc: 0.8478 F1: 0.8612\n"
     ]
    },
    {
     "data": {
      "application/vnd.jupyter.widget-view+json": {
       "model_id": "ee13b16b066443cb90b3b1039e9dce72",
       "version_major": 2,
       "version_minor": 0
      },
      "text/plain": [
       "val:   0%|          | 0/689 [00:00<?, ?it/s]"
      ]
     },
     "metadata": {},
     "output_type": "display_data"
    },
    {
     "name": "stderr",
     "output_type": "stream",
     "text": [
      "/gpfs/home/hz3106/.local/lib/python3.11/site-packages/torch/utils/data/dataloader.py:624: UserWarning: This DataLoader will create 4 worker processes in total. Our suggested max number of worker in current system is 1, which is smaller than what this DataLoader is going to create. Please be aware that excessive worker creation might get DataLoader running slow or even freeze, lower the worker number to avoid potential slowness/freeze if necessary.\n",
      "  warnings.warn(\n"
     ]
    },
    {
     "name": "stdout",
     "output_type": "stream",
     "text": [
      "val Loss: 0.2322 Acc: 0.9173 F1: 0.9220\n",
      "\n",
      "Epoch 8/20\n",
      "----------\n"
     ]
    },
    {
     "data": {
      "application/vnd.jupyter.widget-view+json": {
       "model_id": "f6984d7d27274e8ea9b7857912f371cd",
       "version_major": 2,
       "version_minor": 0
      },
      "text/plain": [
       "train:   0%|          | 0/3215 [00:00<?, ?it/s]"
      ]
     },
     "metadata": {},
     "output_type": "display_data"
    },
    {
     "name": "stderr",
     "output_type": "stream",
     "text": [
      "/gpfs/home/hz3106/.local/lib/python3.11/site-packages/torch/utils/data/dataloader.py:624: UserWarning: This DataLoader will create 4 worker processes in total. Our suggested max number of worker in current system is 1, which is smaller than what this DataLoader is going to create. Please be aware that excessive worker creation might get DataLoader running slow or even freeze, lower the worker number to avoid potential slowness/freeze if necessary.\n",
      "  warnings.warn(\n"
     ]
    },
    {
     "name": "stdout",
     "output_type": "stream",
     "text": [
      "train Loss: 0.3744 Acc: 0.8533 F1: 0.8657\n"
     ]
    },
    {
     "data": {
      "application/vnd.jupyter.widget-view+json": {
       "model_id": "39fd2f7b4b544e7fb343a8668dfc86aa",
       "version_major": 2,
       "version_minor": 0
      },
      "text/plain": [
       "val:   0%|          | 0/689 [00:00<?, ?it/s]"
      ]
     },
     "metadata": {},
     "output_type": "display_data"
    },
    {
     "name": "stderr",
     "output_type": "stream",
     "text": [
      "/gpfs/home/hz3106/.local/lib/python3.11/site-packages/torch/utils/data/dataloader.py:624: UserWarning: This DataLoader will create 4 worker processes in total. Our suggested max number of worker in current system is 1, which is smaller than what this DataLoader is going to create. Please be aware that excessive worker creation might get DataLoader running slow or even freeze, lower the worker number to avoid potential slowness/freeze if necessary.\n",
      "  warnings.warn(\n"
     ]
    },
    {
     "name": "stdout",
     "output_type": "stream",
     "text": [
      "val Loss: 0.2151 Acc: 0.9347 F1: 0.9370\n",
      "New best model (F1: 0.9370)\n",
      "\n",
      "Epoch 9/20\n",
      "----------\n"
     ]
    },
    {
     "data": {
      "application/vnd.jupyter.widget-view+json": {
       "model_id": "6263cee4b62a4bc7a464b58dc017f087",
       "version_major": 2,
       "version_minor": 0
      },
      "text/plain": [
       "train:   0%|          | 0/3215 [00:00<?, ?it/s]"
      ]
     },
     "metadata": {},
     "output_type": "display_data"
    },
    {
     "name": "stderr",
     "output_type": "stream",
     "text": [
      "/gpfs/home/hz3106/.local/lib/python3.11/site-packages/torch/utils/data/dataloader.py:624: UserWarning: This DataLoader will create 4 worker processes in total. Our suggested max number of worker in current system is 1, which is smaller than what this DataLoader is going to create. Please be aware that excessive worker creation might get DataLoader running slow or even freeze, lower the worker number to avoid potential slowness/freeze if necessary.\n",
      "  warnings.warn(\n"
     ]
    },
    {
     "name": "stdout",
     "output_type": "stream",
     "text": [
      "train Loss: 0.3719 Acc: 0.8477 F1: 0.8616\n"
     ]
    },
    {
     "data": {
      "application/vnd.jupyter.widget-view+json": {
       "model_id": "c7a3b156d776499fb718066358802614",
       "version_major": 2,
       "version_minor": 0
      },
      "text/plain": [
       "val:   0%|          | 0/689 [00:00<?, ?it/s]"
      ]
     },
     "metadata": {},
     "output_type": "display_data"
    },
    {
     "name": "stderr",
     "output_type": "stream",
     "text": [
      "/gpfs/home/hz3106/.local/lib/python3.11/site-packages/torch/utils/data/dataloader.py:624: UserWarning: This DataLoader will create 4 worker processes in total. Our suggested max number of worker in current system is 1, which is smaller than what this DataLoader is going to create. Please be aware that excessive worker creation might get DataLoader running slow or even freeze, lower the worker number to avoid potential slowness/freeze if necessary.\n",
      "  warnings.warn(\n"
     ]
    },
    {
     "name": "stdout",
     "output_type": "stream",
     "text": [
      "val Loss: 0.2047 Acc: 0.9108 F1: 0.9173\n",
      "\n",
      "Epoch 10/20\n",
      "----------\n"
     ]
    },
    {
     "data": {
      "application/vnd.jupyter.widget-view+json": {
       "model_id": "26fae2afbc3148c7b6035af74faa3d4f",
       "version_major": 2,
       "version_minor": 0
      },
      "text/plain": [
       "train:   0%|          | 0/3215 [00:00<?, ?it/s]"
      ]
     },
     "metadata": {},
     "output_type": "display_data"
    },
    {
     "name": "stderr",
     "output_type": "stream",
     "text": [
      "/gpfs/home/hz3106/.local/lib/python3.11/site-packages/torch/utils/data/dataloader.py:624: UserWarning: This DataLoader will create 4 worker processes in total. Our suggested max number of worker in current system is 1, which is smaller than what this DataLoader is going to create. Please be aware that excessive worker creation might get DataLoader running slow or even freeze, lower the worker number to avoid potential slowness/freeze if necessary.\n",
      "  warnings.warn(\n"
     ]
    },
    {
     "name": "stdout",
     "output_type": "stream",
     "text": [
      "train Loss: 0.3699 Acc: 0.8500 F1: 0.8633\n"
     ]
    },
    {
     "data": {
      "application/vnd.jupyter.widget-view+json": {
       "model_id": "70b2d9cfac2b4ecba9e97f8b19b4362e",
       "version_major": 2,
       "version_minor": 0
      },
      "text/plain": [
       "val:   0%|          | 0/689 [00:00<?, ?it/s]"
      ]
     },
     "metadata": {},
     "output_type": "display_data"
    },
    {
     "name": "stderr",
     "output_type": "stream",
     "text": [
      "/gpfs/home/hz3106/.local/lib/python3.11/site-packages/torch/utils/data/dataloader.py:624: UserWarning: This DataLoader will create 4 worker processes in total. Our suggested max number of worker in current system is 1, which is smaller than what this DataLoader is going to create. Please be aware that excessive worker creation might get DataLoader running slow or even freeze, lower the worker number to avoid potential slowness/freeze if necessary.\n",
      "  warnings.warn(\n"
     ]
    },
    {
     "name": "stdout",
     "output_type": "stream",
     "text": [
      "val Loss: 0.2003 Acc: 0.9392 F1: 0.9412\n",
      "New best model (F1: 0.9412)\n",
      "\n",
      "Epoch 11/20\n",
      "----------\n"
     ]
    },
    {
     "data": {
      "application/vnd.jupyter.widget-view+json": {
       "model_id": "b093278779894812b9563b6c104dfdd5",
       "version_major": 2,
       "version_minor": 0
      },
      "text/plain": [
       "train:   0%|          | 0/3215 [00:00<?, ?it/s]"
      ]
     },
     "metadata": {},
     "output_type": "display_data"
    },
    {
     "name": "stderr",
     "output_type": "stream",
     "text": [
      "/gpfs/home/hz3106/.local/lib/python3.11/site-packages/torch/utils/data/dataloader.py:624: UserWarning: This DataLoader will create 4 worker processes in total. Our suggested max number of worker in current system is 1, which is smaller than what this DataLoader is going to create. Please be aware that excessive worker creation might get DataLoader running slow or even freeze, lower the worker number to avoid potential slowness/freeze if necessary.\n",
      "  warnings.warn(\n"
     ]
    },
    {
     "name": "stdout",
     "output_type": "stream",
     "text": [
      "train Loss: 0.3638 Acc: 0.8530 F1: 0.8658\n"
     ]
    },
    {
     "data": {
      "application/vnd.jupyter.widget-view+json": {
       "model_id": "d5fb9718e2b94dc9a9decddea787ac00",
       "version_major": 2,
       "version_minor": 0
      },
      "text/plain": [
       "val:   0%|          | 0/689 [00:00<?, ?it/s]"
      ]
     },
     "metadata": {},
     "output_type": "display_data"
    },
    {
     "name": "stderr",
     "output_type": "stream",
     "text": [
      "/gpfs/home/hz3106/.local/lib/python3.11/site-packages/torch/utils/data/dataloader.py:624: UserWarning: This DataLoader will create 4 worker processes in total. Our suggested max number of worker in current system is 1, which is smaller than what this DataLoader is going to create. Please be aware that excessive worker creation might get DataLoader running slow or even freeze, lower the worker number to avoid potential slowness/freeze if necessary.\n",
      "  warnings.warn(\n"
     ]
    },
    {
     "name": "stdout",
     "output_type": "stream",
     "text": [
      "val Loss: 0.2183 Acc: 0.8848 F1: 0.8958\n",
      "\n",
      "Epoch 12/20\n",
      "----------\n"
     ]
    },
    {
     "data": {
      "application/vnd.jupyter.widget-view+json": {
       "model_id": "ef8f59be7e8e492598c3cb0afb900030",
       "version_major": 2,
       "version_minor": 0
      },
      "text/plain": [
       "train:   0%|          | 0/3215 [00:00<?, ?it/s]"
      ]
     },
     "metadata": {},
     "output_type": "display_data"
    },
    {
     "name": "stderr",
     "output_type": "stream",
     "text": [
      "/gpfs/home/hz3106/.local/lib/python3.11/site-packages/torch/utils/data/dataloader.py:624: UserWarning: This DataLoader will create 4 worker processes in total. Our suggested max number of worker in current system is 1, which is smaller than what this DataLoader is going to create. Please be aware that excessive worker creation might get DataLoader running slow or even freeze, lower the worker number to avoid potential slowness/freeze if necessary.\n",
      "  warnings.warn(\n"
     ]
    },
    {
     "name": "stdout",
     "output_type": "stream",
     "text": [
      "train Loss: 0.3615 Acc: 0.8490 F1: 0.8628\n"
     ]
    },
    {
     "data": {
      "application/vnd.jupyter.widget-view+json": {
       "model_id": "263ac254a42b415ba9a9b6abce9646c5",
       "version_major": 2,
       "version_minor": 0
      },
      "text/plain": [
       "val:   0%|          | 0/689 [00:00<?, ?it/s]"
      ]
     },
     "metadata": {},
     "output_type": "display_data"
    },
    {
     "name": "stderr",
     "output_type": "stream",
     "text": [
      "/gpfs/home/hz3106/.local/lib/python3.11/site-packages/torch/utils/data/dataloader.py:624: UserWarning: This DataLoader will create 4 worker processes in total. Our suggested max number of worker in current system is 1, which is smaller than what this DataLoader is going to create. Please be aware that excessive worker creation might get DataLoader running slow or even freeze, lower the worker number to avoid potential slowness/freeze if necessary.\n",
      "  warnings.warn(\n"
     ]
    },
    {
     "name": "stdout",
     "output_type": "stream",
     "text": [
      "val Loss: 0.1913 Acc: 0.9334 F1: 0.9365\n",
      "\n",
      "Epoch 13/20\n",
      "----------\n"
     ]
    },
    {
     "data": {
      "application/vnd.jupyter.widget-view+json": {
       "model_id": "8e7e8104fe60484f80b25687a5879224",
       "version_major": 2,
       "version_minor": 0
      },
      "text/plain": [
       "train:   0%|          | 0/3215 [00:00<?, ?it/s]"
      ]
     },
     "metadata": {},
     "output_type": "display_data"
    },
    {
     "name": "stderr",
     "output_type": "stream",
     "text": [
      "/gpfs/home/hz3106/.local/lib/python3.11/site-packages/torch/utils/data/dataloader.py:624: UserWarning: This DataLoader will create 4 worker processes in total. Our suggested max number of worker in current system is 1, which is smaller than what this DataLoader is going to create. Please be aware that excessive worker creation might get DataLoader running slow or even freeze, lower the worker number to avoid potential slowness/freeze if necessary.\n",
      "  warnings.warn(\n"
     ]
    },
    {
     "name": "stdout",
     "output_type": "stream",
     "text": [
      "train Loss: 0.3581 Acc: 0.8528 F1: 0.8658\n"
     ]
    },
    {
     "data": {
      "application/vnd.jupyter.widget-view+json": {
       "model_id": "7a89acb2634d4fbaa1096d7103f9e9a6",
       "version_major": 2,
       "version_minor": 0
      },
      "text/plain": [
       "val:   0%|          | 0/689 [00:00<?, ?it/s]"
      ]
     },
     "metadata": {},
     "output_type": "display_data"
    },
    {
     "name": "stderr",
     "output_type": "stream",
     "text": [
      "/gpfs/home/hz3106/.local/lib/python3.11/site-packages/torch/utils/data/dataloader.py:624: UserWarning: This DataLoader will create 4 worker processes in total. Our suggested max number of worker in current system is 1, which is smaller than what this DataLoader is going to create. Please be aware that excessive worker creation might get DataLoader running slow or even freeze, lower the worker number to avoid potential slowness/freeze if necessary.\n",
      "  warnings.warn(\n"
     ]
    },
    {
     "name": "stdout",
     "output_type": "stream",
     "text": [
      "val Loss: 0.1870 Acc: 0.9389 F1: 0.9412\n",
      "New best model (F1: 0.9412)\n",
      "\n",
      "Epoch 14/20\n",
      "----------\n"
     ]
    },
    {
     "data": {
      "application/vnd.jupyter.widget-view+json": {
       "model_id": "f7d73d7f386f4bbdabee0c24ae4f5a5f",
       "version_major": 2,
       "version_minor": 0
      },
      "text/plain": [
       "train:   0%|          | 0/3215 [00:00<?, ?it/s]"
      ]
     },
     "metadata": {},
     "output_type": "display_data"
    },
    {
     "name": "stderr",
     "output_type": "stream",
     "text": [
      "/gpfs/home/hz3106/.local/lib/python3.11/site-packages/torch/utils/data/dataloader.py:624: UserWarning: This DataLoader will create 4 worker processes in total. Our suggested max number of worker in current system is 1, which is smaller than what this DataLoader is going to create. Please be aware that excessive worker creation might get DataLoader running slow or even freeze, lower the worker number to avoid potential slowness/freeze if necessary.\n",
      "  warnings.warn(\n"
     ]
    },
    {
     "name": "stdout",
     "output_type": "stream",
     "text": [
      "train Loss: 0.3538 Acc: 0.8584 F1: 0.8704\n"
     ]
    },
    {
     "data": {
      "application/vnd.jupyter.widget-view+json": {
       "model_id": "640058bdaa9840ea8ccd4ca3ba3b5955",
       "version_major": 2,
       "version_minor": 0
      },
      "text/plain": [
       "val:   0%|          | 0/689 [00:00<?, ?it/s]"
      ]
     },
     "metadata": {},
     "output_type": "display_data"
    },
    {
     "name": "stderr",
     "output_type": "stream",
     "text": [
      "/gpfs/home/hz3106/.local/lib/python3.11/site-packages/torch/utils/data/dataloader.py:624: UserWarning: This DataLoader will create 4 worker processes in total. Our suggested max number of worker in current system is 1, which is smaller than what this DataLoader is going to create. Please be aware that excessive worker creation might get DataLoader running slow or even freeze, lower the worker number to avoid potential slowness/freeze if necessary.\n",
      "  warnings.warn(\n"
     ]
    },
    {
     "name": "stdout",
     "output_type": "stream",
     "text": [
      "val Loss: 0.1891 Acc: 0.9192 F1: 0.9248\n",
      "\n",
      "Epoch 15/20\n",
      "----------\n"
     ]
    },
    {
     "data": {
      "application/vnd.jupyter.widget-view+json": {
       "model_id": "8ea2a72e164041549ad0f25faf1eab5b",
       "version_major": 2,
       "version_minor": 0
      },
      "text/plain": [
       "train:   0%|          | 0/3215 [00:00<?, ?it/s]"
      ]
     },
     "metadata": {},
     "output_type": "display_data"
    },
    {
     "name": "stderr",
     "output_type": "stream",
     "text": [
      "/gpfs/home/hz3106/.local/lib/python3.11/site-packages/torch/utils/data/dataloader.py:624: UserWarning: This DataLoader will create 4 worker processes in total. Our suggested max number of worker in current system is 1, which is smaller than what this DataLoader is going to create. Please be aware that excessive worker creation might get DataLoader running slow or even freeze, lower the worker number to avoid potential slowness/freeze if necessary.\n",
      "  warnings.warn(\n"
     ]
    },
    {
     "name": "stdout",
     "output_type": "stream",
     "text": [
      "train Loss: 0.3529 Acc: 0.8635 F1: 0.8744\n"
     ]
    },
    {
     "data": {
      "application/vnd.jupyter.widget-view+json": {
       "model_id": "4a9c628d91ed47e5a35778cc93850a52",
       "version_major": 2,
       "version_minor": 0
      },
      "text/plain": [
       "val:   0%|          | 0/689 [00:00<?, ?it/s]"
      ]
     },
     "metadata": {},
     "output_type": "display_data"
    },
    {
     "name": "stderr",
     "output_type": "stream",
     "text": [
      "/gpfs/home/hz3106/.local/lib/python3.11/site-packages/torch/utils/data/dataloader.py:624: UserWarning: This DataLoader will create 4 worker processes in total. Our suggested max number of worker in current system is 1, which is smaller than what this DataLoader is going to create. Please be aware that excessive worker creation might get DataLoader running slow or even freeze, lower the worker number to avoid potential slowness/freeze if necessary.\n",
      "  warnings.warn(\n"
     ]
    },
    {
     "name": "stdout",
     "output_type": "stream",
     "text": [
      "val Loss: 0.1835 Acc: 0.9308 F1: 0.9345\n",
      "\n",
      "Epoch 16/20\n",
      "----------\n"
     ]
    },
    {
     "data": {
      "application/vnd.jupyter.widget-view+json": {
       "model_id": "98fc9ad460654d29bd0134004c2c6007",
       "version_major": 2,
       "version_minor": 0
      },
      "text/plain": [
       "train:   0%|          | 0/3215 [00:00<?, ?it/s]"
      ]
     },
     "metadata": {},
     "output_type": "display_data"
    },
    {
     "name": "stderr",
     "output_type": "stream",
     "text": [
      "/gpfs/home/hz3106/.local/lib/python3.11/site-packages/torch/utils/data/dataloader.py:624: UserWarning: This DataLoader will create 4 worker processes in total. Our suggested max number of worker in current system is 1, which is smaller than what this DataLoader is going to create. Please be aware that excessive worker creation might get DataLoader running slow or even freeze, lower the worker number to avoid potential slowness/freeze if necessary.\n",
      "  warnings.warn(\n"
     ]
    },
    {
     "name": "stdout",
     "output_type": "stream",
     "text": [
      "train Loss: 0.3497 Acc: 0.8593 F1: 0.8711\n"
     ]
    },
    {
     "data": {
      "application/vnd.jupyter.widget-view+json": {
       "model_id": "e8c278d2724b40d0b7a6a1a76db356b4",
       "version_major": 2,
       "version_minor": 0
      },
      "text/plain": [
       "val:   0%|          | 0/689 [00:00<?, ?it/s]"
      ]
     },
     "metadata": {},
     "output_type": "display_data"
    },
    {
     "name": "stderr",
     "output_type": "stream",
     "text": [
      "/gpfs/home/hz3106/.local/lib/python3.11/site-packages/torch/utils/data/dataloader.py:624: UserWarning: This DataLoader will create 4 worker processes in total. Our suggested max number of worker in current system is 1, which is smaller than what this DataLoader is going to create. Please be aware that excessive worker creation might get DataLoader running slow or even freeze, lower the worker number to avoid potential slowness/freeze if necessary.\n",
      "  warnings.warn(\n"
     ]
    },
    {
     "name": "stdout",
     "output_type": "stream",
     "text": [
      "val Loss: 0.1837 Acc: 0.9361 F1: 0.9389\n",
      "\n",
      "Epoch 17/20\n",
      "----------\n"
     ]
    },
    {
     "data": {
      "application/vnd.jupyter.widget-view+json": {
       "model_id": "f148d97cc03e454885b2a06c82bd1fbf",
       "version_major": 2,
       "version_minor": 0
      },
      "text/plain": [
       "train:   0%|          | 0/3215 [00:00<?, ?it/s]"
      ]
     },
     "metadata": {},
     "output_type": "display_data"
    },
    {
     "name": "stderr",
     "output_type": "stream",
     "text": [
      "/gpfs/home/hz3106/.local/lib/python3.11/site-packages/torch/utils/data/dataloader.py:624: UserWarning: This DataLoader will create 4 worker processes in total. Our suggested max number of worker in current system is 1, which is smaller than what this DataLoader is going to create. Please be aware that excessive worker creation might get DataLoader running slow or even freeze, lower the worker number to avoid potential slowness/freeze if necessary.\n",
      "  warnings.warn(\n"
     ]
    },
    {
     "name": "stdout",
     "output_type": "stream",
     "text": [
      "train Loss: 0.3485 Acc: 0.8577 F1: 0.8700\n"
     ]
    },
    {
     "data": {
      "application/vnd.jupyter.widget-view+json": {
       "model_id": "d8f1936833f147dc85d3058326a2ac55",
       "version_major": 2,
       "version_minor": 0
      },
      "text/plain": [
       "val:   0%|          | 0/689 [00:00<?, ?it/s]"
      ]
     },
     "metadata": {},
     "output_type": "display_data"
    },
    {
     "name": "stderr",
     "output_type": "stream",
     "text": [
      "/gpfs/home/hz3106/.local/lib/python3.11/site-packages/torch/utils/data/dataloader.py:624: UserWarning: This DataLoader will create 4 worker processes in total. Our suggested max number of worker in current system is 1, which is smaller than what this DataLoader is going to create. Please be aware that excessive worker creation might get DataLoader running slow or even freeze, lower the worker number to avoid potential slowness/freeze if necessary.\n",
      "  warnings.warn(\n"
     ]
    },
    {
     "name": "stdout",
     "output_type": "stream",
     "text": [
      "val Loss: 0.2206 Acc: 0.8868 F1: 0.8973\n",
      "\n",
      "Epoch 18/20\n",
      "----------\n"
     ]
    },
    {
     "data": {
      "application/vnd.jupyter.widget-view+json": {
       "model_id": "55e074e848444677b4921584a7ef20c6",
       "version_major": 2,
       "version_minor": 0
      },
      "text/plain": [
       "train:   0%|          | 0/3215 [00:00<?, ?it/s]"
      ]
     },
     "metadata": {},
     "output_type": "display_data"
    },
    {
     "name": "stderr",
     "output_type": "stream",
     "text": [
      "/gpfs/home/hz3106/.local/lib/python3.11/site-packages/torch/utils/data/dataloader.py:624: UserWarning: This DataLoader will create 4 worker processes in total. Our suggested max number of worker in current system is 1, which is smaller than what this DataLoader is going to create. Please be aware that excessive worker creation might get DataLoader running slow or even freeze, lower the worker number to avoid potential slowness/freeze if necessary.\n",
      "  warnings.warn(\n"
     ]
    },
    {
     "name": "stdout",
     "output_type": "stream",
     "text": [
      "train Loss: 0.3468 Acc: 0.8617 F1: 0.8732\n"
     ]
    },
    {
     "data": {
      "application/vnd.jupyter.widget-view+json": {
       "model_id": "debee3caeac94590b55f2906dff2612a",
       "version_major": 2,
       "version_minor": 0
      },
      "text/plain": [
       "val:   0%|          | 0/689 [00:00<?, ?it/s]"
      ]
     },
     "metadata": {},
     "output_type": "display_data"
    },
    {
     "name": "stderr",
     "output_type": "stream",
     "text": [
      "/gpfs/home/hz3106/.local/lib/python3.11/site-packages/torch/utils/data/dataloader.py:624: UserWarning: This DataLoader will create 4 worker processes in total. Our suggested max number of worker in current system is 1, which is smaller than what this DataLoader is going to create. Please be aware that excessive worker creation might get DataLoader running slow or even freeze, lower the worker number to avoid potential slowness/freeze if necessary.\n",
      "  warnings.warn(\n"
     ]
    },
    {
     "name": "stdout",
     "output_type": "stream",
     "text": [
      "val Loss: 0.1848 Acc: 0.9044 F1: 0.9123\n",
      "\n",
      "Epoch 19/20\n",
      "----------\n"
     ]
    },
    {
     "data": {
      "application/vnd.jupyter.widget-view+json": {
       "model_id": "3f2923d029a446c5bf7f199fe60f2800",
       "version_major": 2,
       "version_minor": 0
      },
      "text/plain": [
       "train:   0%|          | 0/3215 [00:00<?, ?it/s]"
      ]
     },
     "metadata": {},
     "output_type": "display_data"
    },
    {
     "name": "stderr",
     "output_type": "stream",
     "text": [
      "/gpfs/home/hz3106/.local/lib/python3.11/site-packages/torch/utils/data/dataloader.py:624: UserWarning: This DataLoader will create 4 worker processes in total. Our suggested max number of worker in current system is 1, which is smaller than what this DataLoader is going to create. Please be aware that excessive worker creation might get DataLoader running slow or even freeze, lower the worker number to avoid potential slowness/freeze if necessary.\n",
      "  warnings.warn(\n"
     ]
    },
    {
     "name": "stdout",
     "output_type": "stream",
     "text": [
      "train Loss: 0.3436 Acc: 0.8628 F1: 0.8741\n"
     ]
    },
    {
     "data": {
      "application/vnd.jupyter.widget-view+json": {
       "model_id": "4785c3d164834a638b61763d509c2b9c",
       "version_major": 2,
       "version_minor": 0
      },
      "text/plain": [
       "val:   0%|          | 0/689 [00:00<?, ?it/s]"
      ]
     },
     "metadata": {},
     "output_type": "display_data"
    },
    {
     "name": "stderr",
     "output_type": "stream",
     "text": [
      "/gpfs/home/hz3106/.local/lib/python3.11/site-packages/torch/utils/data/dataloader.py:624: UserWarning: This DataLoader will create 4 worker processes in total. Our suggested max number of worker in current system is 1, which is smaller than what this DataLoader is going to create. Please be aware that excessive worker creation might get DataLoader running slow or even freeze, lower the worker number to avoid potential slowness/freeze if necessary.\n",
      "  warnings.warn(\n"
     ]
    },
    {
     "name": "stdout",
     "output_type": "stream",
     "text": [
      "val Loss: 0.1848 Acc: 0.9255 F1: 0.9298\n",
      "\n",
      "Epoch 20/20\n",
      "----------\n"
     ]
    },
    {
     "data": {
      "application/vnd.jupyter.widget-view+json": {
       "model_id": "0c8ec0a5d6fb43aeb58ffe440fc0ba10",
       "version_major": 2,
       "version_minor": 0
      },
      "text/plain": [
       "train:   0%|          | 0/3215 [00:00<?, ?it/s]"
      ]
     },
     "metadata": {},
     "output_type": "display_data"
    },
    {
     "name": "stderr",
     "output_type": "stream",
     "text": [
      "/gpfs/home/hz3106/.local/lib/python3.11/site-packages/torch/utils/data/dataloader.py:624: UserWarning: This DataLoader will create 4 worker processes in total. Our suggested max number of worker in current system is 1, which is smaller than what this DataLoader is going to create. Please be aware that excessive worker creation might get DataLoader running slow or even freeze, lower the worker number to avoid potential slowness/freeze if necessary.\n",
      "  warnings.warn(\n"
     ]
    },
    {
     "name": "stdout",
     "output_type": "stream",
     "text": [
      "train Loss: 0.3426 Acc: 0.8630 F1: 0.8743\n"
     ]
    },
    {
     "data": {
      "application/vnd.jupyter.widget-view+json": {
       "model_id": "61d530fee947446f8a11093b10cf67cc",
       "version_major": 2,
       "version_minor": 0
      },
      "text/plain": [
       "val:   0%|          | 0/689 [00:00<?, ?it/s]"
      ]
     },
     "metadata": {},
     "output_type": "display_data"
    },
    {
     "name": "stderr",
     "output_type": "stream",
     "text": [
      "/gpfs/home/hz3106/.local/lib/python3.11/site-packages/torch/utils/data/dataloader.py:624: UserWarning: This DataLoader will create 4 worker processes in total. Our suggested max number of worker in current system is 1, which is smaller than what this DataLoader is going to create. Please be aware that excessive worker creation might get DataLoader running slow or even freeze, lower the worker number to avoid potential slowness/freeze if necessary.\n",
      "  warnings.warn(\n"
     ]
    },
    {
     "name": "stdout",
     "output_type": "stream",
     "text": [
      "val Loss: 0.1908 Acc: 0.9301 F1: 0.9338\n",
      "\n"
     ]
    },
    {
     "data": {
      "image/png": "[encoded data removed]",
      "text/plain": [
       "<Figure size 1500x500 with 3 Axes>"
      ]
     },
     "metadata": {},
     "output_type": "display_data"
    },
    {
     "name": "stdout",
     "output_type": "stream",
     "text": [
      "\n",
      "Evaluating model on test set:\n"
     ]
    },
    {
     "data": {
      "application/vnd.jupyter.widget-view+json": {
       "model_id": "828be87aa7e64cc5b5dcdc45efef027b",
       "version_major": 2,
       "version_minor": 0
      },
      "text/plain": [
       "Testing:   0%|          | 0/689 [00:00<?, ?it/s]"
      ]
     },
     "metadata": {},
     "output_type": "display_data"
    },
    {
     "name": "stderr",
     "output_type": "stream",
     "text": [
      "/gpfs/home/hz3106/.local/lib/python3.11/site-packages/torch/utils/data/dataloader.py:624: UserWarning: This DataLoader will create 4 worker processes in total. Our suggested max number of worker in current system is 1, which is smaller than what this DataLoader is going to create. Please be aware that excessive worker creation might get DataLoader running slow or even freeze, lower the worker number to avoid potential slowness/freeze if necessary.\n",
      "  warnings.warn(\n"
     ]
    },
    {
     "name": "stdout",
     "output_type": "stream",
     "text": [
      "Test Accuracy: 0.9304\n",
      "Precision: 0.9424 (Normal: 0.7090, Abnormal: 0.9839)\n",
      "Recall: 0.9304 (Normal: 0.9140, Abnormal: 0.9333)\n",
      "F1 Score: 0.9339 (Normal: 0.7985, Abnormal: 0.9579)\n",
      "\n",
      "Confusion Matrix:\n",
      "[[ 3040   286]\n",
      " [ 1248 17468]]\n"
     ]
    },
    {
     "data": {
      "image/png": "[encoded data removed]",
      "text/plain": [
       "<Figure size 800x600 with 1 Axes>"
      ]
     },
     "metadata": {},
     "output_type": "display_data"
    },
    {
     "data": {
      "image/png": "[encoded data removed]",
      "text/plain": [
       "<Figure size 800x600 with 2 Axes>"
      ]
     },
     "metadata": {},
     "output_type": "display_data"
    },
    {
     "name": "stdout",
     "output_type": "stream",
     "text": [
      "Model saved as models/weighted_gradual_fc_gastric_cnn_resnet.pth\n",
      "\n",
      "Evaluating with different classification thresholds for abnormal class:\n",
      "\n",
      "Threshold 0.3:\n",
      "  Precision: 0.9529 (Normal: 0.8416, Abnormal: 0.9727)\n",
      "  Recall: 0.9528 (Normal: 0.8467, Abnormal: 0.9717)\n",
      "  F1 Score: 0.9529\n",
      "  Confusion Matrix:\n",
      "[[ 2816   510]\n",
      " [  530 18186]]\n",
      "\n",
      "Threshold 0.4:\n",
      "  Precision: 0.9481 (Normal: 0.7710, Abnormal: 0.9795)\n",
      "  Recall: 0.9433 (Normal: 0.8879, Abnormal: 0.9531)\n",
      "  F1 Score: 0.9449\n",
      "  Confusion Matrix:\n",
      "[[ 2953   373]\n",
      " [  877 17839]]\n",
      "\n",
      "Threshold 0.5:\n",
      "  Precision: 0.9424 (Normal: 0.7090, Abnormal: 0.9839)\n",
      "  Recall: 0.9304 (Normal: 0.9140, Abnormal: 0.9333)\n",
      "  F1 Score: 0.9339\n",
      "  Confusion Matrix:\n",
      "[[ 3040   286]\n",
      " [ 1248 17468]]\n",
      "\n",
      "Threshold 0.6:\n",
      "  Precision: 0.9365 (Normal: 0.6460, Abnormal: 0.9881)\n",
      "  Recall: 0.9131 (Normal: 0.9384, Abnormal: 0.9086)\n",
      "  F1 Score: 0.9193\n",
      "  Confusion Matrix:\n",
      "[[ 3121   205]\n",
      " [ 1710 17006]]\n",
      "\n",
      "Threshold 0.7:\n",
      "  Precision: 0.9264 (Normal: 0.5661, Abnormal: 0.9905)\n",
      "  Recall: 0.8827 (Normal: 0.9528, Abnormal: 0.8702)\n",
      "  F1 Score: 0.8938\n",
      "  Confusion Matrix:\n",
      "[[ 3169   157]\n",
      " [ 2429 16287]]\n",
      "\n",
      "Threshold 0.8:\n",
      "  Precision: 0.9196 (Normal: 0.5093, Abnormal: 0.9926)\n",
      "  Recall: 0.8544 (Normal: 0.9648, Abnormal: 0.8348)\n",
      "  F1 Score: 0.8706\n",
      "  Confusion Matrix:\n",
      "[[ 3209   117]\n",
      " [ 3092 15624]]\n",
      "\n",
      "Class Distribution Analysis:\n",
      "True Labels:\n",
      "  - Normal: 3326 (15.1%)\n",
      "  - Abnormal: 18716 (84.9%)\n",
      "\n",
      "Predicted Labels:\n",
      "  - Normal: 4288 (19.5%)\n",
      "  - Abnormal: 17754 (80.5%)\n",
      "\n",
      "Error Rates:\n",
      "  - False Normal Rate (abnormal classified as normal): 6.67%\n",
      "  - False Abnormal Rate (normal classified as abnormal): 8.60%\n"
     ]
    },
    {
     "data": {
      "image/png": "[encoded data removed]",
      "text/plain": [
       "<Figure size 1000x600 with 1 Axes>"
      ]
     },
     "metadata": {},
     "output_type": "display_data"
    },
    {
     "data": {
      "image/png": "[encoded data removed]",
      "text/plain": [
       "<Figure size 1200x600 with 2 Axes>"
      ]
     },
     "metadata": {},
     "output_type": "display_data"
    },
    {
     "name": "stdout",
     "output_type": "stream",
     "text": [
      "\n",
      "Probability Distribution Analysis:\n",
      "Normal samples (true negative):\n",
      "  - Average probability of being abnormal: 0.1333\n",
      "  - Standard deviation: 0.2168\n",
      "  - Correctly classified as normal: 91.40%\n",
      "\n",
      "Abnormal samples (true positive):\n",
      "  - Average probability of being abnormal: 0.8874\n",
      "  - Standard deviation: 0.1884\n",
      "  - Correctly classified as abnormal: 93.33%\n"
     ]
    },
    {
     "data": {
      "text/plain": [
       "{'normal_avg': 0.13333584,\n",
       " 'normal_std': 0.21683405,\n",
       " 'normal_below_threshold': 0.9140108238123873,\n",
       " 'abnormal_avg': 0.88742244,\n",
       " 'abnormal_std': 0.18842082,\n",
       " 'abnormal_above_threshold': 0.9333190852746314}"
      ]
     },
     "execution_count": 3,
     "metadata": {},
     "output_type": "execute_result"
    }
   ],
   "source": [
    "model, history, metrics = run_weighted_gradual_fc_training(\n",
    "    data_dir='/gpfs/scratch/hz3106/Gashisdb/Gashisdb_processed/120x120', \n",
    "    model_type='resnet',  # or 'custom'\n",
    "    num_epochs=20\n",
    ")\n",
    "\n",
    "# Analyze results\n",
    "analyze_class_distribution(metrics)\n",
    "visualize_probabilities(metrics)"
   ]
  }
 ],
 "metadata": {
  "kernelspec": {
   "display_name": "Python 3",
   "language": "python",
   "name": "python3"
  },
  "language_info": {
   "codemirror_mode": {
    "name": "ipython",
    "version": 3
   },
   "file_extension": ".py",
   "mimetype": "text/x-python",
   "name": "python",
   "nbconvert_exporter": "python",
   "pygments_lexer": "ipython3",
   "version": "3.11.5"
  }
 },
 "nbformat": 4,
 "nbformat_minor": 5
}
